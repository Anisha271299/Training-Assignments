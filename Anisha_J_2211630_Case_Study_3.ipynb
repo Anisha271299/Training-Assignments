{
  "cells": [
    {
      "cell_type": "markdown",
      "metadata": {
        "id": "r2ko9YlF24wg"
      },
      "source": [
        "# **Case Study on Zomato to Predict Ratings from the Reviews**"
      ]
    },
    {
      "cell_type": "markdown",
      "metadata": {
        "id": "AQirIYW23RVL"
      },
      "source": [
        "**The objective of this case study is to make a model to predict the rating in a review by using NLP and Machine learning based on the contents of the test review.**"
      ]
    },
    {
      "cell_type": "markdown",
      "metadata": {
        "id": "9ebGwpCl36cm"
      },
      "source": [
        "The dataset contains reviews and ratings.From that,we will try to predict rating based on that."
      ]
    },
    {
      "cell_type": "markdown",
      "metadata": {
        "id": "iX1wVaYpbugZ"
      },
      "source": [
        "# **Importing necessary libraries**"
      ]
    },
    {
      "cell_type": "code",
      "execution_count": 2,
      "metadata": {
        "id": "Sw9G2KZzVCZE"
      },
      "outputs": [],
      "source": [
        "import pandas as pd #used to analyze data\n",
        "import numpy as np #used for working with arrays\n",
        "import re #used to work with Regular Expressions.\n"
      ]
    },
    {
      "cell_type": "code",
      "execution_count": 3,
      "metadata": {
        "colab": {
          "base_uri": "https://localhost:8080/",
          "height": 73
        },
        "id": "b-lx_45naIQm",
        "outputId": "8451e75e-a6e8-4990-b5ff-27d883533a6b"
      },
      "outputs": [
        {
          "output_type": "display_data",
          "data": {
            "text/plain": [
              "<IPython.core.display.HTML object>"
            ],
            "text/html": [
              "\n",
              "     <input type=\"file\" id=\"files-3408ad6b-93b0-4879-aa12-3a6317d29fbc\" name=\"files[]\" multiple disabled\n",
              "        style=\"border:none\" />\n",
              "     <output id=\"result-3408ad6b-93b0-4879-aa12-3a6317d29fbc\">\n",
              "      Upload widget is only available when the cell has been executed in the\n",
              "      current browser session. Please rerun this cell to enable.\n",
              "      </output>\n",
              "      <script>// Copyright 2017 Google LLC\n",
              "//\n",
              "// Licensed under the Apache License, Version 2.0 (the \"License\");\n",
              "// you may not use this file except in compliance with the License.\n",
              "// You may obtain a copy of the License at\n",
              "//\n",
              "//      http://www.apache.org/licenses/LICENSE-2.0\n",
              "//\n",
              "// Unless required by applicable law or agreed to in writing, software\n",
              "// distributed under the License is distributed on an \"AS IS\" BASIS,\n",
              "// WITHOUT WARRANTIES OR CONDITIONS OF ANY KIND, either express or implied.\n",
              "// See the License for the specific language governing permissions and\n",
              "// limitations under the License.\n",
              "\n",
              "/**\n",
              " * @fileoverview Helpers for google.colab Python module.\n",
              " */\n",
              "(function(scope) {\n",
              "function span(text, styleAttributes = {}) {\n",
              "  const element = document.createElement('span');\n",
              "  element.textContent = text;\n",
              "  for (const key of Object.keys(styleAttributes)) {\n",
              "    element.style[key] = styleAttributes[key];\n",
              "  }\n",
              "  return element;\n",
              "}\n",
              "\n",
              "// Max number of bytes which will be uploaded at a time.\n",
              "const MAX_PAYLOAD_SIZE = 100 * 1024;\n",
              "\n",
              "function _uploadFiles(inputId, outputId) {\n",
              "  const steps = uploadFilesStep(inputId, outputId);\n",
              "  const outputElement = document.getElementById(outputId);\n",
              "  // Cache steps on the outputElement to make it available for the next call\n",
              "  // to uploadFilesContinue from Python.\n",
              "  outputElement.steps = steps;\n",
              "\n",
              "  return _uploadFilesContinue(outputId);\n",
              "}\n",
              "\n",
              "// This is roughly an async generator (not supported in the browser yet),\n",
              "// where there are multiple asynchronous steps and the Python side is going\n",
              "// to poll for completion of each step.\n",
              "// This uses a Promise to block the python side on completion of each step,\n",
              "// then passes the result of the previous step as the input to the next step.\n",
              "function _uploadFilesContinue(outputId) {\n",
              "  const outputElement = document.getElementById(outputId);\n",
              "  const steps = outputElement.steps;\n",
              "\n",
              "  const next = steps.next(outputElement.lastPromiseValue);\n",
              "  return Promise.resolve(next.value.promise).then((value) => {\n",
              "    // Cache the last promise value to make it available to the next\n",
              "    // step of the generator.\n",
              "    outputElement.lastPromiseValue = value;\n",
              "    return next.value.response;\n",
              "  });\n",
              "}\n",
              "\n",
              "/**\n",
              " * Generator function which is called between each async step of the upload\n",
              " * process.\n",
              " * @param {string} inputId Element ID of the input file picker element.\n",
              " * @param {string} outputId Element ID of the output display.\n",
              " * @return {!Iterable<!Object>} Iterable of next steps.\n",
              " */\n",
              "function* uploadFilesStep(inputId, outputId) {\n",
              "  const inputElement = document.getElementById(inputId);\n",
              "  inputElement.disabled = false;\n",
              "\n",
              "  const outputElement = document.getElementById(outputId);\n",
              "  outputElement.innerHTML = '';\n",
              "\n",
              "  const pickedPromise = new Promise((resolve) => {\n",
              "    inputElement.addEventListener('change', (e) => {\n",
              "      resolve(e.target.files);\n",
              "    });\n",
              "  });\n",
              "\n",
              "  const cancel = document.createElement('button');\n",
              "  inputElement.parentElement.appendChild(cancel);\n",
              "  cancel.textContent = 'Cancel upload';\n",
              "  const cancelPromise = new Promise((resolve) => {\n",
              "    cancel.onclick = () => {\n",
              "      resolve(null);\n",
              "    };\n",
              "  });\n",
              "\n",
              "  // Wait for the user to pick the files.\n",
              "  const files = yield {\n",
              "    promise: Promise.race([pickedPromise, cancelPromise]),\n",
              "    response: {\n",
              "      action: 'starting',\n",
              "    }\n",
              "  };\n",
              "\n",
              "  cancel.remove();\n",
              "\n",
              "  // Disable the input element since further picks are not allowed.\n",
              "  inputElement.disabled = true;\n",
              "\n",
              "  if (!files) {\n",
              "    return {\n",
              "      response: {\n",
              "        action: 'complete',\n",
              "      }\n",
              "    };\n",
              "  }\n",
              "\n",
              "  for (const file of files) {\n",
              "    const li = document.createElement('li');\n",
              "    li.append(span(file.name, {fontWeight: 'bold'}));\n",
              "    li.append(span(\n",
              "        `(${file.type || 'n/a'}) - ${file.size} bytes, ` +\n",
              "        `last modified: ${\n",
              "            file.lastModifiedDate ? file.lastModifiedDate.toLocaleDateString() :\n",
              "                                    'n/a'} - `));\n",
              "    const percent = span('0% done');\n",
              "    li.appendChild(percent);\n",
              "\n",
              "    outputElement.appendChild(li);\n",
              "\n",
              "    const fileDataPromise = new Promise((resolve) => {\n",
              "      const reader = new FileReader();\n",
              "      reader.onload = (e) => {\n",
              "        resolve(e.target.result);\n",
              "      };\n",
              "      reader.readAsArrayBuffer(file);\n",
              "    });\n",
              "    // Wait for the data to be ready.\n",
              "    let fileData = yield {\n",
              "      promise: fileDataPromise,\n",
              "      response: {\n",
              "        action: 'continue',\n",
              "      }\n",
              "    };\n",
              "\n",
              "    // Use a chunked sending to avoid message size limits. See b/62115660.\n",
              "    let position = 0;\n",
              "    do {\n",
              "      const length = Math.min(fileData.byteLength - position, MAX_PAYLOAD_SIZE);\n",
              "      const chunk = new Uint8Array(fileData, position, length);\n",
              "      position += length;\n",
              "\n",
              "      const base64 = btoa(String.fromCharCode.apply(null, chunk));\n",
              "      yield {\n",
              "        response: {\n",
              "          action: 'append',\n",
              "          file: file.name,\n",
              "          data: base64,\n",
              "        },\n",
              "      };\n",
              "\n",
              "      let percentDone = fileData.byteLength === 0 ?\n",
              "          100 :\n",
              "          Math.round((position / fileData.byteLength) * 100);\n",
              "      percent.textContent = `${percentDone}% done`;\n",
              "\n",
              "    } while (position < fileData.byteLength);\n",
              "  }\n",
              "\n",
              "  // All done.\n",
              "  yield {\n",
              "    response: {\n",
              "      action: 'complete',\n",
              "    }\n",
              "  };\n",
              "}\n",
              "\n",
              "scope.google = scope.google || {};\n",
              "scope.google.colab = scope.google.colab || {};\n",
              "scope.google.colab._files = {\n",
              "  _uploadFiles,\n",
              "  _uploadFilesContinue,\n",
              "};\n",
              "})(self);\n",
              "</script> "
            ]
          },
          "metadata": {}
        },
        {
          "output_type": "stream",
          "name": "stdout",
          "text": [
            "Saving Zomato_reviews.csv to Zomato_reviews.csv\n"
          ]
        }
      ],
      "source": [
        "from google.colab import files\n",
        "uploaded = files.upload()"
      ]
    },
    {
      "cell_type": "markdown",
      "metadata": {
        "id": "l3GS5bflchJq"
      },
      "source": [
        "# **Importing the data**"
      ]
    },
    {
      "cell_type": "code",
      "execution_count": 4,
      "metadata": {
        "id": "HJI3umZOWsI9"
      },
      "outputs": [],
      "source": [
        "reviews0 = pd.read_csv(\"Zomato_reviews.csv\", encoding= 'unicode_escape')"
      ]
    },
    {
      "cell_type": "code",
      "execution_count": 5,
      "metadata": {
        "colab": {
          "base_uri": "https://localhost:8080/",
          "height": 206
        },
        "id": "fxZoqB50W0Wc",
        "outputId": "ed871498-18d7-4040-fd7d-e3e964b5dfc7"
      },
      "outputs": [
        {
          "output_type": "execute_result",
          "data": {
            "text/plain": [
              "   rating                                        review_text\n",
              "0     1.0  Their service is worst, pricing in menu is dif...\n",
              "1     5.0  really appreciate their quality and timing . I...\n",
              "2     4.0  Went there on a Friday night, the place was su...\n",
              "3     4.0  A very decent place serving good food.\\r\\nOrde...\n",
              "4     5.0  One of the BEST places for steaks in the city...."
            ],
            "text/html": [
              "\n",
              "  <div id=\"df-f2aa26d6-8290-4c82-84d0-16aeb103671d\">\n",
              "    <div class=\"colab-df-container\">\n",
              "      <div>\n",
              "<style scoped>\n",
              "    .dataframe tbody tr th:only-of-type {\n",
              "        vertical-align: middle;\n",
              "    }\n",
              "\n",
              "    .dataframe tbody tr th {\n",
              "        vertical-align: top;\n",
              "    }\n",
              "\n",
              "    .dataframe thead th {\n",
              "        text-align: right;\n",
              "    }\n",
              "</style>\n",
              "<table border=\"1\" class=\"dataframe\">\n",
              "  <thead>\n",
              "    <tr style=\"text-align: right;\">\n",
              "      <th></th>\n",
              "      <th>rating</th>\n",
              "      <th>review_text</th>\n",
              "    </tr>\n",
              "  </thead>\n",
              "  <tbody>\n",
              "    <tr>\n",
              "      <th>0</th>\n",
              "      <td>1.0</td>\n",
              "      <td>Their service is worst, pricing in menu is dif...</td>\n",
              "    </tr>\n",
              "    <tr>\n",
              "      <th>1</th>\n",
              "      <td>5.0</td>\n",
              "      <td>really appreciate their quality and timing . I...</td>\n",
              "    </tr>\n",
              "    <tr>\n",
              "      <th>2</th>\n",
              "      <td>4.0</td>\n",
              "      <td>Went there on a Friday night, the place was su...</td>\n",
              "    </tr>\n",
              "    <tr>\n",
              "      <th>3</th>\n",
              "      <td>4.0</td>\n",
              "      <td>A very decent place serving good food.\\r\\nOrde...</td>\n",
              "    </tr>\n",
              "    <tr>\n",
              "      <th>4</th>\n",
              "      <td>5.0</td>\n",
              "      <td>One of the BEST places for steaks in the city....</td>\n",
              "    </tr>\n",
              "  </tbody>\n",
              "</table>\n",
              "</div>\n",
              "      <button class=\"colab-df-convert\" onclick=\"convertToInteractive('df-f2aa26d6-8290-4c82-84d0-16aeb103671d')\"\n",
              "              title=\"Convert this dataframe to an interactive table.\"\n",
              "              style=\"display:none;\">\n",
              "        \n",
              "  <svg xmlns=\"http://www.w3.org/2000/svg\" height=\"24px\"viewBox=\"0 0 24 24\"\n",
              "       width=\"24px\">\n",
              "    <path d=\"M0 0h24v24H0V0z\" fill=\"none\"/>\n",
              "    <path d=\"M18.56 5.44l.94 2.06.94-2.06 2.06-.94-2.06-.94-.94-2.06-.94 2.06-2.06.94zm-11 1L8.5 8.5l.94-2.06 2.06-.94-2.06-.94L8.5 2.5l-.94 2.06-2.06.94zm10 10l.94 2.06.94-2.06 2.06-.94-2.06-.94-.94-2.06-.94 2.06-2.06.94z\"/><path d=\"M17.41 7.96l-1.37-1.37c-.4-.4-.92-.59-1.43-.59-.52 0-1.04.2-1.43.59L10.3 9.45l-7.72 7.72c-.78.78-.78 2.05 0 2.83L4 21.41c.39.39.9.59 1.41.59.51 0 1.02-.2 1.41-.59l7.78-7.78 2.81-2.81c.8-.78.8-2.07 0-2.86zM5.41 20L4 18.59l7.72-7.72 1.47 1.35L5.41 20z\"/>\n",
              "  </svg>\n",
              "      </button>\n",
              "      \n",
              "  <style>\n",
              "    .colab-df-container {\n",
              "      display:flex;\n",
              "      flex-wrap:wrap;\n",
              "      gap: 12px;\n",
              "    }\n",
              "\n",
              "    .colab-df-convert {\n",
              "      background-color: #E8F0FE;\n",
              "      border: none;\n",
              "      border-radius: 50%;\n",
              "      cursor: pointer;\n",
              "      display: none;\n",
              "      fill: #1967D2;\n",
              "      height: 32px;\n",
              "      padding: 0 0 0 0;\n",
              "      width: 32px;\n",
              "    }\n",
              "\n",
              "    .colab-df-convert:hover {\n",
              "      background-color: #E2EBFA;\n",
              "      box-shadow: 0px 1px 2px rgba(60, 64, 67, 0.3), 0px 1px 3px 1px rgba(60, 64, 67, 0.15);\n",
              "      fill: #174EA6;\n",
              "    }\n",
              "\n",
              "    [theme=dark] .colab-df-convert {\n",
              "      background-color: #3B4455;\n",
              "      fill: #D2E3FC;\n",
              "    }\n",
              "\n",
              "    [theme=dark] .colab-df-convert:hover {\n",
              "      background-color: #434B5C;\n",
              "      box-shadow: 0px 1px 3px 1px rgba(0, 0, 0, 0.15);\n",
              "      filter: drop-shadow(0px 1px 2px rgba(0, 0, 0, 0.3));\n",
              "      fill: #FFFFFF;\n",
              "    }\n",
              "  </style>\n",
              "\n",
              "      <script>\n",
              "        const buttonEl =\n",
              "          document.querySelector('#df-f2aa26d6-8290-4c82-84d0-16aeb103671d button.colab-df-convert');\n",
              "        buttonEl.style.display =\n",
              "          google.colab.kernel.accessAllowed ? 'block' : 'none';\n",
              "\n",
              "        async function convertToInteractive(key) {\n",
              "          const element = document.querySelector('#df-f2aa26d6-8290-4c82-84d0-16aeb103671d');\n",
              "          const dataTable =\n",
              "            await google.colab.kernel.invokeFunction('convertToInteractive',\n",
              "                                                     [key], {});\n",
              "          if (!dataTable) return;\n",
              "\n",
              "          const docLinkHtml = 'Like what you see? Visit the ' +\n",
              "            '<a target=\"_blank\" href=https://colab.research.google.com/notebooks/data_table.ipynb>data table notebook</a>'\n",
              "            + ' to learn more about interactive tables.';\n",
              "          element.innerHTML = '';\n",
              "          dataTable['output_type'] = 'display_data';\n",
              "          await google.colab.output.renderOutput(dataTable, element);\n",
              "          const docLink = document.createElement('div');\n",
              "          docLink.innerHTML = docLinkHtml;\n",
              "          element.appendChild(docLink);\n",
              "        }\n",
              "      </script>\n",
              "    </div>\n",
              "  </div>\n",
              "  "
            ]
          },
          "metadata": {},
          "execution_count": 5
        }
      ],
      "source": [
        "reviews0.head()"
      ]
    },
    {
      "cell_type": "markdown",
      "metadata": {
        "id": "-9KLIcEFzYpr"
      },
      "source": [
        "# **Getting the summary statistics**"
      ]
    },
    {
      "cell_type": "code",
      "execution_count": 6,
      "metadata": {
        "colab": {
          "base_uri": "https://localhost:8080/",
          "height": 394
        },
        "id": "idxv8PUfbhMt",
        "outputId": "368db514-8013-4ffb-96a7-84428e7711e3"
      },
      "outputs": [
        {
          "output_type": "execute_result",
          "data": {
            "text/plain": [
              "              rating review_text\n",
              "count   27762.000000       27748\n",
              "unique           NaN       10548\n",
              "top              NaN        good\n",
              "freq             NaN         278\n",
              "mean        3.665784         NaN\n",
              "std         1.284573         NaN\n",
              "min         1.000000         NaN\n",
              "25%         3.000000         NaN\n",
              "50%         4.000000         NaN\n",
              "75%         5.000000         NaN\n",
              "max         5.000000         NaN"
            ],
            "text/html": [
              "\n",
              "  <div id=\"df-8c9e31e7-63b0-446d-b9f8-556538b79863\">\n",
              "    <div class=\"colab-df-container\">\n",
              "      <div>\n",
              "<style scoped>\n",
              "    .dataframe tbody tr th:only-of-type {\n",
              "        vertical-align: middle;\n",
              "    }\n",
              "\n",
              "    .dataframe tbody tr th {\n",
              "        vertical-align: top;\n",
              "    }\n",
              "\n",
              "    .dataframe thead th {\n",
              "        text-align: right;\n",
              "    }\n",
              "</style>\n",
              "<table border=\"1\" class=\"dataframe\">\n",
              "  <thead>\n",
              "    <tr style=\"text-align: right;\">\n",
              "      <th></th>\n",
              "      <th>rating</th>\n",
              "      <th>review_text</th>\n",
              "    </tr>\n",
              "  </thead>\n",
              "  <tbody>\n",
              "    <tr>\n",
              "      <th>count</th>\n",
              "      <td>27762.000000</td>\n",
              "      <td>27748</td>\n",
              "    </tr>\n",
              "    <tr>\n",
              "      <th>unique</th>\n",
              "      <td>NaN</td>\n",
              "      <td>10548</td>\n",
              "    </tr>\n",
              "    <tr>\n",
              "      <th>top</th>\n",
              "      <td>NaN</td>\n",
              "      <td>good</td>\n",
              "    </tr>\n",
              "    <tr>\n",
              "      <th>freq</th>\n",
              "      <td>NaN</td>\n",
              "      <td>278</td>\n",
              "    </tr>\n",
              "    <tr>\n",
              "      <th>mean</th>\n",
              "      <td>3.665784</td>\n",
              "      <td>NaN</td>\n",
              "    </tr>\n",
              "    <tr>\n",
              "      <th>std</th>\n",
              "      <td>1.284573</td>\n",
              "      <td>NaN</td>\n",
              "    </tr>\n",
              "    <tr>\n",
              "      <th>min</th>\n",
              "      <td>1.000000</td>\n",
              "      <td>NaN</td>\n",
              "    </tr>\n",
              "    <tr>\n",
              "      <th>25%</th>\n",
              "      <td>3.000000</td>\n",
              "      <td>NaN</td>\n",
              "    </tr>\n",
              "    <tr>\n",
              "      <th>50%</th>\n",
              "      <td>4.000000</td>\n",
              "      <td>NaN</td>\n",
              "    </tr>\n",
              "    <tr>\n",
              "      <th>75%</th>\n",
              "      <td>5.000000</td>\n",
              "      <td>NaN</td>\n",
              "    </tr>\n",
              "    <tr>\n",
              "      <th>max</th>\n",
              "      <td>5.000000</td>\n",
              "      <td>NaN</td>\n",
              "    </tr>\n",
              "  </tbody>\n",
              "</table>\n",
              "</div>\n",
              "      <button class=\"colab-df-convert\" onclick=\"convertToInteractive('df-8c9e31e7-63b0-446d-b9f8-556538b79863')\"\n",
              "              title=\"Convert this dataframe to an interactive table.\"\n",
              "              style=\"display:none;\">\n",
              "        \n",
              "  <svg xmlns=\"http://www.w3.org/2000/svg\" height=\"24px\"viewBox=\"0 0 24 24\"\n",
              "       width=\"24px\">\n",
              "    <path d=\"M0 0h24v24H0V0z\" fill=\"none\"/>\n",
              "    <path d=\"M18.56 5.44l.94 2.06.94-2.06 2.06-.94-2.06-.94-.94-2.06-.94 2.06-2.06.94zm-11 1L8.5 8.5l.94-2.06 2.06-.94-2.06-.94L8.5 2.5l-.94 2.06-2.06.94zm10 10l.94 2.06.94-2.06 2.06-.94-2.06-.94-.94-2.06-.94 2.06-2.06.94z\"/><path d=\"M17.41 7.96l-1.37-1.37c-.4-.4-.92-.59-1.43-.59-.52 0-1.04.2-1.43.59L10.3 9.45l-7.72 7.72c-.78.78-.78 2.05 0 2.83L4 21.41c.39.39.9.59 1.41.59.51 0 1.02-.2 1.41-.59l7.78-7.78 2.81-2.81c.8-.78.8-2.07 0-2.86zM5.41 20L4 18.59l7.72-7.72 1.47 1.35L5.41 20z\"/>\n",
              "  </svg>\n",
              "      </button>\n",
              "      \n",
              "  <style>\n",
              "    .colab-df-container {\n",
              "      display:flex;\n",
              "      flex-wrap:wrap;\n",
              "      gap: 12px;\n",
              "    }\n",
              "\n",
              "    .colab-df-convert {\n",
              "      background-color: #E8F0FE;\n",
              "      border: none;\n",
              "      border-radius: 50%;\n",
              "      cursor: pointer;\n",
              "      display: none;\n",
              "      fill: #1967D2;\n",
              "      height: 32px;\n",
              "      padding: 0 0 0 0;\n",
              "      width: 32px;\n",
              "    }\n",
              "\n",
              "    .colab-df-convert:hover {\n",
              "      background-color: #E2EBFA;\n",
              "      box-shadow: 0px 1px 2px rgba(60, 64, 67, 0.3), 0px 1px 3px 1px rgba(60, 64, 67, 0.15);\n",
              "      fill: #174EA6;\n",
              "    }\n",
              "\n",
              "    [theme=dark] .colab-df-convert {\n",
              "      background-color: #3B4455;\n",
              "      fill: #D2E3FC;\n",
              "    }\n",
              "\n",
              "    [theme=dark] .colab-df-convert:hover {\n",
              "      background-color: #434B5C;\n",
              "      box-shadow: 0px 1px 3px 1px rgba(0, 0, 0, 0.15);\n",
              "      filter: drop-shadow(0px 1px 2px rgba(0, 0, 0, 0.3));\n",
              "      fill: #FFFFFF;\n",
              "    }\n",
              "  </style>\n",
              "\n",
              "      <script>\n",
              "        const buttonEl =\n",
              "          document.querySelector('#df-8c9e31e7-63b0-446d-b9f8-556538b79863 button.colab-df-convert');\n",
              "        buttonEl.style.display =\n",
              "          google.colab.kernel.accessAllowed ? 'block' : 'none';\n",
              "\n",
              "        async function convertToInteractive(key) {\n",
              "          const element = document.querySelector('#df-8c9e31e7-63b0-446d-b9f8-556538b79863');\n",
              "          const dataTable =\n",
              "            await google.colab.kernel.invokeFunction('convertToInteractive',\n",
              "                                                     [key], {});\n",
              "          if (!dataTable) return;\n",
              "\n",
              "          const docLinkHtml = 'Like what you see? Visit the ' +\n",
              "            '<a target=\"_blank\" href=https://colab.research.google.com/notebooks/data_table.ipynb>data table notebook</a>'\n",
              "            + ' to learn more about interactive tables.';\n",
              "          element.innerHTML = '';\n",
              "          dataTable['output_type'] = 'display_data';\n",
              "          await google.colab.output.renderOutput(dataTable, element);\n",
              "          const docLink = document.createElement('div');\n",
              "          docLink.innerHTML = docLinkHtml;\n",
              "          element.appendChild(docLink);\n",
              "        }\n",
              "      </script>\n",
              "    </div>\n",
              "  </div>\n",
              "  "
            ]
          },
          "metadata": {},
          "execution_count": 6
        }
      ],
      "source": [
        "reviews0.describe(include=\"all\")"
      ]
    },
    {
      "cell_type": "markdown",
      "metadata": {
        "id": "F_rh-IOr5Dl_"
      },
      "source": [
        "# **Removing rows with missing values**"
      ]
    },
    {
      "cell_type": "markdown",
      "metadata": {
        "id": "fKtDaGiUekxb"
      },
      "source": [
        "Here we can see that review text is missing for 14 rows. We have to reg rid of this by using the below code"
      ]
    },
    {
      "cell_type": "code",
      "execution_count": 7,
      "metadata": {
        "id": "ntIR-I7rbkHk"
      },
      "outputs": [],
      "source": [
        "reviews1 = reviews0[~reviews0.review_text.isnull()].copy()\n",
        "reviews1.reset_index(inplace=True, drop=True)"
      ]
    },
    {
      "cell_type": "code",
      "execution_count": 8,
      "metadata": {
        "colab": {
          "base_uri": "https://localhost:8080/"
        },
        "id": "6tir60ivbs1V",
        "outputId": "6a6de0eb-689d-4bb7-dabd-98449fa30b8b"
      },
      "outputs": [
        {
          "output_type": "execute_result",
          "data": {
            "text/plain": [
              "((27762, 2), (27748, 2))"
            ]
          },
          "metadata": {},
          "execution_count": 8
        }
      ],
      "source": [
        "reviews0.shape, reviews1.shape"
      ]
    },
    {
      "cell_type": "markdown",
      "metadata": {
        "id": "phhKru55cEKB"
      },
      "source": [
        "## **Converting to list for easy manipulation**\n"
      ]
    },
    {
      "cell_type": "code",
      "execution_count": 9,
      "metadata": {
        "id": "T54zzSTScAQM"
      },
      "outputs": [],
      "source": [
        "reviews_list = reviews1.review_text.values"
      ]
    },
    {
      "cell_type": "markdown",
      "metadata": {
        "id": "6tzm131f5L1D"
      },
      "source": [
        "Printing the length of list"
      ]
    },
    {
      "cell_type": "code",
      "execution_count": 10,
      "metadata": {
        "colab": {
          "base_uri": "https://localhost:8080/"
        },
        "id": "8RtqSobecNI-",
        "outputId": "afcc549d-a88d-420c-e7fa-efa3f873f629"
      },
      "outputs": [
        {
          "output_type": "execute_result",
          "data": {
            "text/plain": [
              "27748"
            ]
          },
          "metadata": {},
          "execution_count": 10
        }
      ],
      "source": [
        "len(reviews_list)"
      ]
    },
    {
      "cell_type": "markdown",
      "metadata": {
        "id": "NbpcJbjkcSx_"
      },
      "source": [
        "# **Cleaning up the text**\n",
        "\n",
        "Now lets clean the text by using the following :\n",
        "\n",
        "**Normalize the case**\n",
        "\n",
        "**Remove stop words like**\n",
        "\n",
        "         remove \"not\", \"no\" from the stop word list\n",
        "\n",
        "**Remove punctuations**\n",
        "\n",
        "First lets normalize the case by converting all the words in the list to lowercase"
      ]
    },
    {
      "cell_type": "code",
      "execution_count": 11,
      "metadata": {
        "id": "cDvtmyxecO6d"
      },
      "outputs": [],
      "source": [
        "reviews_lower = [txt.lower() for txt in reviews_list]"
      ]
    },
    {
      "cell_type": "code",
      "execution_count": 12,
      "metadata": {
        "colab": {
          "base_uri": "https://localhost:8080/"
        },
        "id": "1etteDjvcoga",
        "outputId": "d7fdcd9c-52b9-4010-cd08-87deab4b20bc"
      },
      "outputs": [
        {
          "output_type": "execute_result",
          "data": {
            "text/plain": [
              "['went there on a friday night, the place was surprisingly empty. interesting menu which is almost fully made of dosas. i had bullseye dosa and cheese masala dosa. the bullseye dosa was really good, with the egg perfectly cooked to a half boiled state. the masala in the cheese masala was good, but the cheese was a bit too chewy for my liking. the chutney was good, the sambar was average. the dishes are reasonably priced.',\n",
              " 'a very decent place serving good food.\\r\\nordered chilli fish, chicken & pork sizzler.\\r\\neverything tasted good but pork could have been slightly better cooked.\\r\\ntried 2 beverages, both were very sweet.']"
            ]
          },
          "metadata": {},
          "execution_count": 12
        }
      ],
      "source": [
        "reviews_lower[2:4]"
      ]
    },
    {
      "cell_type": "markdown",
      "metadata": {
        "id": "K8fwuTSp2pnc"
      },
      "source": [
        "We can see that all the words in the list is changed into lowercase. Now let's join the string using .join "
      ]
    },
    {
      "cell_type": "code",
      "execution_count": 13,
      "metadata": {
        "id": "8naEdXomcqgc"
      },
      "outputs": [],
      "source": [
        "reviews_lower = [\" \".join(txt.split()) for txt in reviews_lower]"
      ]
    },
    {
      "cell_type": "code",
      "execution_count": 14,
      "metadata": {
        "colab": {
          "base_uri": "https://localhost:8080/"
        },
        "id": "V9UdgpIlcvDZ",
        "outputId": "39d07fa5-a6fc-4c17-e233-7117425176d2"
      },
      "outputs": [
        {
          "output_type": "execute_result",
          "data": {
            "text/plain": [
              "['went there on a friday night, the place was surprisingly empty. interesting menu which is almost fully made of dosas. i had bullseye dosa and cheese masala dosa. the bullseye dosa was really good, with the egg perfectly cooked to a half boiled state. the masala in the cheese masala was good, but the cheese was a bit too chewy for my liking. the chutney was good, the sambar was average. the dishes are reasonably priced.',\n",
              " 'a very decent place serving good food. ordered chilli fish, chicken & pork sizzler. everything tasted good but pork could have been slightly better cooked. tried 2 beverages, both were very sweet.']"
            ]
          },
          "metadata": {},
          "execution_count": 14
        }
      ],
      "source": [
        "reviews_lower[2:4]"
      ]
    },
    {
      "cell_type": "markdown",
      "metadata": {
        "id": "-xkndgEMc2rF"
      },
      "source": [
        "## **Tokenize**"
      ]
    },
    {
      "cell_type": "markdown",
      "metadata": {
        "id": "qCjAgOxy6dA4"
      },
      "source": [
        " NLTK contains a module called tokenize with a **word_tokenize**() method that will help us split a text into tokens or words."
      ]
    },
    {
      "cell_type": "code",
      "execution_count": 15,
      "metadata": {
        "id": "ULjqEMNLcx4S"
      },
      "outputs": [],
      "source": [
        "from nltk.tokenize import word_tokenize"
      ]
    },
    {
      "cell_type": "code",
      "execution_count": 16,
      "metadata": {
        "colab": {
          "base_uri": "https://localhost:8080/"
        },
        "id": "_Id3bi5EdI1z",
        "outputId": "b7a1168a-4fb4-486b-f937-e48124e43a6a"
      },
      "outputs": [
        {
          "output_type": "stream",
          "name": "stderr",
          "text": [
            "[nltk_data] Downloading package punkt to /root/nltk_data...\n",
            "[nltk_data]   Unzipping tokenizers/punkt.zip.\n"
          ]
        },
        {
          "output_type": "execute_result",
          "data": {
            "text/plain": [
              "True"
            ]
          },
          "metadata": {},
          "execution_count": 16
        }
      ],
      "source": [
        "import nltk\n",
        "nltk.download('punkt')"
      ]
    },
    {
      "cell_type": "code",
      "execution_count": 17,
      "metadata": {
        "colab": {
          "base_uri": "https://localhost:8080/"
        },
        "id": "fr2Snsvmc6E_",
        "outputId": "d7675922-ce2b-434f-c338-bd1bd3d0724f"
      },
      "outputs": [
        {
          "output_type": "stream",
          "name": "stdout",
          "text": [
            "['their', 'service', 'is', 'worst', ',', 'pricing', 'in', 'menu', 'is', 'different', 'from', 'bill', '.', 'they', 'can', 'give', 'you', 'a', 'bill', 'with', 'increased', 'pricing', '.', 'even', 'for', 'serving', 'water', ',', 'menu', ',', 'order', 'you', 'need', 'to', 'call', 'them', '3-4', 'times', 'even', 'on', 'a', 'non', 'busy', 'day', '.']\n"
          ]
        }
      ],
      "source": [
        "print(word_tokenize(reviews_lower[0]))"
      ]
    },
    {
      "cell_type": "markdown",
      "metadata": {
        "id": "TC6hEwxP60B-"
      },
      "source": [
        "Tokenizing all the sentences in the reviews_lower data"
      ]
    },
    {
      "cell_type": "code",
      "execution_count": 18,
      "metadata": {
        "colab": {
          "base_uri": "https://localhost:8080/"
        },
        "id": "8yzzqSiIc8Dr",
        "outputId": "ebb269e2-c8a4-4e5d-caa3-41fbb2b2224c"
      },
      "outputs": [
        {
          "output_type": "stream",
          "name": "stdout",
          "text": [
            "['their', 'service', 'is', 'worst', ',', 'pricing', 'in', 'menu', 'is', 'different', 'from', 'bill', '.', 'they', 'can', 'give', 'you', 'a', 'bill', 'with', 'increased', 'pricing', '.', 'even', 'for', 'serving', 'water', ',', 'menu', ',', 'order', 'you', 'need', 'to', 'call', 'them', '3-4', 'times', 'even', 'on', 'a', 'non', 'busy', 'day', '.']\n"
          ]
        }
      ],
      "source": [
        "reviews_tokens = [word_tokenize(sent) for sent in reviews_lower]\n",
        "print(reviews_tokens[0])\n"
      ]
    },
    {
      "cell_type": "markdown",
      "metadata": {
        "id": "rTtu2EFPdPCw"
      },
      "source": [
        "## **Remove stop words and punctuations**"
      ]
    },
    {
      "cell_type": "markdown",
      "metadata": {
        "id": "Tvit4Z927BRJ"
      },
      "source": [
        "**Stop words** are all those words that don't add much information to the sentence.In order to remove **stopwords** and **punctuation** using NLTK, we have to download all the stop words using nltk. download('stopwords'), then we have to specify the language for which we want to remove the stopwords, therefore, we use stopwords. words('english') to specify and save it to the variable.Punctuation can be removed by importing punctuation from string and then saving it as a list in a variable. Then we can define a function to remove all those unnecessary stopwards and punctuation from our data"
      ]
    },
    {
      "cell_type": "code",
      "execution_count": 19,
      "metadata": {
        "colab": {
          "base_uri": "https://localhost:8080/"
        },
        "id": "aEDwQaAyc-qi",
        "outputId": "f3f7ec4e-fc20-45d1-d935-a230dd87bf1a"
      },
      "outputs": [
        {
          "output_type": "stream",
          "name": "stderr",
          "text": [
            "[nltk_data] Downloading package stopwords to /root/nltk_data...\n",
            "[nltk_data]   Unzipping corpora/stopwords.zip.\n"
          ]
        },
        {
          "output_type": "execute_result",
          "data": {
            "text/plain": [
              "True"
            ]
          },
          "metadata": {},
          "execution_count": 19
        }
      ],
      "source": [
        "from nltk.corpus import stopwords\n",
        "from string import punctuation\n",
        "nltk.download('stopwords')"
      ]
    },
    {
      "cell_type": "code",
      "execution_count": 20,
      "metadata": {
        "id": "5MFIB2RydVPN"
      },
      "outputs": [],
      "source": [
        "stop_nltk = stopwords.words(\"english\")\n",
        "stop_punct = list(punctuation)"
      ]
    },
    {
      "cell_type": "code",
      "execution_count": 21,
      "metadata": {
        "colab": {
          "base_uri": "https://localhost:8080/"
        },
        "id": "ZO2o68-bdXMs",
        "outputId": "f4b77d43-b16c-4039-f606-13241c10ee02"
      },
      "outputs": [
        {
          "output_type": "stream",
          "name": "stdout",
          "text": [
            "['i', 'me', 'my', 'myself', 'we', 'our', 'ours', 'ourselves', 'you', \"you're\", \"you've\", \"you'll\", \"you'd\", 'your', 'yours', 'yourself', 'yourselves', 'he', 'him', 'his', 'himself', 'she', \"she's\", 'her', 'hers', 'herself', 'it', \"it's\", 'its', 'itself', 'they', 'them', 'their', 'theirs', 'themselves', 'what', 'which', 'who', 'whom', 'this', 'that', \"that'll\", 'these', 'those', 'am', 'is', 'are', 'was', 'were', 'be', 'been', 'being', 'have', 'has', 'had', 'having', 'do', 'does', 'did', 'doing', 'a', 'an', 'the', 'and', 'but', 'if', 'or', 'because', 'as', 'until', 'while', 'of', 'at', 'by', 'for', 'with', 'about', 'against', 'between', 'into', 'through', 'during', 'before', 'after', 'above', 'below', 'to', 'from', 'up', 'down', 'in', 'out', 'on', 'off', 'over', 'under', 'again', 'further', 'then', 'once', 'here', 'there', 'when', 'where', 'why', 'how', 'all', 'any', 'both', 'each', 'few', 'more', 'most', 'other', 'some', 'such', 'no', 'nor', 'not', 'only', 'own', 'same', 'so', 'than', 'too', 'very', 's', 't', 'can', 'will', 'just', 'don', \"don't\", 'should', \"should've\", 'now', 'd', 'll', 'm', 'o', 're', 've', 'y', 'ain', 'aren', \"aren't\", 'couldn', \"couldn't\", 'didn', \"didn't\", 'doesn', \"doesn't\", 'hadn', \"hadn't\", 'hasn', \"hasn't\", 'haven', \"haven't\", 'isn', \"isn't\", 'ma', 'mightn', \"mightn't\", 'mustn', \"mustn't\", 'needn', \"needn't\", 'shan', \"shan't\", 'shouldn', \"shouldn't\", 'wasn', \"wasn't\", 'weren', \"weren't\", 'won', \"won't\", 'wouldn', \"wouldn't\"]\n"
          ]
        }
      ],
      "source": [
        "print(stop_nltk)"
      ]
    },
    {
      "cell_type": "markdown",
      "metadata": {
        "id": "PgdIJYrailYR"
      },
      "source": [
        "Removing useful stopwords in our data from the list"
      ]
    },
    {
      "cell_type": "code",
      "execution_count": 22,
      "metadata": {
        "id": "uiSkVoFfdgKI"
      },
      "outputs": [],
      "source": [
        "stop_nltk.remove(\"no\")\n",
        "stop_nltk.remove(\"not\")\n",
        "stop_nltk.remove(\"don\")\n",
        "stop_nltk.remove(\"won\")"
      ]
    },
    {
      "cell_type": "markdown",
      "metadata": {
        "id": "2wzuU8eyislQ"
      },
      "source": [
        "Checking whether the removed word is there in stopwords."
      ]
    },
    {
      "cell_type": "code",
      "execution_count": 23,
      "metadata": {
        "colab": {
          "base_uri": "https://localhost:8080/"
        },
        "id": "Svk5G6uGdluT",
        "outputId": "fea48627-2e19-4794-b534-584b0fdeaaac"
      },
      "outputs": [
        {
          "output_type": "execute_result",
          "data": {
            "text/plain": [
              "False"
            ]
          },
          "metadata": {},
          "execution_count": 23
        }
      ],
      "source": [
        "\"no\" in stop_nltk"
      ]
    },
    {
      "cell_type": "markdown",
      "metadata": {
        "id": "sajilr5NjIDF"
      },
      "source": [
        "Finalizing the words which we want to remove by adding stopwords , punctuation and some other symbols mentioned below"
      ]
    },
    {
      "cell_type": "code",
      "execution_count": 24,
      "metadata": {
        "id": "ParTv9F_doD1"
      },
      "outputs": [],
      "source": [
        "stop_final = stop_nltk + stop_punct + [\"...\", \"``\",\"''\", \"====\", \"must\"]\n"
      ]
    },
    {
      "cell_type": "markdown",
      "metadata": {
        "id": "m6-zGahUjiV9"
      },
      "source": [
        "Defining a function to remove stop_final from the reviews list"
      ]
    },
    {
      "cell_type": "code",
      "execution_count": 25,
      "metadata": {
        "id": "S333Qi9ddyDO"
      },
      "outputs": [],
      "source": [
        "def del_stop(sent):\n",
        "    return [term for term in sent if term not in stop_final]"
      ]
    },
    {
      "cell_type": "markdown",
      "metadata": {
        "id": "IhsyhR5rkI9K"
      },
      "source": [
        "Passing the function to reviews_tokens[1]"
      ]
    },
    {
      "cell_type": "code",
      "execution_count": 26,
      "metadata": {
        "colab": {
          "base_uri": "https://localhost:8080/"
        },
        "id": "1ravR6pEd01h",
        "outputId": "89754a98-5623-408c-b480-963d22014b59"
      },
      "outputs": [
        {
          "output_type": "execute_result",
          "data": {
            "text/plain": [
              "['really',\n",
              " 'appreciate',\n",
              " 'quality',\n",
              " 'timing',\n",
              " 'tried',\n",
              " 'thattil',\n",
              " 'kutti',\n",
              " 'dosa',\n",
              " \"'ve\",\n",
              " 'addicted',\n",
              " 'dosa',\n",
              " 'really',\n",
              " 'chutney',\n",
              " 'really',\n",
              " 'good',\n",
              " 'money',\n",
              " 'worth',\n",
              " 'much',\n",
              " 'better',\n",
              " 'thattukada',\n",
              " 'try']"
            ]
          },
          "metadata": {},
          "execution_count": 26
        }
      ],
      "source": [
        "del_stop(reviews_tokens[1])"
      ]
    },
    {
      "cell_type": "code",
      "execution_count": 27,
      "metadata": {
        "id": "Fbpvsbrhd2zX"
      },
      "outputs": [],
      "source": [
        "reviews_clean = [del_stop(sent) for sent in reviews_tokens]"
      ]
    },
    {
      "cell_type": "code",
      "execution_count": 28,
      "metadata": {
        "colab": {
          "base_uri": "https://localhost:8080/"
        },
        "id": "pO67fztqd7zN",
        "outputId": "4cb64319-5eee-485d-93be-ff270cdcad77"
      },
      "outputs": [
        {
          "output_type": "execute_result",
          "data": {
            "text/plain": [
              "['service worst pricing menu different bill give bill increased pricing even serving water menu order need call 3-4 times even non busy day',\n",
              " \"really appreciate quality timing tried thattil kutti dosa 've addicted dosa really chutney really good money worth much better thattukada try\"]"
            ]
          },
          "metadata": {},
          "execution_count": 28
        }
      ],
      "source": [
        "reviews_clean = [\" \".join(sent) for sent in reviews_clean]\n",
        "reviews_clean[:2]"
      ]
    },
    {
      "cell_type": "markdown",
      "metadata": {
        "id": "Xx47btYmkdD4"
      },
      "source": [
        "Thus we have cleaned our data so that we can use it to build the model and make predictions."
      ]
    },
    {
      "cell_type": "markdown",
      "metadata": {
        "id": "4GJbtjZmeQPS"
      },
      "source": [
        "## **Separate X and Y and perform train test split, 70-30**"
      ]
    },
    {
      "cell_type": "markdown",
      "metadata": {
        "id": "mOR4qkjM9GQ0"
      },
      "source": [
        "Printing the length of cleaned data"
      ]
    },
    {
      "cell_type": "code",
      "execution_count": 29,
      "metadata": {
        "colab": {
          "base_uri": "https://localhost:8080/"
        },
        "id": "Zcwp5iepd-Xe",
        "outputId": "8ec0dee8-3a83-40c3-f77d-6a5bf795b890"
      },
      "outputs": [
        {
          "output_type": "execute_result",
          "data": {
            "text/plain": [
              "27748"
            ]
          },
          "metadata": {},
          "execution_count": 29
        }
      ],
      "source": [
        "len(reviews_clean)"
      ]
    },
    {
      "cell_type": "markdown",
      "metadata": {
        "id": "Mi4BfX9w9Lf8"
      },
      "source": [
        "Splitting the data into dependent and independent variable"
      ]
    },
    {
      "cell_type": "code",
      "execution_count": 30,
      "metadata": {
        "id": "OTuwVY3yeCa0"
      },
      "outputs": [],
      "source": [
        "X = reviews_clean\n",
        "y = reviews1.rating"
      ]
    },
    {
      "cell_type": "markdown",
      "metadata": {
        "id": "uxr6Gfzq98rT"
      },
      "source": [
        "Now splitting the whole dataset into testing and training set"
      ]
    },
    {
      "cell_type": "code",
      "execution_count": 31,
      "metadata": {
        "id": "wnAGIGiNeYYo"
      },
      "outputs": [],
      "source": [
        "from sklearn.model_selection import train_test_split\n",
        "X_train, X_test, y_train, y_test = train_test_split(X, y, test_size = 0.30, random_state=42)\n"
      ]
    },
    {
      "cell_type": "markdown",
      "metadata": {
        "id": "ps0dYNdOegct"
      },
      "source": [
        "## **Document term matrix using TfIdf**"
      ]
    },
    {
      "cell_type": "markdown",
      "metadata": {
        "id": "e9FoZnyWmbnz"
      },
      "source": [
        "**TF-IDF** is a popular approach used to weigh terms for NLP tasks because it assigns a value to a term according to its importance in a document scaled by its importance across all documents in your corpus, which mathematically eliminates naturally occurring words in the English language, and selects words that are more descriptive of your text."
      ]
    },
    {
      "cell_type": "code",
      "execution_count": 32,
      "metadata": {
        "id": "qFRqXSSqeeHy"
      },
      "outputs": [],
      "source": [
        "from sklearn.feature_extraction.text import TfidfVectorizer"
      ]
    },
    {
      "cell_type": "code",
      "execution_count": 33,
      "metadata": {
        "id": "pg8FkGTeeknv"
      },
      "outputs": [],
      "source": [
        "vectorizer = TfidfVectorizer(max_features = 5000)"
      ]
    },
    {
      "cell_type": "code",
      "execution_count": 34,
      "metadata": {
        "colab": {
          "base_uri": "https://localhost:8080/"
        },
        "id": "uQFo__xWemdu",
        "outputId": "81c8cded-6e1f-4bf7-8c16-98c9af975543"
      },
      "outputs": [
        {
          "output_type": "execute_result",
          "data": {
            "text/plain": [
              "(19423, 8325)"
            ]
          },
          "metadata": {},
          "execution_count": 34
        }
      ],
      "source": [
        "len(X_train), len(X_test)"
      ]
    },
    {
      "cell_type": "markdown",
      "metadata": {
        "id": "Nj9_9RBemvKv"
      },
      "source": [
        "Fitting the vectorizer in training data "
      ]
    },
    {
      "cell_type": "code",
      "execution_count": 35,
      "metadata": {
        "id": "nJfq6gySeodi"
      },
      "outputs": [],
      "source": [
        "X_train_bow = vectorizer.fit_transform(X_train)"
      ]
    },
    {
      "cell_type": "code",
      "execution_count": 36,
      "metadata": {
        "id": "kygqIoyDeqqD"
      },
      "outputs": [],
      "source": [
        "X_test_bow = vectorizer.transform(X_test)"
      ]
    },
    {
      "cell_type": "markdown",
      "metadata": {
        "id": "gKOWs8-gnMLH"
      },
      "source": [
        "Printing the shape of bag of words of traing and testing data"
      ]
    },
    {
      "cell_type": "code",
      "execution_count": 37,
      "metadata": {
        "colab": {
          "base_uri": "https://localhost:8080/"
        },
        "id": "axiHgybpetou",
        "outputId": "60fd1cb6-7deb-4195-e40f-57bf7fcbfc89"
      },
      "outputs": [
        {
          "output_type": "execute_result",
          "data": {
            "text/plain": [
              "((19423, 5000), (8325, 5000))"
            ]
          },
          "metadata": {},
          "execution_count": 37
        }
      ],
      "source": [
        "X_train_bow.shape, X_test_bow.shape"
      ]
    },
    {
      "cell_type": "markdown",
      "metadata": {
        "id": "N_mAME4Ge080"
      },
      "source": [
        "## **Model building**"
      ]
    },
    {
      "cell_type": "code",
      "execution_count": 38,
      "metadata": {
        "id": "Xuu9iyWsevsF"
      },
      "outputs": [],
      "source": [
        "from sklearn.ensemble import RandomForestRegressor, GradientBoostingRegressor\n"
      ]
    },
    {
      "cell_type": "code",
      "execution_count": 39,
      "metadata": {
        "colab": {
          "base_uri": "https://localhost:8080/"
        },
        "id": "_5djuSlFe7HZ",
        "outputId": "3186a9c7-0c62-4cf5-a6c7-2178492a9632"
      },
      "outputs": [
        {
          "output_type": "execute_result",
          "data": {
            "text/plain": [
              "RandomForestRegressor()"
            ]
          },
          "metadata": {},
          "execution_count": 39
        }
      ],
      "source": [
        "RandomForestRegressor()"
      ]
    },
    {
      "cell_type": "code",
      "execution_count": 40,
      "metadata": {
        "id": "LhcXZknVe-TE"
      },
      "outputs": [],
      "source": [
        "learner_rf = RandomForestRegressor(random_state=42)"
      ]
    },
    {
      "cell_type": "code",
      "execution_count": 41,
      "metadata": {
        "colab": {
          "base_uri": "https://localhost:8080/"
        },
        "id": "IjtZL0yIfCul",
        "outputId": "b10ff848-23c3-4855-87f7-adbd6cc0ac65"
      },
      "outputs": [
        {
          "output_type": "execute_result",
          "data": {
            "text/plain": [
              "RandomForestRegressor(random_state=42)"
            ]
          },
          "metadata": {},
          "execution_count": 41
        }
      ],
      "source": [
        "learner_rf.fit(X_train_bow, y_train)"
      ]
    },
    {
      "cell_type": "code",
      "execution_count": 42,
      "metadata": {
        "id": "je2jgF8lfHPm"
      },
      "outputs": [],
      "source": [
        "y_train_preds = learner_rf.predict(X_train_bow)"
      ]
    },
    {
      "cell_type": "code",
      "execution_count": 43,
      "metadata": {
        "id": "EO-8MAjJhnYz"
      },
      "outputs": [],
      "source": [
        "from sklearn.metrics import mean_squared_error"
      ]
    },
    {
      "cell_type": "code",
      "execution_count": 44,
      "metadata": {
        "colab": {
          "base_uri": "https://localhost:8080/"
        },
        "id": "dpnQrm1wht_B",
        "outputId": "6f8b416d-7041-4e8c-ff42-82dd63766a4c"
      },
      "outputs": [
        {
          "output_type": "execute_result",
          "data": {
            "text/plain": [
              "0.23684233164605095"
            ]
          },
          "metadata": {},
          "execution_count": 44
        }
      ],
      "source": [
        "mean_squared_error(y_train, y_train_preds)**0.5"
      ]
    },
    {
      "cell_type": "markdown",
      "metadata": {
        "id": "YmbT600yj8BU"
      },
      "source": [
        "## **Increasing the number of trees**"
      ]
    },
    {
      "cell_type": "code",
      "execution_count": 45,
      "metadata": {
        "id": "aG1XFRnkhwHM"
      },
      "outputs": [],
      "source": [
        "learner_rf = RandomForestRegressor(random_state=42, n_estimators=30)"
      ]
    },
    {
      "cell_type": "code",
      "execution_count": 46,
      "metadata": {
        "colab": {
          "base_uri": "https://localhost:8080/"
        },
        "id": "lTM6g10Wj1As",
        "outputId": "bbe6467d-ed72-469a-f5c8-7f0ef2d02e37"
      },
      "outputs": [
        {
          "output_type": "stream",
          "name": "stdout",
          "text": [
            "CPU times: user 2min 10s, sys: 151 ms, total: 2min 10s\n",
            "Wall time: 2min 10s\n"
          ]
        },
        {
          "output_type": "execute_result",
          "data": {
            "text/plain": [
              "RandomForestRegressor(n_estimators=30, random_state=42)"
            ]
          },
          "metadata": {},
          "execution_count": 46
        }
      ],
      "source": [
        "%%time\n",
        "learner_rf.fit(X_train_bow, y_train)"
      ]
    },
    {
      "cell_type": "code",
      "execution_count": 47,
      "metadata": {
        "id": "Ulux2VfEj6oc"
      },
      "outputs": [],
      "source": [
        "y_train_preds = learner_rf.predict(X_train_bow)"
      ]
    },
    {
      "cell_type": "code",
      "execution_count": 48,
      "metadata": {
        "colab": {
          "base_uri": "https://localhost:8080/"
        },
        "id": "oNvp1GJHl0rC",
        "outputId": "a56c0d43-c583-41a7-be25-dc1ea4be9681"
      },
      "outputs": [
        {
          "output_type": "execute_result",
          "data": {
            "text/plain": [
              "0.24670225379076136"
            ]
          },
          "metadata": {},
          "execution_count": 48
        }
      ],
      "source": [
        "mean_squared_error(y_train, y_train_preds)**0.5"
      ]
    },
    {
      "cell_type": "markdown",
      "metadata": {
        "id": "iWl_-RNZmLR0"
      },
      "source": [
        "## **Hyper-parameter tuning**"
      ]
    },
    {
      "cell_type": "markdown",
      "metadata": {
        "id": "U1VBiSVxwMDU"
      },
      "source": [
        "**GridSearchCV** is a technique for finding the optimal parameter values from a given set of parameters in a grid. It's essentially a cross-validation technique. The model as well as the parameters must be entered. After extracting the best parameter values, predictions are made."
      ]
    },
    {
      "cell_type": "code",
      "execution_count": 49,
      "metadata": {
        "id": "J712I_LumFL9"
      },
      "outputs": [],
      "source": [
        "from sklearn.model_selection import GridSearchCV"
      ]
    },
    {
      "cell_type": "code",
      "execution_count": 50,
      "metadata": {
        "colab": {
          "base_uri": "https://localhost:8080/"
        },
        "id": "heFOs_mRwmbG",
        "outputId": "4d54950b-7eff-44bc-d438-e01e4fdc7835"
      },
      "outputs": [
        {
          "output_type": "execute_result",
          "data": {
            "text/plain": [
              "RandomForestRegressor()"
            ]
          },
          "metadata": {},
          "execution_count": 50
        }
      ],
      "source": [
        "RandomForestRegressor()"
      ]
    },
    {
      "cell_type": "code",
      "execution_count": 51,
      "metadata": {
        "id": "SutsM2qZmToQ"
      },
      "outputs": [],
      "source": [
        "learner_rf = RandomForestRegressor(random_state=42)"
      ]
    },
    {
      "cell_type": "markdown",
      "metadata": {
        "id": "9BcNQBU2XK7U"
      },
      "source": [
        "**max_features:** Random forest takes random subsets of features and tries to find the best split. max_features helps to find the number of features to take into account in order to make the best split. It can take four values “auto“, “sqrt“, “log2” and None.\n",
        "\n"
      ]
    },
    {
      "cell_type": "markdown",
      "source": [
        "**max_depth** is the number of nodes along the longest path from the root node down to the farthest leaf node."
      ],
      "metadata": {
        "id": "SFDK3QDVdPVx"
      }
    },
    {
      "cell_type": "code",
      "execution_count": 52,
      "metadata": {
        "id": "O0iPjhgsmdR3"
      },
      "outputs": [],
      "source": [
        "# Create the parameter grid based on the results of random search \n",
        "param_grid = {\n",
        "    'max_features': [500, \"sqrt\", \"log2\", \"auto\"],\n",
        "    'max_depth': [20, 25, 30]\n",
        "}"
      ]
    },
    {
      "cell_type": "code",
      "execution_count": 53,
      "metadata": {
        "id": "Rg0tFcMVmnjL"
      },
      "outputs": [],
      "source": [
        "# Instantiate the grid search model\n",
        "grid_search = GridSearchCV(estimator = learner_rf, param_grid = param_grid, \n",
        "                          cv = 5, n_jobs = -1, verbose = 1, scoring = \"neg_mean_squared_error\" )\n"
      ]
    },
    {
      "cell_type": "code",
      "execution_count": 54,
      "metadata": {
        "colab": {
          "base_uri": "https://localhost:8080/"
        },
        "id": "-KbWuW7Tm9Nr",
        "outputId": "b6c0f302-bb8e-4ccb-87db-a3eca6a304e5"
      },
      "outputs": [
        {
          "output_type": "stream",
          "name": "stdout",
          "text": [
            "Fitting 5 folds for each of 12 candidates, totalling 60 fits\n"
          ]
        },
        {
          "output_type": "execute_result",
          "data": {
            "text/plain": [
              "GridSearchCV(cv=5, estimator=RandomForestRegressor(random_state=42), n_jobs=-1,\n",
              "             param_grid={'max_depth': [20, 25, 30],\n",
              "                         'max_features': [500, 'sqrt', 'log2', 'auto']},\n",
              "             scoring='neg_mean_squared_error', verbose=1)"
            ]
          },
          "metadata": {},
          "execution_count": 54
        }
      ],
      "source": [
        "grid_search.fit(X_train_bow, y_train)"
      ]
    },
    {
      "cell_type": "code",
      "execution_count": 55,
      "metadata": {
        "colab": {
          "base_uri": "https://localhost:8080/"
        },
        "id": "M7cWv6ntnAAA",
        "outputId": "cb69b20f-ea15-4b18-d197-0fa4e8e1e42a"
      },
      "outputs": [
        {
          "output_type": "execute_result",
          "data": {
            "text/plain": [
              "{'mean_fit_time': array([ 21.43790364,   3.10006599,   1.08372607, 136.47960043,\n",
              "         30.23206444,   4.74353414,   1.53775978, 175.92281604,\n",
              "         37.36585717,   6.03855934,   1.74621334, 202.73735857]),\n",
              " 'std_fit_time': array([7.30044698e-01, 4.59105883e-02, 1.26327850e-02, 1.96634567e+00,\n",
              "        2.79127828e+00, 4.22235091e-01, 1.91722364e-01, 2.92163826e+00,\n",
              "        3.61909170e-01, 5.42202341e-01, 8.91621280e-03, 2.87579263e+01]),\n",
              " 'mean_score_time': array([0.10625358, 0.10166903, 0.09512672, 0.10663872, 0.11701632,\n",
              "        0.14636149, 0.10268979, 0.12045789, 0.1375814 , 0.12638478,\n",
              "        0.10880585, 0.12223282]),\n",
              " 'std_score_time': array([0.00154978, 0.00296263, 0.00813756, 0.00237473, 0.00122169,\n",
              "        0.04720366, 0.00307437, 0.0087029 , 0.01250709, 0.0121136 ,\n",
              "        0.00261173, 0.01296921]),\n",
              " 'param_max_depth': masked_array(data=[20, 20, 20, 20, 25, 25, 25, 25, 30, 30, 30, 30],\n",
              "              mask=[False, False, False, False, False, False, False, False,\n",
              "                    False, False, False, False],\n",
              "        fill_value='?',\n",
              "             dtype=object),\n",
              " 'param_max_features': masked_array(data=[500, 'sqrt', 'log2', 'auto', 500, 'sqrt', 'log2',\n",
              "                    'auto', 500, 'sqrt', 'log2', 'auto'],\n",
              "              mask=[False, False, False, False, False, False, False, False,\n",
              "                    False, False, False, False],\n",
              "        fill_value='?',\n",
              "             dtype=object),\n",
              " 'params': [{'max_depth': 20, 'max_features': 500},\n",
              "  {'max_depth': 20, 'max_features': 'sqrt'},\n",
              "  {'max_depth': 20, 'max_features': 'log2'},\n",
              "  {'max_depth': 20, 'max_features': 'auto'},\n",
              "  {'max_depth': 25, 'max_features': 500},\n",
              "  {'max_depth': 25, 'max_features': 'sqrt'},\n",
              "  {'max_depth': 25, 'max_features': 'log2'},\n",
              "  {'max_depth': 25, 'max_features': 'auto'},\n",
              "  {'max_depth': 30, 'max_features': 500},\n",
              "  {'max_depth': 30, 'max_features': 'sqrt'},\n",
              "  {'max_depth': 30, 'max_features': 'log2'},\n",
              "  {'max_depth': 30, 'max_features': 'auto'}],\n",
              " 'split0_test_score': array([-0.57711622, -0.91802508, -1.31086466, -0.60770277, -0.49419088,\n",
              "        -0.79562307, -1.24002495, -0.52750457, -0.43808734, -0.70838081,\n",
              "        -1.1682523 , -0.47101565]),\n",
              " 'split1_test_score': array([-0.54040747, -0.90232038, -1.30899954, -0.54864131, -0.45877801,\n",
              "        -0.79421337, -1.23509783, -0.47205791, -0.39938152, -0.70343606,\n",
              "        -1.15158423, -0.40785764]),\n",
              " 'split2_test_score': array([-0.52967646, -0.92052191, -1.32550413, -0.56011869, -0.45397421,\n",
              "        -0.80157213, -1.24964999, -0.48911902, -0.39869552, -0.70210231,\n",
              "        -1.17591427, -0.43667176]),\n",
              " 'split3_test_score': array([-0.51286738, -0.84218495, -1.23435412, -0.55405124, -0.44060264,\n",
              "        -0.72872523, -1.16144598, -0.48711195, -0.38946936, -0.64208627,\n",
              "        -1.09166191, -0.44091487]),\n",
              " 'split4_test_score': array([-0.52201254, -0.89301684, -1.29457821, -0.55666497, -0.44397776,\n",
              "        -0.77977738, -1.22165842, -0.48484912, -0.38804473, -0.6908389 ,\n",
              "        -1.14878676, -0.43237801]),\n",
              " 'mean_test_score': array([-0.53641601, -0.89521383, -1.29486013, -0.5654358 , -0.4583047 ,\n",
              "        -0.77998224, -1.22157544, -0.49212852, -0.40273569, -0.68936887,\n",
              "        -1.14723989, -0.43776759]),\n",
              " 'std_test_score': array([0.02227042, 0.02838395, 0.03179993, 0.02146327, 0.01910717,\n",
              "        0.02661055, 0.03139101, 0.01866283, 0.01827092, 0.02432811,\n",
              "        0.02957674, 0.02019997]),\n",
              " 'rank_test_score': array([ 5,  9, 12,  6,  3,  8, 11,  4,  1,  7, 10,  2], dtype=int32)}"
            ]
          },
          "metadata": {},
          "execution_count": 55
        }
      ],
      "source": [
        "grid_search.cv_results_"
      ]
    },
    {
      "cell_type": "markdown",
      "metadata": {
        "id": "vD8NsqlnyV7c"
      },
      "source": [
        "Lets see which is the best estimtor"
      ]
    },
    {
      "cell_type": "code",
      "execution_count": 56,
      "metadata": {
        "colab": {
          "base_uri": "https://localhost:8080/"
        },
        "id": "zkuWESFSqyII",
        "outputId": "851ce767-67eb-4a7a-89a7-b590fb6b75b5"
      },
      "outputs": [
        {
          "output_type": "execute_result",
          "data": {
            "text/plain": [
              "RandomForestRegressor(max_depth=30, max_features=500, random_state=42)"
            ]
          },
          "metadata": {},
          "execution_count": 56
        }
      ],
      "source": [
        "grid_search.best_estimator_"
      ]
    },
    {
      "cell_type": "markdown",
      "metadata": {
        "id": "zQzf8CLZy26A"
      },
      "source": [
        "# **Using the best estimator to make predictions on the test set**"
      ]
    },
    {
      "cell_type": "code",
      "execution_count": 57,
      "metadata": {
        "id": "hlGYNkmWrn7v"
      },
      "outputs": [],
      "source": [
        "y_train_pred = grid_search.best_estimator_.predict(X_train_bow)"
      ]
    },
    {
      "cell_type": "code",
      "execution_count": 58,
      "metadata": {
        "id": "6p7niVZDrvf5"
      },
      "outputs": [],
      "source": [
        "y_test_pred = grid_search.best_estimator_.predict(X_test_bow)\n"
      ]
    },
    {
      "cell_type": "code",
      "execution_count": 59,
      "metadata": {
        "colab": {
          "base_uri": "https://localhost:8080/"
        },
        "id": "sPZY5hmPr2A8",
        "outputId": "f9ef0b0e-a1df-4bdf-b773-4e00a10530ec"
      },
      "outputs": [
        {
          "output_type": "execute_result",
          "data": {
            "text/plain": [
              "0.519080829238783"
            ]
          },
          "metadata": {},
          "execution_count": 59
        }
      ],
      "source": [
        "mean_squared_error(y_train, y_train_pred)**0.5"
      ]
    },
    {
      "cell_type": "code",
      "execution_count": 60,
      "metadata": {
        "colab": {
          "base_uri": "https://localhost:8080/"
        },
        "id": "txxVpPx9r4Bp",
        "outputId": "e384fe93-7348-4428-d566-81a0e8f94d3f"
      },
      "outputs": [
        {
          "output_type": "execute_result",
          "data": {
            "text/plain": [
              "0.625162520140185"
            ]
          },
          "metadata": {},
          "execution_count": 60
        }
      ],
      "source": [
        "mean_squared_error(y_test, y_test_pred)**0.5"
      ]
    },
    {
      "cell_type": "markdown",
      "metadata": {
        "id": "aqhcWhgqyfCd"
      },
      "source": [
        "# **Identifying mismatch cases**"
      ]
    },
    {
      "cell_type": "code",
      "execution_count": 61,
      "metadata": {
        "id": "tzUYub80r7_A"
      },
      "outputs": [],
      "source": [
        "res_df = pd.DataFrame({'review':X_test, 'rating':y_test, 'rating_pred':y_test_pred})"
      ]
    },
    {
      "cell_type": "code",
      "execution_count": 62,
      "metadata": {
        "colab": {
          "base_uri": "https://localhost:8080/"
        },
        "id": "1VF7lbrgsGvN",
        "outputId": "3f6b3212-a23c-4a93-8e51-4ff4495235b4"
      },
      "outputs": [
        {
          "output_type": "execute_result",
          "data": {
            "text/plain": [
              "(9, 3)"
            ]
          },
          "metadata": {},
          "execution_count": 62
        }
      ],
      "source": [
        "res_df[(res_df.rating - res_df.rating_pred)>=2].shape"
      ]
    },
    {
      "cell_type": "code",
      "execution_count": 63,
      "metadata": {
        "colab": {
          "base_uri": "https://localhost:8080/",
          "height": 332
        },
        "id": "kzrsKhY2sI3g",
        "outputId": "2fdfdb7f-598d-49e8-cce2-da66d6118560"
      },
      "outputs": [
        {
          "output_type": "execute_result",
          "data": {
            "text/plain": [
              "                                                  review  rating  rating_pred\n",
              "7277   life saviours serving excellent food worst tim...     5.0     2.352474\n",
              "4771                                            not good     5.0     2.000031\n",
              "16510  may not polished serving packaging etc never b...     5.0     1.952442\n",
              "14845  oh memories place first drink bangalore almost...     5.0     2.578380\n",
              "16916                   delivered time really liked food     5.0     2.893742\n",
              "15201                                 sauce not included     4.0     1.742956\n",
              "27705  options would improvement long quality not com...     4.0     1.828912\n",
              "3165                                  rice quantity less     5.0     2.750608\n",
              "16515  may not polished serving packaging etc never b...     5.0     1.952442"
            ],
            "text/html": [
              "\n",
              "  <div id=\"df-6f965dba-d405-4739-a0f4-17987e30f10c\">\n",
              "    <div class=\"colab-df-container\">\n",
              "      <div>\n",
              "<style scoped>\n",
              "    .dataframe tbody tr th:only-of-type {\n",
              "        vertical-align: middle;\n",
              "    }\n",
              "\n",
              "    .dataframe tbody tr th {\n",
              "        vertical-align: top;\n",
              "    }\n",
              "\n",
              "    .dataframe thead th {\n",
              "        text-align: right;\n",
              "    }\n",
              "</style>\n",
              "<table border=\"1\" class=\"dataframe\">\n",
              "  <thead>\n",
              "    <tr style=\"text-align: right;\">\n",
              "      <th></th>\n",
              "      <th>review</th>\n",
              "      <th>rating</th>\n",
              "      <th>rating_pred</th>\n",
              "    </tr>\n",
              "  </thead>\n",
              "  <tbody>\n",
              "    <tr>\n",
              "      <th>7277</th>\n",
              "      <td>life saviours serving excellent food worst tim...</td>\n",
              "      <td>5.0</td>\n",
              "      <td>2.352474</td>\n",
              "    </tr>\n",
              "    <tr>\n",
              "      <th>4771</th>\n",
              "      <td>not good</td>\n",
              "      <td>5.0</td>\n",
              "      <td>2.000031</td>\n",
              "    </tr>\n",
              "    <tr>\n",
              "      <th>16510</th>\n",
              "      <td>may not polished serving packaging etc never b...</td>\n",
              "      <td>5.0</td>\n",
              "      <td>1.952442</td>\n",
              "    </tr>\n",
              "    <tr>\n",
              "      <th>14845</th>\n",
              "      <td>oh memories place first drink bangalore almost...</td>\n",
              "      <td>5.0</td>\n",
              "      <td>2.578380</td>\n",
              "    </tr>\n",
              "    <tr>\n",
              "      <th>16916</th>\n",
              "      <td>delivered time really liked food</td>\n",
              "      <td>5.0</td>\n",
              "      <td>2.893742</td>\n",
              "    </tr>\n",
              "    <tr>\n",
              "      <th>15201</th>\n",
              "      <td>sauce not included</td>\n",
              "      <td>4.0</td>\n",
              "      <td>1.742956</td>\n",
              "    </tr>\n",
              "    <tr>\n",
              "      <th>27705</th>\n",
              "      <td>options would improvement long quality not com...</td>\n",
              "      <td>4.0</td>\n",
              "      <td>1.828912</td>\n",
              "    </tr>\n",
              "    <tr>\n",
              "      <th>3165</th>\n",
              "      <td>rice quantity less</td>\n",
              "      <td>5.0</td>\n",
              "      <td>2.750608</td>\n",
              "    </tr>\n",
              "    <tr>\n",
              "      <th>16515</th>\n",
              "      <td>may not polished serving packaging etc never b...</td>\n",
              "      <td>5.0</td>\n",
              "      <td>1.952442</td>\n",
              "    </tr>\n",
              "  </tbody>\n",
              "</table>\n",
              "</div>\n",
              "      <button class=\"colab-df-convert\" onclick=\"convertToInteractive('df-6f965dba-d405-4739-a0f4-17987e30f10c')\"\n",
              "              title=\"Convert this dataframe to an interactive table.\"\n",
              "              style=\"display:none;\">\n",
              "        \n",
              "  <svg xmlns=\"http://www.w3.org/2000/svg\" height=\"24px\"viewBox=\"0 0 24 24\"\n",
              "       width=\"24px\">\n",
              "    <path d=\"M0 0h24v24H0V0z\" fill=\"none\"/>\n",
              "    <path d=\"M18.56 5.44l.94 2.06.94-2.06 2.06-.94-2.06-.94-.94-2.06-.94 2.06-2.06.94zm-11 1L8.5 8.5l.94-2.06 2.06-.94-2.06-.94L8.5 2.5l-.94 2.06-2.06.94zm10 10l.94 2.06.94-2.06 2.06-.94-2.06-.94-.94-2.06-.94 2.06-2.06.94z\"/><path d=\"M17.41 7.96l-1.37-1.37c-.4-.4-.92-.59-1.43-.59-.52 0-1.04.2-1.43.59L10.3 9.45l-7.72 7.72c-.78.78-.78 2.05 0 2.83L4 21.41c.39.39.9.59 1.41.59.51 0 1.02-.2 1.41-.59l7.78-7.78 2.81-2.81c.8-.78.8-2.07 0-2.86zM5.41 20L4 18.59l7.72-7.72 1.47 1.35L5.41 20z\"/>\n",
              "  </svg>\n",
              "      </button>\n",
              "      \n",
              "  <style>\n",
              "    .colab-df-container {\n",
              "      display:flex;\n",
              "      flex-wrap:wrap;\n",
              "      gap: 12px;\n",
              "    }\n",
              "\n",
              "    .colab-df-convert {\n",
              "      background-color: #E8F0FE;\n",
              "      border: none;\n",
              "      border-radius: 50%;\n",
              "      cursor: pointer;\n",
              "      display: none;\n",
              "      fill: #1967D2;\n",
              "      height: 32px;\n",
              "      padding: 0 0 0 0;\n",
              "      width: 32px;\n",
              "    }\n",
              "\n",
              "    .colab-df-convert:hover {\n",
              "      background-color: #E2EBFA;\n",
              "      box-shadow: 0px 1px 2px rgba(60, 64, 67, 0.3), 0px 1px 3px 1px rgba(60, 64, 67, 0.15);\n",
              "      fill: #174EA6;\n",
              "    }\n",
              "\n",
              "    [theme=dark] .colab-df-convert {\n",
              "      background-color: #3B4455;\n",
              "      fill: #D2E3FC;\n",
              "    }\n",
              "\n",
              "    [theme=dark] .colab-df-convert:hover {\n",
              "      background-color: #434B5C;\n",
              "      box-shadow: 0px 1px 3px 1px rgba(0, 0, 0, 0.15);\n",
              "      filter: drop-shadow(0px 1px 2px rgba(0, 0, 0, 0.3));\n",
              "      fill: #FFFFFF;\n",
              "    }\n",
              "  </style>\n",
              "\n",
              "      <script>\n",
              "        const buttonEl =\n",
              "          document.querySelector('#df-6f965dba-d405-4739-a0f4-17987e30f10c button.colab-df-convert');\n",
              "        buttonEl.style.display =\n",
              "          google.colab.kernel.accessAllowed ? 'block' : 'none';\n",
              "\n",
              "        async function convertToInteractive(key) {\n",
              "          const element = document.querySelector('#df-6f965dba-d405-4739-a0f4-17987e30f10c');\n",
              "          const dataTable =\n",
              "            await google.colab.kernel.invokeFunction('convertToInteractive',\n",
              "                                                     [key], {});\n",
              "          if (!dataTable) return;\n",
              "\n",
              "          const docLinkHtml = 'Like what you see? Visit the ' +\n",
              "            '<a target=\"_blank\" href=https://colab.research.google.com/notebooks/data_table.ipynb>data table notebook</a>'\n",
              "            + ' to learn more about interactive tables.';\n",
              "          element.innerHTML = '';\n",
              "          dataTable['output_type'] = 'display_data';\n",
              "          await google.colab.output.renderOutput(dataTable, element);\n",
              "          const docLink = document.createElement('div');\n",
              "          docLink.innerHTML = docLinkHtml;\n",
              "          element.appendChild(docLink);\n",
              "        }\n",
              "      </script>\n",
              "    </div>\n",
              "  </div>\n",
              "  "
            ]
          },
          "metadata": {},
          "execution_count": 63
        }
      ],
      "source": [
        "res_df[(res_df.rating - res_df.rating_pred)>=2]"
      ]
    }
  ],
  "metadata": {
    "colab": {
      "provenance": []
    },
    "kernelspec": {
      "display_name": "Python 3",
      "name": "python3"
    },
    "language_info": {
      "name": "python"
    }
  },
  "nbformat": 4,
  "nbformat_minor": 0
}