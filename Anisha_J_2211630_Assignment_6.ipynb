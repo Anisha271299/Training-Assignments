{
  "cells": [
    {
      "cell_type": "markdown",
      "metadata": {
        "id": "1RqukTmuIZ_1"
      },
      "source": [
        "# **Introduction to Deep Learning with Keras and TensorFlow**\n"
      ]
    },
    {
      "cell_type": "markdown",
      "metadata": {
        "id": "z2X13xuRIZ_4"
      },
      "source": [
        "Our goal is to construct and train an artificial neural network on thousands of images of handwritten digits so that it may successfully identify others when presented. The data that will be incorporated is the MNIST database ."
      ]
    },
    {
      "cell_type": "markdown",
      "source": [
        "# About the dataset\n",
        "\n",
        "MNIST is a collection of handwritten digits ranging from the number 0 to 9.\n",
        "\n",
        "It has a training set of 60,000 images, and 10,000 test images that are classified into corresponding categories or labels.\n",
        "\n",
        "To use the MNIST dataset in Keras, an API is provided to download and extract images and labels automatically.\n",
        "\n",
        "The following Keras code shows how to access MNIST dataset, plot 25 random samples, and count the number of labels for train and test datasets.\n"
      ],
      "metadata": {
        "id": "3OiTW7nHFKkp"
      }
    },
    {
      "cell_type": "markdown",
      "metadata": {
        "id": "tAdoA6QwIZ_5"
      },
      "source": [
        "##Importing necessary libraries\n",
        "\n",
        "First, some modules needs to be loaded into the Python environment."
      ]
    },
    {
      "cell_type": "code",
      "execution_count": 5,
      "metadata": {
        "id": "pDJQsNV_IZ_6"
      },
      "outputs": [],
      "source": [
        "import numpy as np                   # advanced math library\n",
        "import matplotlib.pyplot as plt      # MATLAB like plotting routines\n",
        "import random                        # for generating random numbers\n",
        "\n",
        "from keras.datasets import mnist     # MNIST dataset is included in Keras\n",
        "from keras.models import Sequential  # Model type to be used\n",
        "\n",
        "from keras.layers.core import Dense, Dropout, Activation \n",
        "#The dropout layer ignores a set of neurons randomly).This normally is used to prevent the net from overfitting.\n",
        "#The Dense layer is a normal fully connected layer in a neuronal network.\n",
        "#An Activation Function decides whether a neuron should be activated or not\n",
        "\n",
        "from keras.utils import np_utils                        \n",
        "#np_utils. to_categorical is used to convert array of labeled data(from 0 to nb_classes - 1 ) to one-hot vector"
      ]
    },
    {
      "cell_type": "code",
      "execution_count": 4,
      "metadata": {
        "collapsed": true,
        "id": "wC5B7eCLIZ_y"
      },
      "outputs": [],
      "source": [
        "%matplotlib inline"
      ]
    },
    {
      "cell_type": "markdown",
      "metadata": {
        "id": "75oQ8UTDIZ_7"
      },
      "source": [
        "## Loading Training Data\n",
        "\n",
        "The MNIST dataset is conveniently bundled within Keras, and we can easily analyze some of its features in Python.\n",
        "\n",
        "Here,The MNIST data is split between 60,000 (28 x 28 pixel)\n",
        "training images and 10,000 (28 x 28 pixel) images"
      ]
    },
    {
      "cell_type": "code",
      "execution_count": 6,
      "metadata": {
        "id": "hFS_i6nLIZ_8",
        "outputId": "4709fd92-ec93-4982-cb4b-c2180b8eb540",
        "colab": {
          "base_uri": "https://localhost:8080/"
        }
      },
      "outputs": [
        {
          "output_type": "stream",
          "name": "stdout",
          "text": [
            "X_train shape (60000, 28, 28)\n",
            "y_train shape (60000,)\n",
            "X_test shape (10000, 28, 28)\n",
            "y_test shape (10000,)\n"
          ]
        }
      ],
      "source": [
        "(X_train, y_train), (X_test, y_test) = mnist.load_data()\n",
        "\n",
        "print(\"X_train shape\", X_train.shape)\n",
        "print(\"y_train shape\", y_train.shape)\n",
        "print(\"X_test shape\", X_test.shape)\n",
        "print(\"y_test shape\", y_test.shape)"
      ]
    },
    {
      "cell_type": "markdown",
      "metadata": {
        "id": "uLHlmSvXIZ_9"
      },
      "source": [
        "Using matplotlib, we can plot some sample images from the training set directly into this Jupyter Notebook."
      ]
    },
    {
      "cell_type": "code",
      "execution_count": 7,
      "metadata": {
        "id": "iH4rtfY6IZ_9",
        "outputId": "df10ce02-f55a-4c31-ba9b-5806ec790c5e",
        "colab": {
          "base_uri": "https://localhost:8080/",
          "height": 657
        }
      },
      "outputs": [
        {
          "output_type": "display_data",
          "data": {
            "text/plain": [
              "<Figure size 648x648 with 9 Axes>"
            ],
            "image/png": "[encoded data removed]"
          },
          "metadata": {
            "needs_background": "light"
          }
        }
      ],
      "source": [
        "plt.rcParams['figure.figsize'] = (9,9) # Make the figures a bit bigger\n",
        "\n",
        "for i in range(9):                     #selecting numbers between range of 9\n",
        "    plt.subplot(3,3,i+1)               #making subplots of three rows and three columns by plotting numbers from range(9) and then incrementing\n",
        "    num = random.randint(0, len(X_train)) #Return random integers from the traning set\n",
        "    plt.imshow(X_train[num], cmap='gray', interpolation='none') #showing the plotted image\n",
        "    plt.title(\"Class {}\".format(y_train[num]))   #providing titles for each classes by formating it with predicted numbers\n",
        "    \n",
        "plt.tight_layout()                       #tight_layout automatically adjusts subplot params so that the subplots fits in to the figure area"
      ]
    },
    {
      "cell_type": "markdown",
      "metadata": {
        "id": "XKBJseghIZ_-"
      },
      "source": [
        "Let's examine a single digit a little closer, and print out the array representing the last digit."
      ]
    },
    {
      "cell_type": "code",
      "execution_count": 8,
      "metadata": {
        "id": "as5VqfaEIZ_-",
        "outputId": "14bbd64c-b85c-4c03-f1f1-7786eb295d1f",
        "colab": {
          "base_uri": "https://localhost:8080/"
        }
      },
      "outputs": [
        {
          "output_type": "stream",
          "name": "stdout",
          "text": [
            "0  0  0  0  0  0  0   0    0    0    0    0    0    0    0    0    0    0    0    0    0    0   0  0  0  0  0  0  \n",
            "0  0  0  0  0  0  0   0    0    0    0    0    0    0    0    0    0    0    0    0    0    0   0  0  0  0  0  0  \n",
            "0  0  0  0  0  0  0   0    0    0    0    0    0    0    0    0    0    0    0    0    0    0   0  0  0  0  0  0  \n",
            "0  0  0  0  0  0  0   0    0    0    0    0    0    0    0    0    0    0    0    0    0    0   0  0  0  0  0  0  \n",
            "0  0  0  0  0  0  0   0    0    0    0    0    0   47  233  253  253   63    0    0    0    0   0  0  0  0  0  0  \n",
            "0  0  0  0  0  0  0   0    0    0    0   11  155  233  252  252  252  144    0    0    0    0   0  0  0  0  0  0  \n",
            "0  0  0  0  0  0  0   0    0    0   11  150  252  253  252  252  252  144    0    0    0    0   0  0  0  0  0  0  \n",
            "0  0  0  0  0  0  0   0    0    0   73  252  252  253  168  252  252  144    0    0    0    0   0  0  0  0  0  0  \n",
            "0  0  0  0  0  0  0   0    1  109  232  252  252  206   93  252  252  144    0    0    0    0   0  0  0  0  0  0  \n",
            "0  0  0  0  0  0  0   0   42  252  252  252  128   20   73  252  252  104    0    0    0    0   0  0  0  0  0  0  \n",
            "0  0  0  0  0  0  0  27  221  252  252  252  190    0   94  252  252    0    0    0    0    0   0  0  0  0  0  0  \n",
            "0  0  0  0  0  0  0  37  252  252  210  108   46    0  217  252  252    0    0    0    0    0   0  0  0  0  0  0  \n",
            "0  0  0  0  0  0  0  37  253  253  180    0    0    0  218  253  253    0    0    0    0    0   0  0  0  0  0  0  \n",
            "0  0  0  0  0  0  0   5  159  252  179    0    0    0  217  252  252   42    0    0    0    0   0  0  0  0  0  0  \n",
            "0  0  0  0  0  0  0   0   41  252  231  160   37   21  217  252  252  125    0    0    0    0   0  0  0  0  0  0  \n",
            "0  0  0  0  0  0  0   0    1  169  252  252  252  207  237  252  252    0    0    0    0    0   0  0  0  0  0  0  \n",
            "0  0  0  0  0  0  0   0    0    0  125  222  253  255  253  253  253   63    0    0    0    0   0  0  0  0  0  0  \n",
            "0  0  0  0  0  0  0   0    0    0    0   46  221  253  252  252  252  176   52    0    0    0   0  0  0  0  0  0  \n",
            "0  0  0  0  0  0  0   0    0    0    0    0   41   72  227  252  252  253  231  160   16    0   0  0  0  0  0  0  \n",
            "0  0  0  0  0  0  0   0    0    0    0    0    0    0  134  252  252  253  252  252  190    0   0  0  0  0  0  0  \n",
            "0  0  0  0  0  0  0   0    0    0    0    0    0    0   42  222  253  255  253  253  253  192  15  0  0  0  0  0  \n",
            "0  0  0  0  0  0  0   0    0    0    0    0    0    0    0   57  252  253  252  252  252  253  35  0  0  0  0  0  \n",
            "0  0  0  0  0  0  0   0    0    0    0    0    0    0    0   11  154  253  252  252  252  237  30  0  0  0  0  0  \n",
            "0  0  0  0  0  0  0   0    0    0    0    0    0    0    0    0    0  108  148  252  252   62   0  0  0  0  0  0  \n",
            "0  0  0  0  0  0  0   0    0    0    0    0    0    0    0    0    0    0    0    0    0    0   0  0  0  0  0  0  \n",
            "0  0  0  0  0  0  0   0    0    0    0    0    0    0    0    0    0    0    0    0    0    0   0  0  0  0  0  0  \n",
            "0  0  0  0  0  0  0   0    0    0    0    0    0    0    0    0    0    0    0    0    0    0   0  0  0  0  0  0  \n",
            "0  0  0  0  0  0  0   0    0    0    0    0    0    0    0    0    0    0    0    0    0    0   0  0  0  0  0  0  \n"
          ]
        }
      ],
      "source": [
        "# just a little function for pretty printing a matrix\n",
        "def matprint(mat, fmt=\"g\"):\n",
        "    col_maxes = [max([len((\"{:\"+fmt+\"}\").format(x)) for x in col]) for col in mat.T]\n",
        "    for x in mat:\n",
        "        for i, y in enumerate(x):\n",
        "            print((\"{:\"+str(col_maxes[i])+fmt+\"}\").format(y), end=\"  \")\n",
        "        print(\"\")\n",
        "\n",
        "# now print!        \n",
        "matprint(X_train[num])"
      ]
    },
    {
      "cell_type": "markdown",
      "metadata": {
        "id": "IatbhDEcIZ__"
      },
      "source": [
        "Each pixel is an 8-bit integer from 0-255. 0 is full black, while 255 is full white. This what we call a single-channel pixel. It's called monochrome.\n",
        "\n"
      ]
    },
    {
      "cell_type": "markdown",
      "metadata": {
        "id": "784ZcTIBIaAA"
      },
      "source": [
        "## Formatting the input data layer\n",
        "\n",
        "Instead of a 28 x 28 matrix, we build our network to accept a 784-length vector.\n",
        "\n",
        "Each image needs to be then reshaped (or flattened) into a vector. We'll also normalize the inputs to be in the range [0-1] rather than [0-255]. Normalizing inputs is generally recommended, so that any additional dimensions (for other network architectures) are of the same scale."
      ]
    },
    {
      "cell_type": "code",
      "execution_count": 9,
      "metadata": {
        "id": "G0K-XN5HIaAB",
        "outputId": "2130581a-9ead-4d0d-910e-ffbb64f10c50",
        "colab": {
          "base_uri": "https://localhost:8080/"
        }
      },
      "outputs": [
        {
          "output_type": "stream",
          "name": "stdout",
          "text": [
            "Training matrix shape (60000, 784)\n",
            "Testing matrix shape (10000, 784)\n"
          ]
        }
      ],
      "source": [
        "X_train = X_train.reshape(60000, 784) # reshape 60,000 28 x 28 matrices into 60,000 784-length vectors.\n",
        "X_test = X_test.reshape(10000, 784)   # reshape 10,000 28 x 28 matrices into 10,000 784-length vectors.\n",
        "\n",
        "X_train = X_train.astype('float32')   # change integers to 32-bit floating point numbers\n",
        "X_test = X_test.astype('float32')\n",
        "\n",
        "X_train /= 255                        # normalize each value for each pixel for the entire vector for each input\n",
        "X_test /= 255\n",
        "\n",
        "print(\"Training matrix shape\", X_train.shape) #Printing the shape of the training and testing matrix\n",
        "print(\"Testing matrix shape\", X_test.shape)"
      ]
    },
    {
      "cell_type": "markdown",
      "metadata": {
        "id": "5gzfnS6xIaAC"
      },
      "source": [
        "We then modify our classes (unique digits) to be in the one-hot format, i.e.\n",
        "\n",
        "```\n",
        "0 -> [1, 0, 0, 0, 0, 0, 0, 0, 0]\n",
        "1 -> [0, 1, 0, 0, 0, 0, 0, 0, 0]\n",
        "2 -> [0, 0, 1, 0, 0, 0, 0, 0, 0]\n",
        "etc.\n",
        "```\n",
        "\n",
        "If the final output of our network is very close to one of these classes, then it is most likely that class. For example, if the final output is:\n",
        "\n",
        "```\n",
        "[0, 0.94, 0, 0, 0, 0, 0.06, 0, 0]\n",
        "```\n",
        "then it is most probable that the image is that of the digit `1`."
      ]
    },
    {
      "cell_type": "code",
      "execution_count": 10,
      "metadata": {
        "collapsed": true,
        "id": "sfaTrY4JIaAD"
      },
      "outputs": [],
      "source": [
        "nb_classes = 10 # number of unique digits\n",
        "\n",
        "Y_train = np_utils.to_categorical(y_train, nb_classes)\n",
        "Y_test = np_utils.to_categorical(y_test, nb_classes)"
      ]
    },
    {
      "cell_type": "markdown",
      "metadata": {
        "id": "cm2X3APQIaAE"
      },
      "source": [
        "# Building a 3-layer fully connected network (FCN)\n",
        "\n"
      ]
    },
    {
      "cell_type": "code",
      "execution_count": 11,
      "metadata": {
        "collapsed": true,
        "id": "Noq9jLA4IaAF"
      },
      "outputs": [],
      "source": [
        "# The Sequential model is a linear stack of layers and is very common.\n",
        "\n",
        "model = Sequential()"
      ]
    },
    {
      "cell_type": "markdown",
      "metadata": {
        "id": "hyTgu-MCIaAF"
      },
      "source": [
        "## The first hidden layer\n",
        "The first hidden layer is a set of 512 nodes (artificial neurons).\n",
        "\n",
        "Each node will receive an element from each input vector and apply some weight and bias to it."
      ]
    },
    {
      "cell_type": "code",
      "execution_count": 12,
      "metadata": {
        "collapsed": true,
        "id": "95WTi7xDIaAF"
      },
      "outputs": [],
      "source": [
        "model.add(Dense(512, input_shape=(784,))) #(784,) is not a typo -- that represents a 784 length vector!"
      ]
    },
    {
      "cell_type": "markdown",
      "source": [
        "# Model activation"
      ],
      "metadata": {
        "id": "u9vEZqhAMUio"
      }
    },
    {
      "cell_type": "markdown",
      "source": [
        "An \"**activation**\" is a non-linear function applied to the output of the layer above.\n",
        "\n",
        "It checks the new value of the node, and decides whether that artifical neuron has fired.\n",
        "\n",
        "\n",
        "**relu or Rectified Linear Unit (ReLU)** is a simple non-linear function. It allows positive inputs to pass through unchanged while clamping everything else to zero.\n",
        "\n",
        "Those inputs are then not considered to be fired.\n",
        "\n",
        "Positive values of a node are unchanged.\n"
      ],
      "metadata": {
        "id": "j3o3qy9CK2tG"
      }
    },
    {
      "cell_type": "code",
      "execution_count": 13,
      "metadata": {
        "collapsed": true,
        "id": "6OL771zBIaAG"
      },
      "outputs": [],
      "source": [
        "model.add(Activation('relu')) "
      ]
    },
    {
      "cell_type": "code",
      "execution_count": 14,
      "metadata": {
        "collapsed": true,
        "id": "jL3UfyijIaAG"
      },
      "outputs": [],
      "source": [
        "# Dropout zeroes a selection of random outputs (i.e., disables their activation)\n",
        "# Dropout helps protect the model from memorizing or \"overfitting\" the training data.\n",
        "model.add(Dropout(0.2)) #Dropout is the dropout rate "
      ]
    },
    {
      "cell_type": "markdown",
      "metadata": {
        "id": "dzhpznmMIaAG"
      },
      "source": [
        "## Adding the second hidden layer"
      ]
    },
    {
      "cell_type": "markdown",
      "source": [
        "The second hidden layer appears identical to our first layer.\n",
        "\n",
        "However, instead of each of the 512-node receiving 784-inputs from the input image data,they receive 512 inputs from the output of the first 512-node layer."
      ],
      "metadata": {
        "id": "b2dxI19IMcCp"
      }
    },
    {
      "cell_type": "code",
      "execution_count": 15,
      "metadata": {
        "collapsed": true,
        "id": "9GJBLsbOIaAG"
      },
      "outputs": [],
      "source": [
        "model.add(Dense(512))\n",
        "model.add(Activation('relu'))\n",
        "model.add(Dropout(0.2)) #Dropout is the dropout rate "
      ]
    },
    {
      "cell_type": "markdown",
      "metadata": {
        "id": "rtjdOpc4IaAH"
      },
      "source": [
        "## The Final Output Layer"
      ]
    },
    {
      "cell_type": "markdown",
      "source": [
        "The final layer of 10 neurons in fully-connected to the previous 512-node layer.\n",
        "\n",
        "The final layer of a FCN should be equal to the number of desired classes (10 in this case)."
      ],
      "metadata": {
        "id": "EvGtzNPLMo65"
      }
    },
    {
      "cell_type": "code",
      "execution_count": 16,
      "metadata": {
        "collapsed": true,
        "id": "Drer8oJ9IaAH"
      },
      "outputs": [],
      "source": [
        "model.add(Dense(10))"
      ]
    },
    {
      "cell_type": "markdown",
      "source": [
        "The \"softmax\" activation represents a probability distribution over K different possible outcomes.\n",
        "\n",
        "Its values are all non-negative and sum to 1."
      ],
      "metadata": {
        "id": "AiaQ1YDkxuL1"
      }
    },
    {
      "cell_type": "code",
      "execution_count": 17,
      "metadata": {
        "collapsed": true,
        "id": "GC_xltsLIaAH"
      },
      "outputs": [],
      "source": [
        "model.add(Activation('softmax'))"
      ]
    },
    {
      "cell_type": "code",
      "execution_count": 18,
      "metadata": {
        "id": "xxzyABf5IaAH",
        "outputId": "936635de-7bde-4194-abec-24e1147f62a8",
        "colab": {
          "base_uri": "https://localhost:8080/"
        }
      },
      "outputs": [
        {
          "output_type": "stream",
          "name": "stdout",
          "text": [
            "Model: \"sequential\"\n",
            "_________________________________________________________________\n",
            " Layer (type)                Output Shape              Param #   \n",
            "=================================================================\n",
            " dense (Dense)               (None, 512)               401920    \n",
            "                                                                 \n",
            " activation (Activation)     (None, 512)               0         \n",
            "                                                                 \n",
            " dropout (Dropout)           (None, 512)               0         \n",
            "                                                                 \n",
            " dense_1 (Dense)             (None, 512)               262656    \n",
            "                                                                 \n",
            " activation_1 (Activation)   (None, 512)               0         \n",
            "                                                                 \n",
            " dropout_1 (Dropout)         (None, 512)               0         \n",
            "                                                                 \n",
            " dense_2 (Dense)             (None, 10)                5130      \n",
            "                                                                 \n",
            " activation_2 (Activation)   (None, 10)                0         \n",
            "                                                                 \n",
            "=================================================================\n",
            "Total params: 669,706\n",
            "Trainable params: 669,706\n",
            "Non-trainable params: 0\n",
            "_________________________________________________________________\n"
          ]
        }
      ],
      "source": [
        "# Summarize the built model\n",
        "\n",
        "model.summary()"
      ]
    },
    {
      "cell_type": "markdown",
      "metadata": {
        "id": "yfZ6_ztcIaAH"
      },
      "source": [
        "## Compiling the model\n",
        "\n",
        "Keras is built on top of Theano and TensorFlow. Both packages allow you to define a *computation graph* in Python, which then compiles and runs efficiently on the CPU or GPU without the overhead of the Python interpreter.\n",
        "\n",
        "When compiling a model, Keras asks you to specify your **loss function** and your **optimizer**. \n",
        "\n",
        "**Loss function** — A way of measuring how far off predictions are from the desired outcome.\n",
        "\n",
        "**Optimizer function** — A way of adjusting internal values in order to reduce the loss.\n",
        "\n",
        "The loss function we'll use here is called *categorical cross-entropy*, and is a loss function well-suited to comparing two probability distributions.\n",
        "\n",
        "Our predictions are probability distributions across the ten different digits (e.g. \"we're 80% confident this image is a 3, 10% sure it's an 8, 5% it's a 2, etc.\"), and the target is a probability distribution with 100% for the correct category, and 0 for everything else. The cross-entropy is a measure of how different your predicted distribution is from the target distribution.\n",
        "\n",
        "The optimizer helps determine how quickly the model learns through **gradient descent**. The rate at which descends a gradient is called the **learning rate**."
      ]
    },
    {
      "cell_type": "markdown",
      "source": [
        "**Let's use the Adam optimizer for learning**\n",
        "\n",
        "**Adam optimization** is a stochastic gradient descent method that is based on adaptive estimation of first-order and second-order moments.\n",
        "\n",
        "The results of the Adam optimizer are generally better than every other optimization algorithms, have faster computation time, and require fewer parameters for tuning. Because of all that, Adam is recommended as the default optimizer for most of the applications."
      ],
      "metadata": {
        "id": "8sImgui0zeHp"
      }
    },
    {
      "cell_type": "markdown",
      "source": [
        "**Categorical_crossentropy** is used as a loss function for multi-class classification model where there are two or more output labels. The output label is assigned one-hot category encoding value in form of 0s and 1. The output label, if present in integer form, is converted into categorical encoding using keras."
      ],
      "metadata": {
        "id": "HMp61G3l1o07"
      }
    },
    {
      "cell_type": "code",
      "execution_count": 20,
      "metadata": {
        "collapsed": true,
        "id": "shSsXi62IaAI"
      },
      "outputs": [],
      "source": [
        "model.compile(loss='categorical_crossentropy', optimizer='adam', metrics=['accuracy'])"
      ]
    },
    {
      "cell_type": "markdown",
      "metadata": {
        "id": "E7_gOxQAIaAJ"
      },
      "source": [
        "## Train the model!\n"
      ]
    },
    {
      "cell_type": "markdown",
      "metadata": {
        "id": "3n2fH8RxIaAJ"
      },
      "source": [
        "The batch size determines over how much data per step is used to compute the loss function, gradients, and back propagation. Large batch sizes allow the network to complete it's training faster; however, there are other factors beyond training speed to consider.\n",
        "\n",
        "Too large of a batch size smoothes the local minima of the loss function, causing the optimizer to settle in one because it thinks it found the global minimum.\n",
        "\n",
        "Too small of a batch size creates a very noisy loss function, and the optimizer may never find the global minimum.\n",
        "\n",
        "So a good batch size may take some trial and error to find!"
      ]
    },
    {
      "cell_type": "markdown",
      "source": [
        "The epochs argument specifies how many times this cycle should be run, and the verbose argument controls how much output the method produces. We call the fit method to train a model in machine learning"
      ],
      "metadata": {
        "id": "LKy3RroW2cXJ"
      }
    },
    {
      "cell_type": "code",
      "execution_count": 21,
      "metadata": {
        "id": "1MiXzDCwIaAJ",
        "colab": {
          "base_uri": "https://localhost:8080/"
        },
        "outputId": "a7c4d439-0ff4-410f-f029-5d7a53becb43"
      },
      "outputs": [
        {
          "output_type": "stream",
          "name": "stdout",
          "text": [
            "Epoch 1/5\n",
            "469/469 [==============================] - 9s 18ms/step - loss: 0.2489 - accuracy: 0.9250\n",
            "Epoch 2/5\n",
            "469/469 [==============================] - 9s 19ms/step - loss: 0.1000 - accuracy: 0.9689\n",
            "Epoch 3/5\n",
            "469/469 [==============================] - 9s 19ms/step - loss: 0.0719 - accuracy: 0.9776\n",
            "Epoch 4/5\n",
            "469/469 [==============================] - 9s 19ms/step - loss: 0.0558 - accuracy: 0.9823\n",
            "Epoch 5/5\n",
            "469/469 [==============================] - 9s 19ms/step - loss: 0.0454 - accuracy: 0.9854\n"
          ]
        },
        {
          "output_type": "execute_result",
          "data": {
            "text/plain": [
              "<keras.callbacks.History at 0x7f18922bf610>"
            ]
          },
          "metadata": {},
          "execution_count": 21
        }
      ],
      "source": [
        "model.fit(X_train, Y_train,\n",
        "          batch_size=128, epochs=5,\n",
        "          verbose=1)"
      ]
    },
    {
      "cell_type": "markdown",
      "metadata": {
        "id": "DcjfgDQqIaAJ"
      },
      "source": [
        "The two numbers, in order, represent the value of the loss function of the network on the training set, and the overall accuracy of the network on the training data. "
      ]
    },
    {
      "cell_type": "markdown",
      "metadata": {
        "id": "xeIDtncmIaAJ"
      },
      "source": [
        "## Evaluate Model's Accuracy on Test Data"
      ]
    },
    {
      "cell_type": "markdown",
      "source": [
        "evaluate() is for evaluating the already trained model using the validation (or test) data and the corresponding labels."
      ],
      "metadata": {
        "id": "wtaqS21e2z48"
      }
    },
    {
      "cell_type": "code",
      "execution_count": 22,
      "metadata": {
        "id": "IlwNs09MIaAJ",
        "colab": {
          "base_uri": "https://localhost:8080/"
        },
        "outputId": "6d5d9dc1-56f6-45e8-a981-a02a2b880e42"
      },
      "outputs": [
        {
          "output_type": "stream",
          "name": "stdout",
          "text": [
            "313/313 [==============================] - 2s 5ms/step - loss: 0.0712 - accuracy: 0.9792\n",
            "Test score: 0.07122843712568283\n",
            "Test accuracy: 0.979200005531311\n"
          ]
        }
      ],
      "source": [
        "score = model.evaluate(X_test, Y_test)\n",
        "print('Test score:', score[0])     #test score is the evaluation of the loss function for a given input.\n",
        "print('Test accuracy:', score[1])  #test accuracy calculates how often predictions equal labels."
      ]
    },
    {
      "cell_type": "markdown",
      "source": [
        "The test gave 97.9% accuracy"
      ],
      "metadata": {
        "id": "R2gpKs3mQjq1"
      }
    },
    {
      "cell_type": "markdown",
      "metadata": {
        "id": "IwM9lqS7IaAK"
      },
      "source": [
        "# Inspecting the output\n",
        "\n",
        "It's always a good idea to inspect the output and make sure everything looks same.\n",
        "\n",
        "The predict_classes function outputs the highest probability class\n",
        "according to the trained classifier for each input example."
      ]
    },
    {
      "cell_type": "code",
      "execution_count": 25,
      "metadata": {
        "collapsed": true,
        "id": "63Ur7CwfIaAK",
        "colab": {
          "base_uri": "https://localhost:8080/"
        },
        "outputId": "dc4380d7-2e83-4b61-c133-5b26a96480d0"
      },
      "outputs": [
        {
          "output_type": "stream",
          "name": "stdout",
          "text": [
            "313/313 [==============================] - 1s 4ms/step\n"
          ]
        }
      ],
      "source": [
        "predicted_x = model.predict(X_test) #predicting the model on X_test\n",
        "predicted_classes = np.argmax(predicted_x,axis=1) #argmax identifies the maximum value for every row\n",
        "\n",
        "# Check which items we got right / wrong\n",
        "correct_indices = np.nonzero(predicted_classes == y_test)[0]\n",
        "\n",
        "incorrect_indices = np.nonzero(predicted_classes != y_test)[0]"
      ]
    },
    {
      "cell_type": "code",
      "execution_count": 26,
      "metadata": {
        "id": "gYsBBn2zIaAK",
        "colab": {
          "base_uri": "https://localhost:8080/",
          "height": 1000
        },
        "outputId": "576657f0-2264-4e6e-de61-1676c35eae87"
      },
      "outputs": [
        {
          "output_type": "display_data",
          "data": {
            "text/plain": [
              "<Figure size 648x648 with 9 Axes>"
            ],
            "image/png": "[encoded data removed]"
          },
          "metadata": {
            "needs_background": "light"
          }
        },
        {
          "output_type": "display_data",
          "data": {
            "text/plain": [
              "<Figure size 648x648 with 9 Axes>"
            ],
            "image/png": "[encoded data removed]"
          },
          "metadata": {
            "needs_background": "light"
          }
        }
      ],
      "source": [
        "plt.figure()\n",
        "for i, correct in enumerate(correct_indices[:9]): #selecting numbers using enumerate method upto correct index 9\n",
        "    plt.subplot(3,3,i+1)                           #making subplots of three rows and three columns by plotting numbers from range(9) and then incrementing\n",
        "    plt.imshow(X_test[correct].reshape(28,28), cmap='gray', interpolation='none')   #showing the plotted image\n",
        "                                                                                    #Interpolation is a method for generating points between given points\n",
        "    plt.title(\"Predicted {}, Class {}\".format(predicted_classes[correct], y_test[correct]))   #providing titles for each classes by formating it with predicted correct classes\n",
        "        \n",
        "plt.tight_layout()                    #tight_layout automatically adjusts subplot params so that the subplots fits in to the figure area\n",
        "    \n",
        " \n",
        "\n",
        "plt.figure()\n",
        "for i, incorrect in enumerate(incorrect_indices[:9]):  #selecting numbers using enumerate method upto incorrect index 9\n",
        "    plt.subplot(3,3,i+1)                                #making subplots of three rows and three columns by plotting numbers from range(9) and then incrementing\n",
        "    plt.imshow(X_test[incorrect].reshape(28,28), cmap='gray', interpolation='none') #showing the plotted image\n",
        "                                                                                    #Interpolation is a method for generating points between given points\n",
        "    plt.title(\"Predicted {}, Class {}\".format(predicted_classes[incorrect], y_test[incorrect]))    #providing titles for each classes by formating it with predicted incorrect classes\n",
        "    \n",
        "plt.tight_layout()          #tight_layout automatically adjusts subplot params so that the subplots fits in to the figure area"
      ]
    },
    {
      "cell_type": "markdown",
      "metadata": {
        "id": "AshnfwaqIaAK"
      },
      "source": [
        "# Trying experimenting with the batch size!\n",
        "\n",
        "#### How does increasing the batch size to 10,000 affect the training time and test accuracy?\n",
        "we can recover the lost test accuracy from a larger batch size by increasing the learning rate\n",
        "\n",
        "#### How about a batch size of 32?\n",
        "The batch size affects some indicators such as overall training time, training time per epoch, quality of the model, and similar. Usually, we chose the batch size as a power of two, in the range between 16 and 512. But generally, the size of 32 is a rule of thumb and a good initial choice.\n",
        "\n",
        "A batch size of 32 means that 32 samples from the training dataset will be used to estimate the error gradient before the model weights are updated."
      ]
    },
    {
      "cell_type": "markdown",
      "metadata": {
        "id": "dlw_ZreKIaAK"
      },
      "source": [
        "# Introducing Convolution!"
      ]
    },
    {
      "cell_type": "markdown",
      "metadata": {
        "id": "k6tHzJ5OIaAL"
      },
      "source": [
        "Before, we built a network that accepts the normalized pixel values of each value and operates soley on those values. What if we could instead feed different features (e.g. **curvature, edges**) of each image into a network, and have the network learn which features are important for classifying an image?\n",
        "\n",
        "This possible through convolution! Convolution applies **kernels** (filters) that traverse through each image and generate **feature maps**."
      ]
    },
    {
      "cell_type": "markdown",
      "metadata": {
        "id": "pcNVaOKhIaAM"
      },
      "source": [
        "Kernels in deep learning networks are used in similar ways, i.e. highlighting some feature. Combined with a system called **max pooling**, the non-highlighted elements are discarded from each feature map, leaving only the features of interest, reducing the number of learned parameters, and decreasing the computational cost (e.g. system memory)."
      ]
    },
    {
      "cell_type": "markdown",
      "metadata": {
        "id": "pRbIZh5iIaAM"
      },
      "source": [
        "We can also take convolutions of convolutions -- we can stack as many convolutions as we want, as long as there are enough pixels to fit a kernel.\n"
      ]
    },
    {
      "cell_type": "markdown",
      "metadata": {
        "id": "NlDd2ZOmIaAM"
      },
      "source": [
        "## Building a \"Deep\" Convolutional Neural Network"
      ]
    },
    {
      "cell_type": "markdown",
      "source": [
        "# Importing some additonal libraries"
      ],
      "metadata": {
        "id": "s8F1YULW7Ss4"
      }
    },
    {
      "cell_type": "markdown",
      "source": [
        "**Keras ImageDataGenerator** is used for getting the input of the original data and further, it makes the transformation of this data on a random basis and gives the output resultant containing only the data that is newly transformed.\n",
        "\n",
        "**Keras Conv2D** is a 2D Convolution Layer, this layer creates a convolution kernel that is wind with layers input which helps produce a tensor of outputs.\n",
        "\n",
        "**The keras maxpooling2d** uses the class name as maxpool2d and it will use the tf keras layers, maxpooling2d class. It contains the integer or 2 integer's tuples factors which is used to downscale the spatial dimension. It contains the max pooling operation into the 2D spatial data.\n",
        "\n",
        "**Zero-padding** layer for 2D input. This layer can add rows and columns of zeros at the top, bottom, left and right side of an image tensor.\n",
        "\n",
        "**GlobalAveragePooling2d()** function is used for applying global average pooling operation for spatial data.\n",
        "\n",
        "**Flatten** is used to flatten the input. For example, if flatten is applied to layer having input shape as (batch_size, 2,2), then the output shape of the layer will be (batch_size, 4)\n",
        "\n",
        "**Batch normalization** applies a transformation that maintains the mean output close to 0 and the output standard deviation close to 1. Importantly, batch normalization works differently during training and during inference."
      ],
      "metadata": {
        "id": "lQjQ2ywa52cB"
      }
    },
    {
      "cell_type": "code",
      "execution_count": 31,
      "metadata": {
        "collapsed": true,
        "id": "kYCEwHJfIaAN"
      },
      "outputs": [],
      "source": [
        "# import some additional tools\n",
        "\n",
        "from keras.preprocessing.image import ImageDataGenerator\n",
        "from keras.layers import Conv2D, MaxPooling2D, ZeroPadding2D, GlobalAveragePooling2D, Flatten\n",
        "from keras.layers.normalization.batch_normalization import BatchNormalization"
      ]
    },
    {
      "cell_type": "markdown",
      "source": [
        "# Loading Training Data"
      ],
      "metadata": {
        "id": "lqC4naLKDXJm"
      }
    },
    {
      "cell_type": "code",
      "execution_count": 32,
      "metadata": {
        "collapsed": true,
        "id": "X2O0EIynIaAN"
      },
      "outputs": [],
      "source": [
        "# Reload the MNIST data\n",
        "(X_train, y_train), (X_test, y_test) = mnist.load_data()"
      ]
    },
    {
      "cell_type": "markdown",
      "source": [
        "# Formatting the input data layer"
      ],
      "metadata": {
        "id": "BYzLejulDdCp"
      }
    },
    {
      "cell_type": "code",
      "execution_count": 33,
      "metadata": {
        "id": "-f1cvGKGIaAN",
        "colab": {
          "base_uri": "https://localhost:8080/"
        },
        "outputId": "061efde9-4b5e-4d9e-ee6d-d428673a43ae"
      },
      "outputs": [
        {
          "output_type": "stream",
          "name": "stdout",
          "text": [
            "Training matrix shape (60000, 28, 28, 1)\n",
            "Testing matrix shape (10000, 28, 28, 1)\n"
          ]
        }
      ],
      "source": [
        "# Again, do some formatting\n",
        "# Except we do not flatten each image into a 784-length vector because we want to perform convolutions first\n",
        "\n",
        "X_train = X_train.reshape(60000, 28, 28, 1) #add an additional dimension to represent the single-channel\n",
        "X_test = X_test.reshape(10000, 28, 28, 1)\n",
        "\n",
        "X_train = X_train.astype('float32')         # change integers to 32-bit floating point numbers\n",
        "X_test = X_test.astype('float32')\n",
        "\n",
        "X_train /= 255                              # normalize each value for each pixel for the entire vector for each input\n",
        "X_test /= 255\n",
        "\n",
        "print(\"Training matrix shape\", X_train.shape)\n",
        "print(\"Testing matrix shape\", X_test.shape)"
      ]
    },
    {
      "cell_type": "code",
      "execution_count": 34,
      "metadata": {
        "collapsed": true,
        "id": "VzSHB9GeIaAN"
      },
      "outputs": [],
      "source": [
        "# one-hot format classes\n",
        "\n",
        "nb_classes = 10 # number of unique digits\n",
        "\n",
        "#np_utils. to_categorical is used to convert array of labeled data(from 0 to nb_classes - 1 ) to one-hot vector\n",
        "\n",
        "Y_train = np_utils.to_categorical(y_train, nb_classes)\n",
        "Y_test = np_utils.to_categorical(y_test, nb_classes)"
      ]
    },
    {
      "cell_type": "markdown",
      "source": [
        "# Building a Sequential Model"
      ],
      "metadata": {
        "id": "ECiP2PgzDlX9"
      }
    },
    {
      "cell_type": "markdown",
      "source": [
        "A Sequential model is appropriate for a plain stack of layers where each layer has exactly one input tensor and one output tensor. "
      ],
      "metadata": {
        "id": "p9hmCuIl9wAN"
      }
    },
    {
      "cell_type": "code",
      "execution_count": 35,
      "metadata": {
        "collapsed": true,
        "id": "O2-_uql0IaAO"
      },
      "outputs": [],
      "source": [
        "model = Sequential()                                 # Linear stacking of layers"
      ]
    },
    {
      "cell_type": "markdown",
      "source": [
        "In Keras, we can add the required types of layers through the add() method."
      ],
      "metadata": {
        "id": "C02lCCZB-BJJ"
      }
    },
    {
      "cell_type": "code",
      "source": [
        "# Convolution Layer 1\n",
        "model.add(Conv2D(32, (3, 3), input_shape=(28,28,1))) # 32 different 3x3 kernels -- so 32 feature maps\n",
        "model.add(BatchNormalization(axis=-1))               # normalize each feature map before activation\n",
        "convLayer01 = Activation('relu')                     # activation\n",
        "model.add(convLayer01)"
      ],
      "metadata": {
        "id": "xAmR1Oshctxt"
      },
      "execution_count": null,
      "outputs": []
    },
    {
      "cell_type": "code",
      "source": [
        "# Convolution Layer 2\n",
        "model.add(Conv2D(32, (3, 3)))                        # 32 different 3x3 kernels -- so 32 feature maps\n",
        "model.add(BatchNormalization(axis=-1))               # normalize each feature map before activation\n",
        "model.add(Activation('relu'))                        # activation\n",
        "convLayer02 = MaxPooling2D(pool_size=(2,2))          # Pool the max values over a 2x2 kernel\n",
        "model.add(convLayer02)"
      ],
      "metadata": {
        "id": "lg6ITsqgct0U"
      },
      "execution_count": null,
      "outputs": []
    },
    {
      "cell_type": "code",
      "source": [
        "# Convolution Layer 3\n",
        "model.add(Conv2D(64,(3, 3)))                         # 64 different 3x3 kernels -- so 64 feature maps\n",
        "model.add(BatchNormalization(axis=-1))               # normalize each feature map before activation\n",
        "convLayer03 = Activation('relu')                     # activation\n",
        "model.add(convLayer03)"
      ],
      "metadata": {
        "id": "zx_wHsgzct3J"
      },
      "execution_count": null,
      "outputs": []
    },
    {
      "cell_type": "code",
      "source": [
        "# Convolution Layer 4\n",
        "model.add(Conv2D(64, (3, 3)))                        # 64 different 3x3 kernels -- so 64 feature maps\n",
        "model.add(BatchNormalization(axis=-1))               # normalize each feature map before activation\n",
        "model.add(Activation('relu'))                        # activation\n",
        "convLayer04 = MaxPooling2D(pool_size=(2,2))          # Pool the max values over a 2x2 kernel\n",
        "model.add(convLayer04)\n",
        "model.add(Flatten())                                 # Flatten final 4x4x64 output matrix into a 1024-length vector"
      ],
      "metadata": {
        "id": "9HGzZdy1ct6s"
      },
      "execution_count": null,
      "outputs": []
    },
    {
      "cell_type": "code",
      "source": [
        "# Fully Connected Layer 5\n",
        "model.add(Dense(512))                                # 512 FCN nodes\n",
        "model.add(BatchNormalization())                      # normalization\n",
        "model.add(Activation('relu'))                        # activation"
      ],
      "metadata": {
        "id": "1MqQKFzuc89e"
      },
      "execution_count": null,
      "outputs": []
    },
    {
      "cell_type": "code",
      "source": [
        "# Fully Connected Layer 6                       \n",
        "model.add(Dropout(0.2))                              # 20% dropout of randomly selected nodes\n",
        "model.add(Dense(10))                                 # final 10 FCN nodes\n",
        "model.add(Activation('softmax'))                     # softmax activation"
      ],
      "metadata": {
        "id": "atu1Zubyc9AL"
      },
      "execution_count": null,
      "outputs": []
    },
    {
      "cell_type": "code",
      "execution_count": 36,
      "metadata": {
        "id": "sPnsVzi0IaAO",
        "colab": {
          "base_uri": "https://localhost:8080/"
        },
        "outputId": "9a48f4e8-03ee-4bab-bf62-e0b89afa52fd"
      },
      "outputs": [
        {
          "output_type": "stream",
          "name": "stdout",
          "text": [
            "Model: \"sequential_1\"\n",
            "_________________________________________________________________\n",
            " Layer (type)                Output Shape              Param #   \n",
            "=================================================================\n",
            " conv2d (Conv2D)             (None, 26, 26, 32)        320       \n",
            "                                                                 \n",
            " batch_normalization (BatchN  (None, 26, 26, 32)       128       \n",
            " ormalization)                                                   \n",
            "                                                                 \n",
            " activation_3 (Activation)   (None, 26, 26, 32)        0         \n",
            "                                                                 \n",
            " conv2d_1 (Conv2D)           (None, 24, 24, 32)        9248      \n",
            "                                                                 \n",
            " batch_normalization_1 (Batc  (None, 24, 24, 32)       128       \n",
            " hNormalization)                                                 \n",
            "                                                                 \n",
            " activation_4 (Activation)   (None, 24, 24, 32)        0         \n",
            "                                                                 \n",
            " max_pooling2d (MaxPooling2D  (None, 12, 12, 32)       0         \n",
            " )                                                               \n",
            "                                                                 \n",
            " conv2d_2 (Conv2D)           (None, 10, 10, 64)        18496     \n",
            "                                                                 \n",
            " batch_normalization_2 (Batc  (None, 10, 10, 64)       256       \n",
            " hNormalization)                                                 \n",
            "                                                                 \n",
            " activation_5 (Activation)   (None, 10, 10, 64)        0         \n",
            "                                                                 \n",
            " conv2d_3 (Conv2D)           (None, 8, 8, 64)          36928     \n",
            "                                                                 \n",
            " batch_normalization_3 (Batc  (None, 8, 8, 64)         256       \n",
            " hNormalization)                                                 \n",
            "                                                                 \n",
            " activation_6 (Activation)   (None, 8, 8, 64)          0         \n",
            "                                                                 \n",
            " max_pooling2d_1 (MaxPooling  (None, 4, 4, 64)         0         \n",
            " 2D)                                                             \n",
            "                                                                 \n",
            " flatten (Flatten)           (None, 1024)              0         \n",
            "                                                                 \n",
            " dense_3 (Dense)             (None, 512)               524800    \n",
            "                                                                 \n",
            " batch_normalization_4 (Batc  (None, 512)              2048      \n",
            " hNormalization)                                                 \n",
            "                                                                 \n",
            " activation_7 (Activation)   (None, 512)               0         \n",
            "                                                                 \n",
            " dropout_2 (Dropout)         (None, 512)               0         \n",
            "                                                                 \n",
            " dense_4 (Dense)             (None, 10)                5130      \n",
            "                                                                 \n",
            " activation_8 (Activation)   (None, 10)                0         \n",
            "                                                                 \n",
            "=================================================================\n",
            "Total params: 597,738\n",
            "Trainable params: 596,330\n",
            "Non-trainable params: 1,408\n",
            "_________________________________________________________________\n"
          ]
        }
      ],
      "source": [
        "model.summary()     #getting the model summary"
      ]
    },
    {
      "cell_type": "markdown",
      "source": [
        "# Compiling the model"
      ],
      "metadata": {
        "id": "AWH9wHHSDwWR"
      }
    },
    {
      "cell_type": "code",
      "execution_count": 37,
      "metadata": {
        "collapsed": true,
        "id": "3vvHKvB7IaAO"
      },
      "outputs": [],
      "source": [
        "# we'll use the same optimizer\n",
        "\n",
        "model.compile(loss='categorical_crossentropy', optimizer='adam', metrics=['accuracy'])"
      ]
    },
    {
      "cell_type": "code",
      "execution_count": 38,
      "metadata": {
        "collapsed": true,
        "id": "ZbySQhr1IaAO"
      },
      "outputs": [],
      "source": [
        "#Data augmentation prevents overfitting by slightly changing the data randomly\n",
        "# Keras has a great built-in feature to do automatic augmentation\n",
        "\n",
        "gen = ImageDataGenerator(rotation_range=8, width_shift_range=0.08, shear_range=0.3,\n",
        "                         height_shift_range=0.08, zoom_range=0.08)\n",
        "\n",
        "test_gen = ImageDataGenerator()"
      ]
    },
    {
      "cell_type": "markdown",
      "source": [
        "We can then feed our augmented data in batches\n",
        "\n",
        "Besides loss function considerations as before, this method actually results in significant memory savings because we are actually LOADING the data into the network in batches before processing each batch before the data was all loaded into memory, but then processed in batches."
      ],
      "metadata": {
        "id": "WsZxz-sj-SBF"
      }
    },
    {
      "cell_type": "markdown",
      "source": [
        "# Training the model"
      ],
      "metadata": {
        "id": "XmPfBEXPD6NT"
      }
    },
    {
      "cell_type": "code",
      "execution_count": 39,
      "metadata": {
        "collapsed": true,
        "id": "w1zlJHGZIaAO"
      },
      "outputs": [],
      "source": [
        "\n",
        "train_generator = gen.flow(X_train, Y_train, batch_size=128)\n",
        "test_generator = test_gen.flow(X_test, Y_test, batch_size=128)"
      ]
    },
    {
      "cell_type": "markdown",
      "source": [
        "We can now train our model which is fed data by our batch loader\n",
        "\n",
        "Steps per epoch should always be total size of the set divided by the batch size\n",
        "\n",
        "SIGNIFICANT MEMORY SAVINGS (important for larger, deeper networks)"
      ],
      "metadata": {
        "id": "NtlqN-_k-fWb"
      }
    },
    {
      "cell_type": "markdown",
      "source": [
        "**steps_per_epoch**: Total number of steps (batches of samples) to yield from generator before declaring one epoch finished and starting the next epoch.\n",
        "\n",
        "The **epochs** argument specifies how many times this cycle should be run.\n",
        "\n",
        "The **verbose** argument controls how much output the method produces. We call the fit method to train a model in machine learning\n",
        "\n",
        "**validation_data**: Data on which to evaluate the loss and any model metrics at the end of each epoch.\n",
        "\n",
        "**Validation steps** -Total number of steps (batches of samples) to draw before stopping when performing validation at the end of every epoch."
      ],
      "metadata": {
        "id": "E1niNYcu-v0m"
      }
    },
    {
      "cell_type": "markdown",
      "source": [
        "# Fitting the model"
      ],
      "metadata": {
        "id": "jUyWlR6IEDHr"
      }
    },
    {
      "cell_type": "code",
      "execution_count": 40,
      "metadata": {
        "id": "HXA_oqvgIaAO",
        "colab": {
          "base_uri": "https://localhost:8080/"
        },
        "outputId": "05290148-3805-4242-b093-093f0754d704"
      },
      "outputs": [
        {
          "output_type": "stream",
          "name": "stdout",
          "text": [
            "Epoch 1/5\n"
          ]
        },
        {
          "output_type": "stream",
          "name": "stderr",
          "text": [
            "/usr/local/lib/python3.7/dist-packages/ipykernel_launcher.py:7: UserWarning: `Model.fit_generator` is deprecated and will be removed in a future version. Please use `Model.fit`, which supports generators.\n",
            "  import sys\n"
          ]
        },
        {
          "output_type": "stream",
          "name": "stdout",
          "text": [
            "468/468 [==============================] - 212s 451ms/step - loss: 0.1354 - accuracy: 0.9580 - val_loss: 0.0696 - val_accuracy: 0.9794\n",
            "Epoch 2/5\n",
            "468/468 [==============================] - 214s 457ms/step - loss: 0.0493 - accuracy: 0.9851 - val_loss: 0.0460 - val_accuracy: 0.9848\n",
            "Epoch 3/5\n",
            "468/468 [==============================] - 213s 455ms/step - loss: 0.0406 - accuracy: 0.9874 - val_loss: 0.0396 - val_accuracy: 0.9870\n",
            "Epoch 4/5\n",
            "468/468 [==============================] - 213s 455ms/step - loss: 0.0341 - accuracy: 0.9896 - val_loss: 0.0240 - val_accuracy: 0.9926\n",
            "Epoch 5/5\n",
            "468/468 [==============================] - 236s 503ms/step - loss: 0.0305 - accuracy: 0.9904 - val_loss: 0.0208 - val_accuracy: 0.9932\n"
          ]
        },
        {
          "output_type": "execute_result",
          "data": {
            "text/plain": [
              "<keras.callbacks.History at 0x7f188e051a90>"
            ]
          },
          "metadata": {},
          "execution_count": 40
        }
      ],
      "source": [
        "model.fit_generator(train_generator, steps_per_epoch=60000//128, epochs=5, verbose=1, \n",
        "                    validation_data=test_generator, validation_steps=10000//128)"
      ]
    },
    {
      "cell_type": "markdown",
      "source": [
        "# Evaluating model accuracy"
      ],
      "metadata": {
        "id": "ojZh4AEbEF59"
      }
    },
    {
      "cell_type": "code",
      "execution_count": 41,
      "metadata": {
        "id": "I7fcOogSIaAP",
        "colab": {
          "base_uri": "https://localhost:8080/"
        },
        "outputId": "f61cb0d3-860d-4e3c-9dbb-15f393db2f16"
      },
      "outputs": [
        {
          "output_type": "stream",
          "name": "stdout",
          "text": [
            "313/313 [==============================] - 10s 31ms/step - loss: 0.0208 - accuracy: 0.9932\n",
            "Test score: 0.02076662704348564\n",
            "Test accuracy: 0.9932000041007996\n"
          ]
        }
      ],
      "source": [
        "score = model.evaluate(X_test, Y_test) #evaluate() is for evaluating the already trained model using the validation (or test) data and the corresponding labels.\n",
        "print('Test score:', score[0])           #test score is the evaluation of the loss function for a given input.\n",
        "print('Test accuracy:', score[1])        #test accuracy calculates how often predictions equal labels."
      ]
    },
    {
      "cell_type": "markdown",
      "source": [
        "Finally, the model gives a accuracy of **99%**"
      ],
      "metadata": {
        "id": "LKmAu1lV_urt"
      }
    }
  ],
  "metadata": {
    "kernelspec": {
      "display_name": "Tensorflow (GPU)",
      "language": "python",
      "name": "py3.6-tfgpu"
    },
    "language_info": {
      "codemirror_mode": {
        "name": "ipython",
        "version": 3
      },
      "file_extension": ".py",
      "mimetype": "text/x-python",
      "name": "python",
      "nbconvert_exporter": "python",
      "pygments_lexer": "ipython3",
      "version": "3.6.6"
    },
    "colab": {
      "provenance": []
    }
  },
  "nbformat": 4,
  "nbformat_minor": 0
}