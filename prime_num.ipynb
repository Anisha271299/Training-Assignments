{
  "nbformat": 4,
  "nbformat_minor": 0,
  "metadata": {
    "colab": {
      "name": "prime_num.ipynb",
      "provenance": [],
      "authorship_tag": "ABX9TyPgt1sT/1jdjJ0BPwukuazG",
      "include_colab_link": true
    },
    "kernelspec": {
      "name": "python3",
      "display_name": "Python 3"
    },
    "language_info": {
      "name": "python"
    }
  },
  "cells": [
    {
      "cell_type": "markdown",
      "metadata": {
        "id": "view-in-github",
        "colab_type": "text"
      },
      "source": [
        "<a href=\"https://colab.research.google.com/github/Anisha271299/Training-Assignments/blob/main/prime_num.ipynb\" target=\"_parent\"><img src=\"https://colab.research.google.com/assets/colab-badge.svg\" alt=\"Open In Colab\"/></a>"
      ]
    },
    {
      "cell_type": "markdown",
      "source": [
        "To check whether a number is prime or not"
      ],
      "metadata": {
        "id": "pqVFoA5fz7wd"
      }
    },
    {
      "cell_type": "code",
      "execution_count": null,
      "metadata": {
        "colab": {
          "base_uri": "https://localhost:8080/"
        },
        "id": "Xlj8BPohz6T5",
        "outputId": "13443b6f-c560-4b64-faa8-5f81896b6dc3"
      },
      "outputs": [
        {
          "name": "stdout",
          "output_type": "stream",
          "text": [
            "enter a number: 21\n"
          ]
        }
      ],
      "source": [
        "n = int(input(\"enter a number: \"))"
      ]
    },
    {
      "cell_type": "code",
      "source": [
        "if n > 1:\n",
        "    \n",
        "    for i in range(2,int(n/2)+1):\n",
        "        \n",
        "        if (n % i) == 0:\n",
        "            print(n, \"is not a prime number\")\n",
        "            break\n",
        "    else:\n",
        "        print(n, \"is a prime number\")\n",
        "else:\n",
        "    print(n, \"is not a prime number\")"
      ],
      "metadata": {
        "colab": {
          "base_uri": "https://localhost:8080/"
        },
        "id": "k1M7jqPEz7Q-",
        "outputId": "7af1697c-222b-48a2-8d28-03c479d18710"
      },
      "execution_count": 4,
      "outputs": [
        {
          "output_type": "stream",
          "name": "stdout",
          "text": [
            "21 is not a prime number\n"
          ]
        }
      ]
    }
  ]
}