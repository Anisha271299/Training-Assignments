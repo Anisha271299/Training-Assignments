{
  "nbformat": 4,
  "nbformat_minor": 0,
  "metadata": {
    "colab": {
      "name": "Python_data_structures.ipynb",
      "provenance": [],
      "authorship_tag": "ABX9TyOXnBrNSdAM3FdRBWHmfO1r",
      "include_colab_link": true
    },
    "kernelspec": {
      "name": "python3",
      "display_name": "Python 3"
    },
    "language_info": {
      "name": "python"
    }
  },
  "cells": [
    {
      "cell_type": "markdown",
      "metadata": {
        "id": "view-in-github",
        "colab_type": "text"
      },
      "source": [
        "<a href=\"https://colab.research.google.com/github/Anisha271299/Training-Assignments/blob/main/Python_data_structures.ipynb\" target=\"_parent\"><img src=\"https://colab.research.google.com/assets/colab-badge.svg\" alt=\"Open In Colab\"/></a>"
      ]
    },
    {
      "cell_type": "markdown",
      "source": [
        "\n",
        "# **PYTHON DATA STRUCTURES**\n",
        "\n",
        "\n"
      ],
      "metadata": {
        "id": "rv8Wqk9D1GoS"
      }
    },
    {
      "cell_type": "markdown",
      "source": [
        "# ***I.LIST***"
      ],
      "metadata": {
        "id": "WUsQnfUn1u4N"
      }
    },
    {
      "cell_type": "markdown",
      "source": [
        "List is ordered and changeable. Allows duplicate members.\n"
      ],
      "metadata": {
        "id": "lL-olxylJukS"
      }
    },
    {
      "cell_type": "markdown",
      "source": [
        "Creating a list"
      ],
      "metadata": {
        "id": "NSboLoGw2EPS"
      }
    },
    {
      "cell_type": "code",
      "execution_count": 2,
      "metadata": {
        "colab": {
          "base_uri": "https://localhost:8080/"
        },
        "id": "oIdrDbTe1B2k",
        "outputId": "25f65fa4-fb97-48fa-9d28-af93388b6ae1"
      },
      "outputs": [
        {
          "output_type": "stream",
          "name": "stdout",
          "text": [
            "['apple', 'orange', 'banana']\n"
          ]
        }
      ],
      "source": [
        "list1 = [\"apple\",\"orange\",\"banana\"]\n",
        "print(list1)"
      ]
    },
    {
      "cell_type": "markdown",
      "source": [
        "Looking into methods of list"
      ],
      "metadata": {
        "id": "HCs-AmEYFuwr"
      }
    },
    {
      "cell_type": "code",
      "source": [
        "dir(list1)"
      ],
      "metadata": {
        "colab": {
          "base_uri": "https://localhost:8080/"
        },
        "id": "L4rfe76dFtDp",
        "outputId": "dfd22801-cead-449a-ad7f-43a5a2799310"
      },
      "execution_count": 3,
      "outputs": [
        {
          "output_type": "execute_result",
          "data": {
            "text/plain": [
              "['__add__',\n",
              " '__class__',\n",
              " '__contains__',\n",
              " '__delattr__',\n",
              " '__delitem__',\n",
              " '__dir__',\n",
              " '__doc__',\n",
              " '__eq__',\n",
              " '__format__',\n",
              " '__ge__',\n",
              " '__getattribute__',\n",
              " '__getitem__',\n",
              " '__gt__',\n",
              " '__hash__',\n",
              " '__iadd__',\n",
              " '__imul__',\n",
              " '__init__',\n",
              " '__init_subclass__',\n",
              " '__iter__',\n",
              " '__le__',\n",
              " '__len__',\n",
              " '__lt__',\n",
              " '__mul__',\n",
              " '__ne__',\n",
              " '__new__',\n",
              " '__reduce__',\n",
              " '__reduce_ex__',\n",
              " '__repr__',\n",
              " '__reversed__',\n",
              " '__rmul__',\n",
              " '__setattr__',\n",
              " '__setitem__',\n",
              " '__sizeof__',\n",
              " '__str__',\n",
              " '__subclasshook__',\n",
              " 'append',\n",
              " 'clear',\n",
              " 'copy',\n",
              " 'count',\n",
              " 'extend',\n",
              " 'index',\n",
              " 'insert',\n",
              " 'pop',\n",
              " 'remove',\n",
              " 'reverse',\n",
              " 'sort']"
            ]
          },
          "metadata": {},
          "execution_count": 3
        }
      ]
    },
    {
      "cell_type": "markdown",
      "source": [
        "1.APPEND: adds an element at the end of list"
      ],
      "metadata": {
        "id": "7kSR5_JUF8kK"
      }
    },
    {
      "cell_type": "code",
      "source": [
        "#ex.1\n",
        "list2 = [1,2,3,4,5]\n",
        "list2.append(6) #appending a value to list2\n",
        "print (list2)\n"
      ],
      "metadata": {
        "colab": {
          "base_uri": "https://localhost:8080/"
        },
        "id": "YblFNddoGOR0",
        "outputId": "dba96fe9-cd9c-401f-b9cf-eb57796e4559"
      },
      "execution_count": 4,
      "outputs": [
        {
          "output_type": "stream",
          "name": "stdout",
          "text": [
            "[1, 2, 3, 4, 5, 6]\n"
          ]
        }
      ]
    },
    {
      "cell_type": "code",
      "source": [
        "#ex.2\n",
        "list2.append([7,8,9]) #appending a list inside  list2\n",
        "print (list2)"
      ],
      "metadata": {
        "colab": {
          "base_uri": "https://localhost:8080/"
        },
        "id": "vfAJy3cUGw3g",
        "outputId": "b8e02966-98dd-4ec6-80f0-dab3c8ba5609"
      },
      "execution_count": 5,
      "outputs": [
        {
          "output_type": "stream",
          "name": "stdout",
          "text": [
            "[1, 2, 3, 4, 5, 6, [7, 8, 9]]\n"
          ]
        }
      ]
    },
    {
      "cell_type": "code",
      "source": [
        "#ex.3\n",
        "list3 = [\"ant\",\"cat\"]\n",
        "list3.append(\"dog\") #appending an item in list3\n",
        "list3.append(10) #appending an integer in list3\n",
        "print (list3)\n"
      ],
      "metadata": {
        "colab": {
          "base_uri": "https://localhost:8080/"
        },
        "id": "Ct0nHLB9Hled",
        "outputId": "ec20c278-afbe-441c-dbdb-227c2cfb8288"
      },
      "execution_count": 6,
      "outputs": [
        {
          "output_type": "stream",
          "name": "stdout",
          "text": [
            "['ant', 'cat', 'dog', 10]\n"
          ]
        }
      ]
    },
    {
      "cell_type": "markdown",
      "source": [
        "2.INSERT : adds an element at the specified index"
      ],
      "metadata": {
        "id": "gbESYsdcIkte"
      }
    },
    {
      "cell_type": "code",
      "source": [
        "#ex.4\n",
        "list3.insert(2,\"elephant\") #insert the element in index 2\n",
        "print (list3)\n"
      ],
      "metadata": {
        "colab": {
          "base_uri": "https://localhost:8080/"
        },
        "id": "PGdBxXwnI7kX",
        "outputId": "72cce4ae-1179-4d35-ab3f-5e17a259c777"
      },
      "execution_count": 7,
      "outputs": [
        {
          "output_type": "stream",
          "name": "stdout",
          "text": [
            "['ant', 'cat', 'elephant', 'dog', 10]\n"
          ]
        }
      ]
    },
    {
      "cell_type": "markdown",
      "source": [
        "3.REMOVE: removes the first occurence of the specified value"
      ],
      "metadata": {
        "id": "c_6iKpl9JuYA"
      }
    },
    {
      "cell_type": "code",
      "source": [
        "#ex.5\n",
        "list2.remove(5) #removes the element 5 in list2\n",
        "print(list2)"
      ],
      "metadata": {
        "colab": {
          "base_uri": "https://localhost:8080/"
        },
        "id": "DVU7F8J4J372",
        "outputId": "2ba1c392-9e9a-4f25-8020-90cc0c5d660a"
      },
      "execution_count": 8,
      "outputs": [
        {
          "output_type": "stream",
          "name": "stdout",
          "text": [
            "[1, 2, 3, 4, 6, [7, 8, 9]]\n"
          ]
        }
      ]
    },
    {
      "cell_type": "code",
      "source": [
        "#ex.6\n",
        "list2.remove(11) #value error ,because there is no 10 in the list a\n"
      ],
      "metadata": {
        "colab": {
          "base_uri": "https://localhost:8080/",
          "height": 183
        },
        "id": "YBGd_5cxKOwR",
        "outputId": "84cb9477-4aa2-4cb9-8c36-81c689b3a8c1"
      },
      "execution_count": 9,
      "outputs": [
        {
          "output_type": "error",
          "ename": "ValueError",
          "evalue": "ignored",
          "traceback": [
            "\u001b[0;31m---------------------------------------------------------------------------\u001b[0m",
            "\u001b[0;31mValueError\u001b[0m                                Traceback (most recent call last)",
            "\u001b[0;32m<ipython-input-9-a9f1a5687f95>\u001b[0m in \u001b[0;36m<module>\u001b[0;34m\u001b[0m\n\u001b[1;32m      1\u001b[0m \u001b[0;31m#ex.6\u001b[0m\u001b[0;34m\u001b[0m\u001b[0;34m\u001b[0m\u001b[0;34m\u001b[0m\u001b[0m\n\u001b[0;32m----> 2\u001b[0;31m \u001b[0mlist2\u001b[0m\u001b[0;34m.\u001b[0m\u001b[0mremove\u001b[0m\u001b[0;34m(\u001b[0m\u001b[0;36m11\u001b[0m\u001b[0;34m)\u001b[0m \u001b[0;31m#value error ,because there is no 10 in the list a\u001b[0m\u001b[0;34m\u001b[0m\u001b[0;34m\u001b[0m\u001b[0m\n\u001b[0m",
            "\u001b[0;31mValueError\u001b[0m: list.remove(x): x not in list"
          ]
        }
      ]
    },
    {
      "cell_type": "markdown",
      "source": [
        "4.POP : removes the item at specified index."
      ],
      "metadata": {
        "id": "mZRVAKFDKVgf"
      }
    },
    {
      "cell_type": "code",
      "source": [
        "#ex.7\n",
        "list3.pop(2) # removes and returns elephant\n",
        "print (list3)"
      ],
      "metadata": {
        "colab": {
          "base_uri": "https://localhost:8080/"
        },
        "id": "12byOiwJK8Ti",
        "outputId": "5c291973-9153-427b-b767-624725365eb2"
      },
      "execution_count": 12,
      "outputs": [
        {
          "output_type": "stream",
          "name": "stdout",
          "text": [
            "['ant', 'cat', 10]\n"
          ]
        }
      ]
    },
    {
      "cell_type": "code",
      "source": [
        "#ex.8\n",
        "list3.pop()\n",
        "print (list3) #when no index is given, it removes the last value"
      ],
      "metadata": {
        "colab": {
          "base_uri": "https://localhost:8080/"
        },
        "id": "RpzqB34fLkGZ",
        "outputId": "375bafc3-7772-4673-a1bb-cca0872c9cf2"
      },
      "execution_count": 13,
      "outputs": [
        {
          "output_type": "stream",
          "name": "stdout",
          "text": [
            "['ant', 'cat']\n"
          ]
        }
      ]
    },
    {
      "cell_type": "markdown",
      "source": [
        "5.DEL : removes the specified index and also used to delete the list completely "
      ],
      "metadata": {
        "id": "6SorbRWfMkR_"
      }
    },
    {
      "cell_type": "code",
      "source": [
        "#ex.9\n",
        "list4 = [\"onion\",\"carrot\",\"cucumber\"]\n",
        "del list4[1] #note that there is no dot after del\n",
        "print (list4) #deletes the item at index 4 "
      ],
      "metadata": {
        "colab": {
          "base_uri": "https://localhost:8080/"
        },
        "id": "hR243J9UMi2-",
        "outputId": "170bd7d9-131f-4873-e5c6-43ac4c8be22d"
      },
      "execution_count": 17,
      "outputs": [
        {
          "output_type": "stream",
          "name": "stdout",
          "text": [
            "['onion', 'cucumber']\n"
          ]
        }
      ]
    },
    {
      "cell_type": "code",
      "source": [
        "#ex.10\n",
        "del list4 #deletes the entire list4"
      ],
      "metadata": {
        "id": "Gqd02785OIPy"
      },
      "execution_count": 18,
      "outputs": []
    },
    {
      "cell_type": "code",
      "source": [
        "#ex.11\n",
        "list6 = list(range(15))\n",
        "print (list6)\n",
        "del list6[::3] #multiple element deletion by using slice notation\n",
        "print (list6) #it deletes every 3rd element starting from 0 to 15"
      ],
      "metadata": {
        "colab": {
          "base_uri": "https://localhost:8080/"
        },
        "id": "qBxwhMz2OUwV",
        "outputId": "f37d4a33-de1a-4fdb-9236-8a66f228ddc1"
      },
      "execution_count": 21,
      "outputs": [
        {
          "output_type": "stream",
          "name": "stdout",
          "text": [
            "[0, 1, 2, 3, 4, 5, 6, 7, 8, 9, 10, 11, 12, 13, 14]\n",
            "[1, 2, 4, 5, 7, 8, 10, 11, 13, 14]\n"
          ]
        }
      ]
    },
    {
      "cell_type": "code",
      "source": [
        "#ex.12\n",
        "del list6[:] #deletes  everything in the list \n",
        "print (list6)"
      ],
      "metadata": {
        "colab": {
          "base_uri": "https://localhost:8080/"
        },
        "id": "PYihodmwPt5G",
        "outputId": "1d9f08dd-5854-4842-949c-7d7b6cb59601"
      },
      "execution_count": 22,
      "outputs": [
        {
          "output_type": "stream",
          "name": "stdout",
          "text": [
            "[]\n"
          ]
        }
      ]
    },
    {
      "cell_type": "markdown",
      "source": [
        "6.INDEX : returns the index of the first occurence of input value"
      ],
      "metadata": {
        "id": "BjfKGv2rQE3s"
      }
    },
    {
      "cell_type": "code",
      "source": [
        "#ex.13\n",
        "list7 = list(range(5))\n",
        "print (list7)\n"
      ],
      "metadata": {
        "colab": {
          "base_uri": "https://localhost:8080/"
        },
        "id": "4GI11ScdQZah",
        "outputId": "1daede95-fcf5-4b55-de80-e483f032aaa4"
      },
      "execution_count": 23,
      "outputs": [
        {
          "output_type": "stream",
          "name": "stdout",
          "text": [
            "[0, 1, 2, 3, 4]\n"
          ]
        }
      ]
    },
    {
      "cell_type": "code",
      "source": [
        "print (list7.index(0)) #gives the index of 0\n",
        "print (list7.index(1))"
      ],
      "metadata": {
        "colab": {
          "base_uri": "https://localhost:8080/"
        },
        "id": "tKi_MYzOQwes",
        "outputId": "627e4891-3c06-4ec0-faa4-b32bda40267b"
      },
      "execution_count": 24,
      "outputs": [
        {
          "output_type": "stream",
          "name": "stdout",
          "text": [
            "0\n",
            "1\n"
          ]
        }
      ]
    },
    {
      "cell_type": "markdown",
      "source": [
        "7.CLEAR : removes all item from the list and gives empty list"
      ],
      "metadata": {
        "id": "l_5UHz-9RMSb"
      }
    },
    {
      "cell_type": "code",
      "source": [
        "#ex.14\n",
        "list8 = [\"a\",\"b\",\"c\"]\n",
        "list8.clear() #it clears all value from the list and returns empty list\n",
        "print (list8)"
      ],
      "metadata": {
        "colab": {
          "base_uri": "https://localhost:8080/"
        },
        "id": "MOKGHsPpRUer",
        "outputId": "f200e4fb-33a9-41c7-b20c-8bac9f8f2415"
      },
      "execution_count": 25,
      "outputs": [
        {
          "output_type": "stream",
          "name": "stdout",
          "text": [
            "[]\n"
          ]
        }
      ]
    },
    {
      "cell_type": "markdown",
      "source": [
        "8.REVERSE : reverse the order of the list\n"
      ],
      "metadata": {
        "id": "S1MOjLOARrvg"
      }
    },
    {
      "cell_type": "code",
      "source": [
        "#ex.15\n",
        "list9 = [10,20,30,40,50,60]\n",
        "list9.reverse() #it reverse the order of list\n",
        "print(list9)"
      ],
      "metadata": {
        "colab": {
          "base_uri": "https://localhost:8080/"
        },
        "id": "UmtXWmKnR7my",
        "outputId": "625f96a3-e523-4d8c-c6eb-ddd35882b4e8"
      },
      "execution_count": 26,
      "outputs": [
        {
          "output_type": "stream",
          "name": "stdout",
          "text": [
            "[60, 50, 40, 30, 20, 10]\n"
          ]
        }
      ]
    },
    {
      "cell_type": "markdown",
      "source": [
        "9.COUNT : counts the number of occurence of the specified value"
      ],
      "metadata": {
        "id": "4U98cTnCSL4H"
      }
    },
    {
      "cell_type": "code",
      "source": [
        "#ex.16\n",
        "list10 = [11,11,22,22,22,33]\n",
        "list10.count(22) #counts the no of occurence of 22\n"
      ],
      "metadata": {
        "colab": {
          "base_uri": "https://localhost:8080/"
        },
        "id": "cxSDH87NSK4J",
        "outputId": "269372f8-77d8-40a9-c5d1-760e775ed4d7"
      },
      "execution_count": 28,
      "outputs": [
        {
          "output_type": "execute_result",
          "data": {
            "text/plain": [
              "3"
            ]
          },
          "metadata": {},
          "execution_count": 28
        }
      ]
    },
    {
      "cell_type": "markdown",
      "source": [
        "10.SORT : sorts the list in numerical and lexicographical order"
      ],
      "metadata": {
        "id": "LkJt6kmESzQ5"
      }
    },
    {
      "cell_type": "code",
      "source": [
        "#ex.17\n",
        "list11 = [1,4,68,9,-5,23,56]\n",
        "list11.sort() #sorts the list in numerical\n",
        "print (list11)"
      ],
      "metadata": {
        "colab": {
          "base_uri": "https://localhost:8080/"
        },
        "id": "IwNWL4p-TAdG",
        "outputId": "9ea66ce3-9d86-46c9-dda0-727e7904c8b7"
      },
      "execution_count": 29,
      "outputs": [
        {
          "output_type": "stream",
          "name": "stdout",
          "text": [
            "[-5, 1, 4, 9, 23, 56, 68]\n"
          ]
        }
      ]
    },
    {
      "cell_type": "code",
      "source": [
        "#ex.18\n",
        "list12 = [\"ASHA\",\"SHAMA\",\"SHAN\",\"A\",\"R\"]\n",
        "list12.sort() #sorts the list in lexicographical\n",
        "print (list12)"
      ],
      "metadata": {
        "colab": {
          "base_uri": "https://localhost:8080/"
        },
        "id": "_ahsayhiTbUE",
        "outputId": "1ee7e6b1-8606-456a-a671-ee7137c1a833"
      },
      "execution_count": 30,
      "outputs": [
        {
          "output_type": "stream",
          "name": "stdout",
          "text": [
            "['A', 'ASHA', 'R', 'SHAMA', 'SHAN']\n"
          ]
        }
      ]
    },
    {
      "cell_type": "markdown",
      "source": [
        ""
      ],
      "metadata": {
        "id": "r2u8VA03UAIM"
      }
    },
    {
      "cell_type": "code",
      "source": [
        "#ex.19\n",
        "list13 = [\"a\",\"b\",1,2]\n",
        "list13.sort() #we can't sort the list if it has numerical and string values\n",
        "print (list13)\n"
      ],
      "metadata": {
        "colab": {
          "base_uri": "https://localhost:8080/",
          "height": 218
        },
        "id": "vqurO3nGTxtm",
        "outputId": "5a6274f3-4d5c-4318-92bf-790a23b547ca"
      },
      "execution_count": 31,
      "outputs": [
        {
          "output_type": "error",
          "ename": "TypeError",
          "evalue": "ignored",
          "traceback": [
            "\u001b[0;31m---------------------------------------------------------------------------\u001b[0m",
            "\u001b[0;31mTypeError\u001b[0m                                 Traceback (most recent call last)",
            "\u001b[0;32m<ipython-input-31-47ddf4ef63d2>\u001b[0m in \u001b[0;36m<module>\u001b[0;34m\u001b[0m\n\u001b[1;32m      1\u001b[0m \u001b[0;31m#ex.19\u001b[0m\u001b[0;34m\u001b[0m\u001b[0;34m\u001b[0m\u001b[0;34m\u001b[0m\u001b[0m\n\u001b[1;32m      2\u001b[0m \u001b[0mlist13\u001b[0m \u001b[0;34m=\u001b[0m \u001b[0;34m[\u001b[0m\u001b[0;34m\"a\"\u001b[0m\u001b[0;34m,\u001b[0m\u001b[0;34m\"b\"\u001b[0m\u001b[0;34m,\u001b[0m\u001b[0;36m1\u001b[0m\u001b[0;34m,\u001b[0m\u001b[0;36m2\u001b[0m\u001b[0;34m]\u001b[0m\u001b[0;34m\u001b[0m\u001b[0;34m\u001b[0m\u001b[0m\n\u001b[0;32m----> 3\u001b[0;31m \u001b[0mlist13\u001b[0m\u001b[0;34m.\u001b[0m\u001b[0msort\u001b[0m\u001b[0;34m(\u001b[0m\u001b[0;34m)\u001b[0m \u001b[0;31m#we can't sort the list if it has numerical and string values\u001b[0m\u001b[0;34m\u001b[0m\u001b[0;34m\u001b[0m\u001b[0m\n\u001b[0m\u001b[1;32m      4\u001b[0m \u001b[0mprint\u001b[0m \u001b[0;34m(\u001b[0m\u001b[0mlist13\u001b[0m\u001b[0;34m)\u001b[0m\u001b[0;34m\u001b[0m\u001b[0;34m\u001b[0m\u001b[0m\n",
            "\u001b[0;31mTypeError\u001b[0m: '<' not supported between instances of 'int' and 'str'"
          ]
        }
      ]
    },
    {
      "cell_type": "markdown",
      "source": [
        "11.COPY :returns a copy of the list"
      ],
      "metadata": {
        "id": "Wv_wiwr-UL7i"
      }
    },
    {
      "cell_type": "code",
      "source": [
        "#ex.20\n",
        "thislist = [\"frog\",\"python\"]\n",
        "mylist = thislist.copy() #copying a list using copy() method\n",
        "print(mylist)"
      ],
      "metadata": {
        "colab": {
          "base_uri": "https://localhost:8080/"
        },
        "id": "yh0yS4YfUTpl",
        "outputId": "52fe52fd-11b1-47e3-ffec-f13726c8ec66"
      },
      "execution_count": 32,
      "outputs": [
        {
          "output_type": "stream",
          "name": "stdout",
          "text": [
            "['frog', 'python']\n"
          ]
        }
      ]
    },
    {
      "cell_type": "code",
      "source": [
        "#ex.21\n",
        "thislist1 = [\"frog\",\"python\",\"ant\"]\n",
        "mylist1 = list(thislist1) #copying a list using list() method\n",
        "print(mylist1)\n"
      ],
      "metadata": {
        "colab": {
          "base_uri": "https://localhost:8080/"
        },
        "id": "UEKxtyErU1mi",
        "outputId": "f169eda4-f288-4140-9cc4-c5c95be88b52"
      },
      "execution_count": 33,
      "outputs": [
        {
          "output_type": "stream",
          "name": "stdout",
          "text": [
            "['frog', 'python', 'ant']\n"
          ]
        }
      ]
    },
    {
      "cell_type": "markdown",
      "source": [
        "12.JOIN TWO LISTS"
      ],
      "metadata": {
        "id": "UeTYJRWJVPEm"
      }
    },
    {
      "cell_type": "code",
      "source": [
        "#ex.22\n",
        "list14 = [1,2,3,4,5]\n",
        "list15 = [\"a\",\"b\",\"c\"]\n",
        "list16 = list14 + list15 #joins two list using + operator\n",
        "print (list16)"
      ],
      "metadata": {
        "colab": {
          "base_uri": "https://localhost:8080/"
        },
        "id": "zIuMZ-EmVU-c",
        "outputId": "5ab08a8f-bbc5-4d83-81af-cc51f76ecf9c"
      },
      "execution_count": 35,
      "outputs": [
        {
          "output_type": "stream",
          "name": "stdout",
          "text": [
            "[1, 2, 3, 4, 5, 'a', 'b', 'c']\n"
          ]
        }
      ]
    },
    {
      "cell_type": "code",
      "source": [
        "#ex.23\n",
        "for x in list15:\n",
        "  list14.append(x) #joins two list using append method\n",
        "print(list14) "
      ],
      "metadata": {
        "colab": {
          "base_uri": "https://localhost:8080/"
        },
        "id": "jugX-yjtWL1N",
        "outputId": "abb169ff-8a8d-4654-e006-cfc6c16910f7"
      },
      "execution_count": 36,
      "outputs": [
        {
          "output_type": "stream",
          "name": "stdout",
          "text": [
            "[1, 2, 3, 4, 5, 'a', 'b', 'c']\n"
          ]
        }
      ]
    },
    {
      "cell_type": "code",
      "source": [
        "#ex.24\n",
        "list17 = [1,1,1]\n",
        "list18 = [2,2,2]\n",
        "list17.extend(list18) #joins two list using extend method\n",
        "print(list17)"
      ],
      "metadata": {
        "colab": {
          "base_uri": "https://localhost:8080/"
        },
        "id": "NAMYcBZgWwU5",
        "outputId": "35f82263-5fcf-42c2-a112-135ab85b4be7"
      },
      "execution_count": 37,
      "outputs": [
        {
          "output_type": "stream",
          "name": "stdout",
          "text": [
            "[1, 1, 1, 2, 2, 2]\n"
          ]
        }
      ]
    },
    {
      "cell_type": "markdown",
      "source": [
        "13. MULTIPLICATION OF LIST"
      ],
      "metadata": {
        "id": "l5dC6Ab1Xgrp"
      }
    },
    {
      "cell_type": "code",
      "source": [
        "#ex.25\n",
        "print(list17*5) #it returns 5 copies of items in the list"
      ],
      "metadata": {
        "colab": {
          "base_uri": "https://localhost:8080/"
        },
        "id": "ekP_WdN3XYw5",
        "outputId": "eacd7cc4-3081-4984-9609-44367633eb53"
      },
      "execution_count": 38,
      "outputs": [
        {
          "output_type": "stream",
          "name": "stdout",
          "text": [
            "[1, 1, 1, 2, 2, 2, 1, 1, 1, 2, 2, 2, 1, 1, 1, 2, 2, 2, 1, 1, 1, 2, 2, 2, 1, 1, 1, 2, 2, 2]\n"
          ]
        }
      ]
    },
    {
      "cell_type": "markdown",
      "source": [
        "## **II. TUPLE**"
      ],
      "metadata": {
        "id": "DndfesUDYKSl"
      }
    },
    {
      "cell_type": "markdown",
      "source": [
        "Tuple is ordered and unchangeble .Allows duplicate members"
      ],
      "metadata": {
        "id": "JcAoFlXTKSu3"
      }
    },
    {
      "cell_type": "markdown",
      "source": [
        "Creating a tuple"
      ],
      "metadata": {
        "id": "YEG7IrQFYejW"
      }
    },
    {
      "cell_type": "code",
      "source": [
        "tuple1 = \"a\",\"b\",\"c\",\"d\"\n",
        "print (tuple1)\n",
        "tuple2 = tuple (\"numbers\")\n",
        "print (tuple2)"
      ],
      "metadata": {
        "colab": {
          "base_uri": "https://localhost:8080/"
        },
        "id": "tMzGiu7BYWWf",
        "outputId": "3a651d86-4f3a-40f3-b8e8-19a38eadeeab"
      },
      "execution_count": 41,
      "outputs": [
        {
          "output_type": "stream",
          "name": "stdout",
          "text": [
            "('a', 'b', 'c', 'd')\n",
            "('n', 'u', 'm', 'b', 'e', 'r', 's')\n"
          ]
        }
      ]
    },
    {
      "cell_type": "markdown",
      "source": [
        "looking into methods of tuple"
      ],
      "metadata": {
        "id": "jkFDbiZHZjNw"
      }
    },
    {
      "cell_type": "code",
      "source": [
        "dir(tuple)"
      ],
      "metadata": {
        "colab": {
          "base_uri": "https://localhost:8080/"
        },
        "id": "kBfTlZGWZmA6",
        "outputId": "7a5dd312-7e31-4069-e914-4bdf13419ded"
      },
      "execution_count": 42,
      "outputs": [
        {
          "output_type": "execute_result",
          "data": {
            "text/plain": [
              "['__add__',\n",
              " '__class__',\n",
              " '__contains__',\n",
              " '__delattr__',\n",
              " '__dir__',\n",
              " '__doc__',\n",
              " '__eq__',\n",
              " '__format__',\n",
              " '__ge__',\n",
              " '__getattribute__',\n",
              " '__getitem__',\n",
              " '__getnewargs__',\n",
              " '__gt__',\n",
              " '__hash__',\n",
              " '__init__',\n",
              " '__init_subclass__',\n",
              " '__iter__',\n",
              " '__le__',\n",
              " '__len__',\n",
              " '__lt__',\n",
              " '__mul__',\n",
              " '__ne__',\n",
              " '__new__',\n",
              " '__reduce__',\n",
              " '__reduce_ex__',\n",
              " '__repr__',\n",
              " '__rmul__',\n",
              " '__setattr__',\n",
              " '__sizeof__',\n",
              " '__str__',\n",
              " '__subclasshook__',\n",
              " 'count',\n",
              " 'index']"
            ]
          },
          "metadata": {},
          "execution_count": 42
        }
      ]
    },
    {
      "cell_type": "markdown",
      "source": [
        "1.COUNT :counts the number of occurence of the specified value"
      ],
      "metadata": {
        "id": "dw15FBijZqd-"
      }
    },
    {
      "cell_type": "code",
      "source": [
        "#ex.1\n",
        "tuple3 = 11,11,22,22,22,33\n",
        "tuple3.count(22) #counts the no of occurence of 22"
      ],
      "metadata": {
        "colab": {
          "base_uri": "https://localhost:8080/"
        },
        "id": "CYrcbt9da0-N",
        "outputId": "5f398543-d144-41ac-a267-8794b94cd4a9"
      },
      "execution_count": 46,
      "outputs": [
        {
          "output_type": "execute_result",
          "data": {
            "text/plain": [
              "3"
            ]
          },
          "metadata": {},
          "execution_count": 46
        }
      ]
    },
    {
      "cell_type": "markdown",
      "source": [
        "2.INDEX : returns the index of the first occurence of input value"
      ],
      "metadata": {
        "id": "IowFT755bMGv"
      }
    },
    {
      "cell_type": "code",
      "source": [
        "#ex.2\n",
        "tuple4 = 0,1,2,3,4\n",
        "print (tuple4.index(0)) #gives the index of 0\n",
        "print (tuple4.index(1))"
      ],
      "metadata": {
        "colab": {
          "base_uri": "https://localhost:8080/"
        },
        "id": "pS2TM6lpbSTq",
        "outputId": "d07a858e-bbc1-49b2-eebf-1a7d7f849c6e"
      },
      "execution_count": 47,
      "outputs": [
        {
          "output_type": "stream",
          "name": "stdout",
          "text": [
            "0\n",
            "1\n"
          ]
        }
      ]
    },
    {
      "cell_type": "markdown",
      "source": [
        "3.TUPLE CONCATENATION"
      ],
      "metadata": {
        "id": "kPokwsjMfZzc"
      }
    },
    {
      "cell_type": "code",
      "source": [
        "#ex.3\n",
        "tuple5 = tuple1 + tuple2 + tuple3 + tuple4 #joins all those tuples and returns back as single tuple\n",
        "print (tuple5)"
      ],
      "metadata": {
        "colab": {
          "base_uri": "https://localhost:8080/"
        },
        "id": "QGFwDJuuea0G",
        "outputId": "3c7c8993-cef5-4dbf-8db2-0b9effa4868d"
      },
      "execution_count": 48,
      "outputs": [
        {
          "output_type": "stream",
          "name": "stdout",
          "text": [
            "('a', 'b', 'c', 'd', 'n', 'u', 'm', 'b', 'e', 'r', 's', 11, 11, 22, 22, 22, 33, 0, 1, 2, 3, 4)\n"
          ]
        }
      ]
    },
    {
      "cell_type": "markdown",
      "source": [
        "4. SOME TUPLE FUNCTIONS"
      ],
      "metadata": {
        "id": "-fudKL7jfntV"
      }
    },
    {
      "cell_type": "code",
      "source": [
        "#ex.4\n",
        "tuple6 = (1,2,3)\n",
        "tuple7 = (1,2,3)\n",
        "tuple8 = tuple6 ==  tuple7 #checks whether two tuples are equal and returns bool value True or False\n",
        "print(tuple8)\n"
      ],
      "metadata": {
        "colab": {
          "base_uri": "https://localhost:8080/"
        },
        "id": "_Xmo1ULLfuGr",
        "outputId": "ec9b7a64-39f6-44e8-d1a7-6287000298a9"
      },
      "execution_count": 49,
      "outputs": [
        {
          "output_type": "stream",
          "name": "stdout",
          "text": [
            "True\n"
          ]
        }
      ]
    },
    {
      "cell_type": "code",
      "source": [
        "#ex.5\n",
        "tuple9 = (\"a\",\"an\",\"alpha\",)\n",
        "print(tuple9)\n",
        "print (len(tuple9)) #gives the length of tuple\n",
        "print (max(tuple9)) #takes the largest ascii value\n",
        "print (min(tuple9)) #takes the smallest ascii value\n",
        "revtupule = tuple9[::-1] #reverse the given tuple\n",
        "print (revtupule)\n",
        "\n"
      ],
      "metadata": {
        "colab": {
          "base_uri": "https://localhost:8080/"
        },
        "id": "MEW3Tlhogfk-",
        "outputId": "f7cf379f-3f95-4742-eab9-ec4880efa093"
      },
      "execution_count": 55,
      "outputs": [
        {
          "output_type": "stream",
          "name": "stdout",
          "text": [
            "('a', 'an', 'alpha')\n",
            "3\n",
            "an\n",
            "a\n",
            "('alpha', 'an', 'a')\n"
          ]
        }
      ]
    },
    {
      "cell_type": "markdown",
      "source": [
        "## **III. SET**"
      ],
      "metadata": {
        "id": "AnnrAVhqilcn"
      }
    },
    {
      "cell_type": "markdown",
      "source": [
        "Set is unordered and unindexed .No duplicate members allowed.\n",
        "\n"
      ],
      "metadata": {
        "id": "HoPRIpa-KfGN"
      }
    },
    {
      "cell_type": "markdown",
      "source": [
        "Creating a set"
      ],
      "metadata": {
        "id": "C5MBMwRWiqsk"
      }
    },
    {
      "cell_type": "code",
      "source": [
        "Set1 = {\"A\",\"B\",\"C\",\"D\"}\n",
        "print (Set1) #prints the values in unordered form\n",
        "Set2 = {1,2,3,4,4}\n",
        "print (Set2) #duplicates will be removed in set"
      ],
      "metadata": {
        "colab": {
          "base_uri": "https://localhost:8080/"
        },
        "id": "jUwkVH92ipNj",
        "outputId": "61926151-3ea5-4b22-da2b-4086782b0460"
      },
      "execution_count": 59,
      "outputs": [
        {
          "output_type": "stream",
          "name": "stdout",
          "text": [
            "{'D', 'B', 'A', 'C'}\n",
            "{1, 2, 3, 4}\n"
          ]
        }
      ]
    },
    {
      "cell_type": "markdown",
      "source": [
        "looking into methods of set"
      ],
      "metadata": {
        "id": "FLXT5zfWl15T"
      }
    },
    {
      "cell_type": "code",
      "source": [
        "dir(set)"
      ],
      "metadata": {
        "colab": {
          "base_uri": "https://localhost:8080/"
        },
        "id": "ZqT7iY1Ol5CO",
        "outputId": "c5c33af9-0f7f-459b-8903-c3c4cb39ce12"
      },
      "execution_count": 56,
      "outputs": [
        {
          "output_type": "execute_result",
          "data": {
            "text/plain": [
              "['__and__',\n",
              " '__class__',\n",
              " '__contains__',\n",
              " '__delattr__',\n",
              " '__dir__',\n",
              " '__doc__',\n",
              " '__eq__',\n",
              " '__format__',\n",
              " '__ge__',\n",
              " '__getattribute__',\n",
              " '__gt__',\n",
              " '__hash__',\n",
              " '__iand__',\n",
              " '__init__',\n",
              " '__init_subclass__',\n",
              " '__ior__',\n",
              " '__isub__',\n",
              " '__iter__',\n",
              " '__ixor__',\n",
              " '__le__',\n",
              " '__len__',\n",
              " '__lt__',\n",
              " '__ne__',\n",
              " '__new__',\n",
              " '__or__',\n",
              " '__rand__',\n",
              " '__reduce__',\n",
              " '__reduce_ex__',\n",
              " '__repr__',\n",
              " '__ror__',\n",
              " '__rsub__',\n",
              " '__rxor__',\n",
              " '__setattr__',\n",
              " '__sizeof__',\n",
              " '__str__',\n",
              " '__sub__',\n",
              " '__subclasshook__',\n",
              " '__xor__',\n",
              " 'add',\n",
              " 'clear',\n",
              " 'copy',\n",
              " 'difference',\n",
              " 'difference_update',\n",
              " 'discard',\n",
              " 'intersection',\n",
              " 'intersection_update',\n",
              " 'isdisjoint',\n",
              " 'issubset',\n",
              " 'issuperset',\n",
              " 'pop',\n",
              " 'remove',\n",
              " 'symmetric_difference',\n",
              " 'symmetric_difference_update',\n",
              " 'union',\n",
              " 'update']"
            ]
          },
          "metadata": {},
          "execution_count": 56
        }
      ]
    },
    {
      "cell_type": "markdown",
      "source": [
        "1.ADD : adds an element to the set"
      ],
      "metadata": {
        "id": "04V92LTxmZFm"
      }
    },
    {
      "cell_type": "code",
      "source": [
        "#ex.1\n",
        "set3 = \"apple\"\n",
        "set3 = (set(set3)) #changes the letters in apple into a set\n",
        "print(set3)\n",
        "set3.add(\"orange\") #adds orange in the set\n",
        "print(set3)"
      ],
      "metadata": {
        "colab": {
          "base_uri": "https://localhost:8080/"
        },
        "id": "k-L6hPgrmmNZ",
        "outputId": "110c229f-9ce5-49bd-d2eb-beb71757b117"
      },
      "execution_count": 62,
      "outputs": [
        {
          "output_type": "stream",
          "name": "stdout",
          "text": [
            "{'l', 'p', 'e', 'a'}\n",
            "{'a', 'orange', 'p', 'e', 'l'}\n"
          ]
        }
      ]
    },
    {
      "cell_type": "markdown",
      "source": [
        "2.UPDATE : updates the set with the union of this set and others"
      ],
      "metadata": {
        "id": "frgx3zOmnSJg"
      }
    },
    {
      "cell_type": "code",
      "source": [
        "#ex.2\n",
        "set4 = {1,2,3,4,5,6,7,8,9,}\n",
        "set5 = {\"an\",\"for\",\"on\",\"in\",1}\n",
        "set4.update(set5) #update the value to set,duplicates will be removed\n",
        "print (set4)"
      ],
      "metadata": {
        "colab": {
          "base_uri": "https://localhost:8080/"
        },
        "id": "mKuNppEbnRX2",
        "outputId": "57a4f1df-18c6-46e3-bbb3-620e433d56f0"
      },
      "execution_count": 64,
      "outputs": [
        {
          "output_type": "stream",
          "name": "stdout",
          "text": [
            "{1, 2, 3, 4, 5, 6, 7, 8, 9, 'on', 'in', 'an', 'for'}\n"
          ]
        }
      ]
    },
    {
      "cell_type": "code",
      "source": [
        "#ex.3\n",
        "set4 = {1,2,3,4,5,6,7,8,9,}\n",
        "set5 = {\"an\",\"for\",\"on\",\"in\",1}\n",
        "set4 = set4.update(set5) #update the value to set,duplicates will be removed\n",
        "print (set4)#if we assign the result to a variable, it gives \"None\" as result"
      ],
      "metadata": {
        "colab": {
          "base_uri": "https://localhost:8080/"
        },
        "id": "rm4AdjDIsQnT",
        "outputId": "607520da-c1d6-46e1-b948-3e9c65c838a6"
      },
      "execution_count": 72,
      "outputs": [
        {
          "output_type": "stream",
          "name": "stdout",
          "text": [
            "None\n"
          ]
        }
      ]
    },
    {
      "cell_type": "markdown",
      "source": [
        "3.UNION : returns a new set with from both sets or (operator\"|\")"
      ],
      "metadata": {
        "id": "55WVUP8poN92"
      }
    },
    {
      "cell_type": "code",
      "source": [
        "#ex.4\n",
        "set6 = {1,2,3}\n",
        "set7 = {1,4,6,7,3,2}\n",
        "set8 = set6.union(set7) #joins the two sets,duplicates will be removed\n",
        "print(set8)"
      ],
      "metadata": {
        "colab": {
          "base_uri": "https://localhost:8080/"
        },
        "id": "1kLPka_ZoNfJ",
        "outputId": "d7b13fca-6a89-4e71-eb09-aeb971eb42b6"
      },
      "execution_count": 65,
      "outputs": [
        {
          "output_type": "stream",
          "name": "stdout",
          "text": [
            "{1, 2, 3, 4, 6, 7}\n"
          ]
        }
      ]
    },
    {
      "cell_type": "code",
      "source": [
        "#ex.5\n",
        "set6 = {1,2,3}\n",
        "set7 = {1,4,6,7,3,2}\n",
        "set8 = set6 |(set7) #joins the two sets,duplicates will be removed using \"|\" operator\n",
        "print(set8)"
      ],
      "metadata": {
        "colab": {
          "base_uri": "https://localhost:8080/"
        },
        "id": "9Lr6yI0fuNn3",
        "outputId": "3516f3e1-9053-41d0-9c2c-1d941199f886"
      },
      "execution_count": 75,
      "outputs": [
        {
          "output_type": "stream",
          "name": "stdout",
          "text": [
            "{1, 2, 3, 4, 6, 7}\n"
          ]
        }
      ]
    },
    {
      "cell_type": "markdown",
      "source": [
        "4.INTERSECTION: returns a set , that is the intersection of two other sets"
      ],
      "metadata": {
        "id": "kAFcVhDpps_Y"
      }
    },
    {
      "cell_type": "code",
      "source": [
        "#ex.6\n",
        "set8 = set6.intersection(set7) #returns the intersection of two sets in another new set\n",
        "print(set8)\n"
      ],
      "metadata": {
        "colab": {
          "base_uri": "https://localhost:8080/"
        },
        "id": "Qdsd6C7hp7_0",
        "outputId": "143fd3c9-16d5-452c-8f9f-1a376784ee8f"
      },
      "execution_count": 76,
      "outputs": [
        {
          "output_type": "stream",
          "name": "stdout",
          "text": [
            "{1, 2, 3}\n"
          ]
        }
      ]
    },
    {
      "cell_type": "code",
      "source": [
        "#ex.7 \n",
        "set8 = set6 &(set7)  #returns the intersection of two sets using \"&\" opertor in another new set\n",
        "print(set8)"
      ],
      "metadata": {
        "colab": {
          "base_uri": "https://localhost:8080/"
        },
        "id": "bsm-iL8EupR3",
        "outputId": "a8861f4e-defb-456b-94f5-9a4955457fdb"
      },
      "execution_count": 77,
      "outputs": [
        {
          "output_type": "stream",
          "name": "stdout",
          "text": [
            "{1, 2, 3}\n"
          ]
        }
      ]
    },
    {
      "cell_type": "markdown",
      "source": [
        "5. INTERSECTION UPDATE : removes the items in the set which are also included in the other specified set"
      ],
      "metadata": {
        "id": "HA62O4rix97T"
      }
    },
    {
      "cell_type": "code",
      "source": [
        "#ex.8\n",
        "set6.intersection_update(set7) #returns the intersection of two sets \n",
        "print(set6)"
      ],
      "metadata": {
        "colab": {
          "base_uri": "https://localhost:8080/"
        },
        "id": "OVI5w-y8yTOs",
        "outputId": "5b44dd54-bee5-4b05-e0c4-b30191e2becc"
      },
      "execution_count": 84,
      "outputs": [
        {
          "output_type": "stream",
          "name": "stdout",
          "text": [
            "{1, 2, 3}\n"
          ]
        }
      ]
    },
    {
      "cell_type": "markdown",
      "source": [
        "6.POP : it arbitrarly removes any element from the set"
      ],
      "metadata": {
        "id": "7c4l7KtKqvWU"
      }
    },
    {
      "cell_type": "code",
      "source": [
        "#ex.8\n",
        "set9 = {\"a\",\"b\",\"c\"}\n",
        "set10 = set9.pop()  #removes any element, not in a order\n",
        "print(set10)\n",
        "print(set9)"
      ],
      "metadata": {
        "colab": {
          "base_uri": "https://localhost:8080/"
        },
        "id": "rO65tuTMqu6l",
        "outputId": "586ef0fa-386c-47d0-dbfe-4d882217a4a3"
      },
      "execution_count": 69,
      "outputs": [
        {
          "output_type": "stream",
          "name": "stdout",
          "text": [
            "b\n",
            "{'c', 'a'}\n"
          ]
        }
      ]
    },
    {
      "cell_type": "markdown",
      "source": [
        "7.REMOVE : removes the specified element"
      ],
      "metadata": {
        "id": "Qvh0zsWqrcFq"
      }
    },
    {
      "cell_type": "code",
      "source": [
        "#ex.9\n",
        "set11 = {1,2,3}\n",
        "set11.remove(1)\n",
        "print (set11)"
      ],
      "metadata": {
        "colab": {
          "base_uri": "https://localhost:8080/"
        },
        "id": "wBXd2BLhrohv",
        "outputId": "4cde775b-c0fb-41e9-d679-8ee8c4f8fb1c"
      },
      "execution_count": 85,
      "outputs": [
        {
          "output_type": "stream",
          "name": "stdout",
          "text": [
            "{2, 3}\n"
          ]
        }
      ]
    },
    {
      "cell_type": "code",
      "source": [
        "#ex.10\n",
        "set11 = {1,2,3}\n",
        "set11 = set11.remove(1) #if we assign the result to a variable, it gives \"None\" as result\n",
        "print (set11)"
      ],
      "metadata": {
        "colab": {
          "base_uri": "https://localhost:8080/"
        },
        "id": "R4zVyJLur5Mo",
        "outputId": "bf990bb5-9dad-4e7e-bed1-f0d6e3e2ae86"
      },
      "execution_count": 71,
      "outputs": [
        {
          "output_type": "stream",
          "name": "stdout",
          "text": [
            "None\n"
          ]
        }
      ]
    },
    {
      "cell_type": "markdown",
      "source": [
        "8.COPY : returns the copy of a set"
      ],
      "metadata": {
        "id": "PG9FqbDQsfqp"
      }
    },
    {
      "cell_type": "code",
      "source": [
        "#ex.11\n",
        "set12 = {\"apple\",\"orange\"}\n",
        "set13 = set12.copy() #copies the set \n",
        "print (set13)"
      ],
      "metadata": {
        "colab": {
          "base_uri": "https://localhost:8080/"
        },
        "id": "63mhoUwPsoNL",
        "outputId": "bb5950b7-c51a-40ff-c635-8de6a8bc0477"
      },
      "execution_count": 73,
      "outputs": [
        {
          "output_type": "stream",
          "name": "stdout",
          "text": [
            "{'apple', 'orange'}\n"
          ]
        }
      ]
    },
    {
      "cell_type": "markdown",
      "source": [
        "9.CLEAR : removes all the elements from the set"
      ],
      "metadata": {
        "id": "MIfOyKhms-80"
      }
    },
    {
      "cell_type": "code",
      "source": [
        "#ex.12\n",
        "set14 = {\"apple\",\"orange\"}\n",
        "set15 = set14.clear() #clears the whole set\n",
        "print (set14) #returns empty set\n",
        "print (set15) #returns None\n"
      ],
      "metadata": {
        "colab": {
          "base_uri": "https://localhost:8080/"
        },
        "id": "0vxvgzaBs-hd",
        "outputId": "63b35516-64cd-4d0c-b7ee-de27a3674460"
      },
      "execution_count": 86,
      "outputs": [
        {
          "output_type": "stream",
          "name": "stdout",
          "text": [
            "set()\n",
            "None\n"
          ]
        }
      ]
    },
    {
      "cell_type": "markdown",
      "source": [
        "10.DIFFERENCE : returns a set containing difference between two or more sets or (\"-\" Operator)"
      ],
      "metadata": {
        "id": "1U0xLqcYt6Ef"
      }
    },
    {
      "cell_type": "code",
      "source": [
        "#ex.13\n",
        "set16 = {\"apple\",\"orange\",\"cherry\",\"mango\"}\n",
        "set17 = {\"apple\",\"orange\"} #returns the difference between those sets\n",
        "set18 = set16.difference(set17)\n",
        "print (set18)\n"
      ],
      "metadata": {
        "colab": {
          "base_uri": "https://localhost:8080/"
        },
        "id": "MxbQ_LGbt5wV",
        "outputId": "f1fbcb6a-24bf-4720-baf6-ea4f999c7c8e"
      },
      "execution_count": 87,
      "outputs": [
        {
          "output_type": "stream",
          "name": "stdout",
          "text": [
            "{'cherry', 'mango'}\n"
          ]
        }
      ]
    },
    {
      "cell_type": "code",
      "source": [
        "#ex.14\n",
        "set16 = {\"apple\",\"orange\",\"cherry\",\"mango\"}\n",
        "set17 = {\"apple\",\"orange\"} #returns the difference between those sets using \"-\" operator\n",
        "print (\"before difference\", id(set16))\n",
        "set18 = set16-(set17)\n",
        "print (set18)\n",
        "print (\"after difference\", id(set18)) #here both ids are not same, thus it creates a new set"
      ],
      "metadata": {
        "colab": {
          "base_uri": "https://localhost:8080/"
        },
        "id": "2esVHn3bv_p7",
        "outputId": "d96f4e43-0159-4198-f25b-f044dfd4126a"
      },
      "execution_count": 82,
      "outputs": [
        {
          "output_type": "stream",
          "name": "stdout",
          "text": [
            "before difference 140295969410656\n",
            "{'cherry', 'mango'}\n",
            "after difference 140295969409456\n"
          ]
        }
      ]
    },
    {
      "cell_type": "markdown",
      "source": [
        "11: DIFFERENCE UPDATE : removes the items in the set which are also included in the other specified set\n"
      ],
      "metadata": {
        "id": "i8PXbGD0w-wV"
      }
    },
    {
      "cell_type": "code",
      "source": [
        "#ex.15\n",
        "set16 = {\"apple\",\"orange\",\"cherry\",\"mango\"}\n",
        "set17 = {\"apple\",\"orange\"} #returns the difference between those sets using \"-\" operator\n",
        "print (\"before difference\", id(set16))\n",
        "set16.difference_update(set17)\n",
        "print (set16)\n",
        "print (\"after difference\", id(set16)) #here both ids are  same, thus it updates into the set"
      ],
      "metadata": {
        "colab": {
          "base_uri": "https://localhost:8080/"
        },
        "id": "CdetBamSxgiN",
        "outputId": "59106e71-fb0d-44c7-82ec-68a1f0b4bcb9"
      },
      "execution_count": 83,
      "outputs": [
        {
          "output_type": "stream",
          "name": "stdout",
          "text": [
            "before difference 140295969408496\n",
            "{'mango', 'cherry'}\n",
            "after difference 140295969408496\n"
          ]
        }
      ]
    },
    {
      "cell_type": "markdown",
      "source": [
        "12.SYMMETRIC DIFFERENCE() : returns a set with symmetric difference of two sets"
      ],
      "metadata": {
        "id": "q7eQvYd0y2NP"
      }
    },
    {
      "cell_type": "code",
      "source": [
        "#ex.16\n",
        "set16 = {\"apple\",\"orange\",\"cherry\",\"mango\"}\n",
        "set17 = {\"apple\",\"orange\"} #returns the  symmetric difference between those sets\n",
        "set18 = set16.symmetric_difference(set17)\n",
        "print (set18)\n"
      ],
      "metadata": {
        "colab": {
          "base_uri": "https://localhost:8080/"
        },
        "id": "KiaBoSgvzE6f",
        "outputId": "4dd7864b-c941-46b1-8278-6d24848de009"
      },
      "execution_count": 90,
      "outputs": [
        {
          "output_type": "stream",
          "name": "stdout",
          "text": [
            "{'cherry', 'mango'}\n"
          ]
        }
      ]
    },
    {
      "cell_type": "markdown",
      "source": [
        "13.SYMMETRIC DIFFERENCE UPDATE : inserts the symmetric difference from this set and another"
      ],
      "metadata": {
        "id": "_GHswCkuzgfT"
      }
    },
    {
      "cell_type": "code",
      "source": [
        "#ex.16\n",
        "set16 = {\"apple\",\"orange\",\"cherry\",\"mango\"}\n",
        "set17 = {\"apple\",\"orange\"} #returns the  symmetric difference between those sets\n",
        "set16.symmetric_difference_update(set17)\n",
        "print (set16)\n"
      ],
      "metadata": {
        "colab": {
          "base_uri": "https://localhost:8080/"
        },
        "id": "JhRMxf-fzvcI",
        "outputId": "1e23dd6c-e81c-4b81-b432-ccbce323f316"
      },
      "execution_count": 92,
      "outputs": [
        {
          "output_type": "stream",
          "name": "stdout",
          "text": [
            "{'mango', 'cherry'}\n"
          ]
        }
      ]
    },
    {
      "cell_type": "markdown",
      "source": [
        "14.SUBSET : returns whether another set contains this set or not or (\"<=\" Operator)"
      ],
      "metadata": {
        "id": "cKsZfF2M0U5l"
      }
    },
    {
      "cell_type": "code",
      "source": [
        "#ex.17\n",
        "set19 = {1,2,3,4,5,6,7,8,9,10}\n",
        "set20 = {2,4,6,8,10}\n",
        "print (set19.issubset(set20)) #returns \"True\" if the set is contained else it returns \"False\"\n",
        "print (set20.issubset(set19))\n"
      ],
      "metadata": {
        "colab": {
          "base_uri": "https://localhost:8080/"
        },
        "id": "M-qxh2z20C2y",
        "outputId": "ea826c2d-bb24-4672-f01b-a52bd8e53439"
      },
      "execution_count": 93,
      "outputs": [
        {
          "output_type": "stream",
          "name": "stdout",
          "text": [
            "False\n",
            "True\n"
          ]
        }
      ]
    },
    {
      "cell_type": "code",
      "source": [
        "#ex.18\n",
        "set19 = {1,2,3,4,5,6,7,8,9,10}\n",
        "set20 = {2,4,6,8,10}\n",
        "print (set19<=(set20)) #returns \"True\" if the set is contained else it returns \"False\" using \"<=\" operator\n",
        "print (set20<=(set19))"
      ],
      "metadata": {
        "colab": {
          "base_uri": "https://localhost:8080/"
        },
        "id": "j-xKDhoY1_bU",
        "outputId": "72cfc4cb-6193-4c14-acef-ef1053cddced"
      },
      "execution_count": 96,
      "outputs": [
        {
          "output_type": "stream",
          "name": "stdout",
          "text": [
            "False\n",
            "True\n"
          ]
        }
      ]
    },
    {
      "cell_type": "markdown",
      "source": [
        "15.SUPERSET:returns this set contains the another set or not  (\">=\" Operator)"
      ],
      "metadata": {
        "id": "881ccFee1PFP"
      }
    },
    {
      "cell_type": "code",
      "source": [
        "#ex.19\n",
        "set19 = {1,2,3,4,5,6,7,8,9,10}\n",
        "set20 = {2,4,6,8,10}\n",
        "print (set19.issuperset(set20)) #returns \"True\" if the set is superset else it returns \"False\"\n",
        "print (set20.issuperset(set19))"
      ],
      "metadata": {
        "colab": {
          "base_uri": "https://localhost:8080/"
        },
        "id": "IJEFh3rJ1bzy",
        "outputId": "2bc516e5-ab5c-4261-a1d3-fcb1d58973cd"
      },
      "execution_count": 95,
      "outputs": [
        {
          "output_type": "stream",
          "name": "stdout",
          "text": [
            "True\n",
            "False\n"
          ]
        }
      ]
    },
    {
      "cell_type": "code",
      "source": [
        "#ex.20\n",
        "set19 = {1,2,3,4,5,6,7,8,9,10}\n",
        "set20 = {2,4,6,8,10}\n",
        "print (set19>=(set20)) #returns \"True\" if the set is superset else it returns \"False\" using \">=\" operator\n",
        "print (set20>=(set19))"
      ],
      "metadata": {
        "colab": {
          "base_uri": "https://localhost:8080/"
        },
        "id": "LRYVPHP82M4S",
        "outputId": "ed746412-f061-4be1-b6fb-25726c721f5f"
      },
      "execution_count": 97,
      "outputs": [
        {
          "output_type": "stream",
          "name": "stdout",
          "text": [
            "True\n",
            "False\n"
          ]
        }
      ]
    },
    {
      "cell_type": "code",
      "source": [
        "#ex.21\n",
        "set19 = {1,2,3,4,5,6,7,8,9,10}\n",
        "set20 = {1,2,3,4,5,6,7,8,9,10}\n",
        "print (set19.issuperset(set20)) #returns \"True\" if both the sets has same elements\n",
        "print (set20.issuperset(set19))\n",
        "print (set19.issubset(set20)) #returns \"True\" if both the sets has same elements\n",
        "print (set20.issubset(set19))\n"
      ],
      "metadata": {
        "colab": {
          "base_uri": "https://localhost:8080/"
        },
        "id": "8dwK6dSr2qhK",
        "outputId": "cc4ac887-0b39-4040-c7e2-0ceb4cb29fae"
      },
      "execution_count": 98,
      "outputs": [
        {
          "output_type": "stream",
          "name": "stdout",
          "text": [
            "True\n",
            "True\n",
            "True\n",
            "True\n"
          ]
        }
      ]
    },
    {
      "cell_type": "markdown",
      "source": [
        "16.DISJOINT SETS : returns whether two sets have an intersection or not"
      ],
      "metadata": {
        "id": "53X4KlIp3DFj"
      }
    },
    {
      "cell_type": "code",
      "source": [
        "#ex.22\n",
        "set19 = {1,2,3,4,5,6,7,8,9,10}\n",
        "set20 = {2,4,6,8,10}\n",
        "print (set19.isdisjoint(set20))  #returns \"True\" if two sets have an intersection else it returns \"False\"\n"
      ],
      "metadata": {
        "colab": {
          "base_uri": "https://localhost:8080/"
        },
        "id": "aeJkp04i3IIJ",
        "outputId": "e692fb0a-7009-4f7f-d40e-1781de3f7da2"
      },
      "execution_count": 99,
      "outputs": [
        {
          "output_type": "stream",
          "name": "stdout",
          "text": [
            "False\n"
          ]
        }
      ]
    },
    {
      "cell_type": "markdown",
      "source": [
        "## **IV:DICTIONARY**"
      ],
      "metadata": {
        "id": "5RNEkMJ236X5"
      }
    },
    {
      "cell_type": "markdown",
      "source": [
        "Dictionary is ordered,changeable . No duplicate key members allowed"
      ],
      "metadata": {
        "id": "vHUz3up3LUzU"
      }
    },
    {
      "cell_type": "markdown",
      "source": [
        "creating a dictionary"
      ],
      "metadata": {
        "id": "dv0zww6F4FvW"
      }
    },
    {
      "cell_type": "code",
      "source": [
        "dict1 = {\"name\":\"anisha\",\"age\":22,\"location\":\"kanyakumari\"}\n",
        "print (dict1)"
      ],
      "metadata": {
        "colab": {
          "base_uri": "https://localhost:8080/"
        },
        "id": "JAf84t234E0F",
        "outputId": "3947aeda-06fb-49b2-fcb5-149650a87586"
      },
      "execution_count": 100,
      "outputs": [
        {
          "output_type": "stream",
          "name": "stdout",
          "text": [
            "{'name': 'anisha', 'age': 22, 'location': 'kanyakumari'}\n"
          ]
        }
      ]
    },
    {
      "cell_type": "markdown",
      "source": [
        "Looking into items of dictionary"
      ],
      "metadata": {
        "id": "fY3gNq9a4asr"
      }
    },
    {
      "cell_type": "code",
      "source": [
        "dir(dict)"
      ],
      "metadata": {
        "colab": {
          "base_uri": "https://localhost:8080/"
        },
        "id": "QYEAbwM94fvf",
        "outputId": "f760ae7c-f0a2-4ae3-9eac-9eede308fd14"
      },
      "execution_count": 101,
      "outputs": [
        {
          "output_type": "execute_result",
          "data": {
            "text/plain": [
              "['__class__',\n",
              " '__contains__',\n",
              " '__delattr__',\n",
              " '__delitem__',\n",
              " '__dir__',\n",
              " '__doc__',\n",
              " '__eq__',\n",
              " '__format__',\n",
              " '__ge__',\n",
              " '__getattribute__',\n",
              " '__getitem__',\n",
              " '__gt__',\n",
              " '__hash__',\n",
              " '__init__',\n",
              " '__init_subclass__',\n",
              " '__iter__',\n",
              " '__le__',\n",
              " '__len__',\n",
              " '__lt__',\n",
              " '__ne__',\n",
              " '__new__',\n",
              " '__reduce__',\n",
              " '__reduce_ex__',\n",
              " '__repr__',\n",
              " '__setattr__',\n",
              " '__setitem__',\n",
              " '__sizeof__',\n",
              " '__str__',\n",
              " '__subclasshook__',\n",
              " 'clear',\n",
              " 'copy',\n",
              " 'fromkeys',\n",
              " 'get',\n",
              " 'items',\n",
              " 'keys',\n",
              " 'pop',\n",
              " 'popitem',\n",
              " 'setdefault',\n",
              " 'update',\n",
              " 'values']"
            ]
          },
          "metadata": {},
          "execution_count": 101
        }
      ]
    },
    {
      "cell_type": "markdown",
      "source": [
        "1.UPDATE: updates the dictionary with the specified key-value pairs"
      ],
      "metadata": {
        "id": "VDkuhWeM4m6N"
      }
    },
    {
      "cell_type": "code",
      "source": [
        "#ex.1\n",
        "dict1 = {\"name\":\"anisha\",\"age\":22,\"location\":\"kanyakumari\"}\n",
        "dict2 = {1:\"one\",2:\"two\"}\n",
        "dict1.update(dict2) #updates the dictionaries\n",
        "print (dict1)\n"
      ],
      "metadata": {
        "colab": {
          "base_uri": "https://localhost:8080/"
        },
        "id": "AjAIx0Jg5kh-",
        "outputId": "5fa2acc9-dd0c-4c95-be9d-f73a10626025"
      },
      "execution_count": 102,
      "outputs": [
        {
          "output_type": "stream",
          "name": "stdout",
          "text": [
            "{'name': 'anisha', 'age': 22, 'location': 'kanyakumari', 1: 'one', 2: 'two'}\n"
          ]
        }
      ]
    },
    {
      "cell_type": "markdown",
      "source": [
        "2.FROM KEYS: returns a dictionary with the specified key and value"
      ],
      "metadata": {
        "id": "MnkOp6ff6NhC"
      }
    },
    {
      "cell_type": "code",
      "source": [
        "#ex.2\n",
        "dict1 = {\"name\":\"anisha\",\"age\":22,\"location\":\"kanyakumari\"}\n",
        "value = [1]\n",
        "dict2 = dict.fromkeys(dict1,value)\n",
        "print (dict2)"
      ],
      "metadata": {
        "colab": {
          "base_uri": "https://localhost:8080/"
        },
        "id": "buMz0cYc6uav",
        "outputId": "e5a59f13-c3b8-4663-de15-ffbfad28551f"
      },
      "execution_count": 104,
      "outputs": [
        {
          "output_type": "stream",
          "name": "stdout",
          "text": [
            "{'name': [1], 'age': [1], 'location': [1]}\n"
          ]
        }
      ]
    },
    {
      "cell_type": "markdown",
      "source": [
        "3.CLEAR : removes all the element from the dictionary"
      ],
      "metadata": {
        "id": "DvhoFPbB8fop"
      }
    },
    {
      "cell_type": "code",
      "source": [
        "#ex.3\n",
        "dict1 = {\"name\":\"anisha\",\"age\":22,\"location\":\"kanyakumari\"}\n",
        "print (dict1)\n",
        "dict1.clear() #removes all the element from the dictionary and returns empty dict\n",
        "print (dict1)\n"
      ],
      "metadata": {
        "colab": {
          "base_uri": "https://localhost:8080/"
        },
        "id": "9bYupIdk8KIU",
        "outputId": "82a0a6cc-51e7-4ed0-fffd-1ca8f18603bd"
      },
      "execution_count": 105,
      "outputs": [
        {
          "output_type": "stream",
          "name": "stdout",
          "text": [
            "{'name': 'anisha', 'age': 22, 'location': 'kanyakumari'}\n",
            "{}\n"
          ]
        }
      ]
    },
    {
      "cell_type": "markdown",
      "source": [
        "4.COPY : returns a copy of the dictionary"
      ],
      "metadata": {
        "id": "q8iduVk882U-"
      }
    },
    {
      "cell_type": "code",
      "source": [
        "#ex.4\n",
        "dict1 = {\"name\":\"anisha\",\"age\":22,\"location\":\"kanyakumari\"}\n",
        "dict2 = dict1.copy() #returns a copy of the dictionary\n",
        "print (dict2)"
      ],
      "metadata": {
        "colab": {
          "base_uri": "https://localhost:8080/"
        },
        "id": "81SJv1Zn81tx",
        "outputId": "cb3f8381-2d6d-4089-e1d1-3c27654b3730"
      },
      "execution_count": 106,
      "outputs": [
        {
          "output_type": "stream",
          "name": "stdout",
          "text": [
            "{'name': 'anisha', 'age': 22, 'location': 'kanyakumari'}\n"
          ]
        }
      ]
    },
    {
      "cell_type": "code",
      "source": [
        "#ex.5\n",
        "dict1 = {\"name\":\"anisha\",\"age\":22,\"location\":\"kanyakumari\"}\n",
        "dict2 = {**dict1} #returns a copy of the dictionary using ** method\n",
        "print (dict2)\n"
      ],
      "metadata": {
        "colab": {
          "base_uri": "https://localhost:8080/"
        },
        "id": "eusIpN9k9Vem",
        "outputId": "8b1ac1f7-1e1c-46df-8f19-ad25c61cf220"
      },
      "execution_count": 107,
      "outputs": [
        {
          "output_type": "stream",
          "name": "stdout",
          "text": [
            "{'name': 'anisha', 'age': 22, 'location': 'kanyakumari'}\n"
          ]
        }
      ]
    },
    {
      "cell_type": "markdown",
      "source": [
        "5.DELETE: deletes a pair from the dictionary"
      ],
      "metadata": {
        "id": "ulkl_4vf95kM"
      }
    },
    {
      "cell_type": "code",
      "source": [
        "#ex.6\n",
        "dict1 = {\"name\":\"anisha\",\"age\":22,\"location\":\"kanyakumari\"}\n",
        "del (dict1[\"name\"]) #to delete an item, we have to delete the key from the dictionary\n",
        "print (dict1)"
      ],
      "metadata": {
        "colab": {
          "base_uri": "https://localhost:8080/"
        },
        "id": "TGy2srM_-Fq8",
        "outputId": "45fc3f1c-17d9-40ff-9efe-4bba9c2ebad0"
      },
      "execution_count": 108,
      "outputs": [
        {
          "output_type": "stream",
          "name": "stdout",
          "text": [
            "{'age': 22, 'location': 'kanyakumari'}\n"
          ]
        }
      ]
    },
    {
      "cell_type": "markdown",
      "source": [
        "6.SORT : sort the key values in dictionary\n"
      ],
      "metadata": {
        "id": "vXlTqasu-lrF"
      }
    },
    {
      "cell_type": "code",
      "source": [
        "#ex.7\n",
        "dict1 = {\"name\":\"anisha\",\"age\":22,\"location\":\"kanyakumari\"}\n",
        "print (sorted(dict1))"
      ],
      "metadata": {
        "colab": {
          "base_uri": "https://localhost:8080/"
        },
        "id": "ZeLrajQe-hd_",
        "outputId": "7bd3abf6-1603-4c92-db00-c35abf0c0e14"
      },
      "execution_count": 109,
      "outputs": [
        {
          "output_type": "stream",
          "name": "stdout",
          "text": [
            "['age', 'location', 'name']\n"
          ]
        }
      ]
    },
    {
      "cell_type": "markdown",
      "source": [
        "7. ACCESSING KEYS AND VALUES"
      ],
      "metadata": {
        "id": "kJ1-tB7W-_J2"
      }
    },
    {
      "cell_type": "code",
      "source": [
        "#ex.8\n",
        "dict1 = {\"name\":\"anisha\",\"age\":22,\"location\":\"kanyakumari\"}\n",
        "for item in dict1.keys():\n",
        "  print(item)\n",
        "for item in dict1.values():\n",
        "  print(item)"
      ],
      "metadata": {
        "colab": {
          "base_uri": "https://localhost:8080/"
        },
        "id": "U2uXRvIW-7ug",
        "outputId": "7dbb7a93-e0a7-4a27-e6fe-84c274036516"
      },
      "execution_count": 110,
      "outputs": [
        {
          "output_type": "stream",
          "name": "stdout",
          "text": [
            "name\n",
            "age\n",
            "location\n",
            "anisha\n",
            "22\n",
            "kanyakumari\n"
          ]
        }
      ]
    },
    {
      "cell_type": "markdown",
      "source": [
        "8. SET DEFAULT : returns the value of the specified key. If the key doesnot exist, then it insert the key with the specified value"
      ],
      "metadata": {
        "id": "N8houjsQDCdD"
      }
    },
    {
      "cell_type": "code",
      "source": [
        "#ex.9\n",
        "dict1 = {\"name\":\"anisha\",\"age\":22,\"location\":\"kanyakumari\"}\n",
        "print (dict1)\n",
        "dict1.setdefault(\"State\", \"Tamilnadu\")\n",
        "print (dict1)"
      ],
      "metadata": {
        "colab": {
          "base_uri": "https://localhost:8080/"
        },
        "id": "gKxu0mlLDWhX",
        "outputId": "f13f834a-2320-4ccb-b41a-359358dc87bc"
      },
      "execution_count": 113,
      "outputs": [
        {
          "output_type": "stream",
          "name": "stdout",
          "text": [
            "{'name': 'anisha', 'age': 22, 'location': 'kanyakumari'}\n",
            "{'name': 'anisha', 'age': 22, 'location': 'kanyakumari', 'State': 'Tamilnadu'}\n"
          ]
        }
      ]
    },
    {
      "cell_type": "markdown",
      "source": [
        "9.GET : returns the value of the specified key"
      ],
      "metadata": {
        "id": "8CrveDq0EuEz"
      }
    },
    {
      "cell_type": "code",
      "source": [
        "#ex.10\n",
        "dict1 = {\"name\":\"anisha\",\"age\":22,\"location\":\"kanyakumari\"}\n",
        "print (dict1)\n",
        "dict1.get(\"location\") #returns the value of location\n"
      ],
      "metadata": {
        "colab": {
          "base_uri": "https://localhost:8080/",
          "height": 53
        },
        "id": "q_DxVxvXE1m6",
        "outputId": "984b3bf8-ab88-483c-e426-ec4cb89f1a20"
      },
      "execution_count": 121,
      "outputs": [
        {
          "output_type": "stream",
          "name": "stdout",
          "text": [
            "{'name': 'anisha', 'age': 22, 'location': 'kanyakumari'}\n"
          ]
        },
        {
          "output_type": "execute_result",
          "data": {
            "text/plain": [
              "'kanyakumari'"
            ],
            "application/vnd.google.colaboratory.intrinsic+json": {
              "type": "string"
            }
          },
          "metadata": {},
          "execution_count": 121
        }
      ]
    },
    {
      "cell_type": "markdown",
      "source": [
        "10. POP : removes the element with the specified key"
      ],
      "metadata": {
        "id": "w2yJ2Jy4FpZS"
      }
    },
    {
      "cell_type": "code",
      "source": [
        "#ex 11\n",
        "dict1 = {\"name\":\"anisha\",\"age\":22,\"location\":\"kanyakumari\"}\n",
        "print(dict1.pop(\"name\"))\n",
        "print (dict1)"
      ],
      "metadata": {
        "colab": {
          "base_uri": "https://localhost:8080/"
        },
        "id": "4abxQHaSF4ep",
        "outputId": "c972700d-9555-4d0c-bb08-6f33ef88e70a"
      },
      "execution_count": 122,
      "outputs": [
        {
          "output_type": "stream",
          "name": "stdout",
          "text": [
            "anisha\n",
            "{'age': 22, 'location': 'kanyakumari'}\n"
          ]
        }
      ]
    },
    {
      "cell_type": "markdown",
      "source": [
        ""
      ],
      "metadata": {
        "id": "ZG7ErkHdGGf2"
      }
    },
    {
      "cell_type": "markdown",
      "source": [
        "11. POP ITEM : removes the last inserted key value pair"
      ],
      "metadata": {
        "id": "gNoblZeZGGlz"
      }
    },
    {
      "cell_type": "code",
      "source": [
        "#ex. 12\n",
        "dict1 = {\"name\":\"anisha\",\"age\":22,\"location\":\"kanyakumari\"}\n",
        "print(dict1.popitem())\n",
        "print (dict1)"
      ],
      "metadata": {
        "colab": {
          "base_uri": "https://localhost:8080/"
        },
        "id": "DOp0Yzj_GMDP",
        "outputId": "35db67cf-12d1-4780-842a-b77b257e956a"
      },
      "execution_count": 124,
      "outputs": [
        {
          "output_type": "stream",
          "name": "stdout",
          "text": [
            "('location', 'kanyakumari')\n",
            "{'name': 'anisha', 'age': 22}\n"
          ]
        }
      ]
    },
    {
      "cell_type": "markdown",
      "source": [
        "12. ITEMS : returns a list containing a tuple for each key value pair"
      ],
      "metadata": {
        "id": "F26f_8asGVGc"
      }
    },
    {
      "cell_type": "code",
      "source": [
        "#ex . 13\n",
        "dict1 = {\"name\":\"anisha\",\"age\":22,\"location\":\"kanyakumari\"}\n",
        "dict1.items()"
      ],
      "metadata": {
        "colab": {
          "base_uri": "https://localhost:8080/"
        },
        "id": "zhb2K6DfGsD8",
        "outputId": "45d1abef-ac2f-4507-db6e-3a235c18ef2a"
      },
      "execution_count": 126,
      "outputs": [
        {
          "output_type": "execute_result",
          "data": {
            "text/plain": [
              "dict_items([('name', 'anisha'), ('age', 22), ('location', 'kanyakumari')])"
            ]
          },
          "metadata": {},
          "execution_count": 126
        }
      ]
    },
    {
      "cell_type": "markdown",
      "source": [
        "13. KEYS : returns a list containing the dictionary's key"
      ],
      "metadata": {
        "id": "JVxqQDMbHINJ"
      }
    },
    {
      "cell_type": "code",
      "source": [
        "#ex . 13\n",
        "dict1 = {\"name\":\"anisha\",\"age\":22,\"location\":\"kanyakumari\"}\n",
        "dict1.keys()"
      ],
      "metadata": {
        "colab": {
          "base_uri": "https://localhost:8080/"
        },
        "id": "XDfQ7grOHUmk",
        "outputId": "278aa3cb-c516-494b-abe2-a628ce26a299"
      },
      "execution_count": 127,
      "outputs": [
        {
          "output_type": "execute_result",
          "data": {
            "text/plain": [
              "dict_keys(['name', 'age', 'location'])"
            ]
          },
          "metadata": {},
          "execution_count": 127
        }
      ]
    },
    {
      "cell_type": "markdown",
      "source": [
        "14.VALUES: returns a list of all the values in the dictionary"
      ],
      "metadata": {
        "id": "oJthZB7mHbqr"
      }
    },
    {
      "cell_type": "code",
      "source": [
        "#ex . 13\n",
        "dict1 = {\"name\":\"anisha\",\"age\":22,\"location\":\"kanyakumari\"}\n",
        "dict1.values()"
      ],
      "metadata": {
        "colab": {
          "base_uri": "https://localhost:8080/"
        },
        "id": "ho1OC0LhHaug",
        "outputId": "c7af4603-4a0a-4e8f-a9ca-4397ea6f9923"
      },
      "execution_count": 128,
      "outputs": [
        {
          "output_type": "execute_result",
          "data": {
            "text/plain": [
              "dict_values(['anisha', 22, 'kanyakumari'])"
            ]
          },
          "metadata": {},
          "execution_count": 128
        }
      ]
    },
    {
      "cell_type": "markdown",
      "source": [
        "## **V. FROZEN SET**"
      ],
      "metadata": {
        "id": "IxaDSvO3ID1v"
      }
    },
    {
      "cell_type": "markdown",
      "source": [
        "Frozen set is just an immutable version of a python set."
      ],
      "metadata": {
        "id": "bEKiJlKvL6Lj"
      }
    },
    {
      "cell_type": "markdown",
      "source": [
        "creating a frozen set"
      ],
      "metadata": {
        "id": "5q3TRMIiIKPf"
      }
    },
    {
      "cell_type": "code",
      "source": [
        "set1 = {\"a\",\"b\",\"c\",\"d\"}\n",
        "fset = frozenset(set1)\n",
        "print (fset)"
      ],
      "metadata": {
        "colab": {
          "base_uri": "https://localhost:8080/"
        },
        "id": "eu4eR5QdIMsa",
        "outputId": "7fded753-a99e-46bf-976a-6398f10cede3"
      },
      "execution_count": 129,
      "outputs": [
        {
          "output_type": "stream",
          "name": "stdout",
          "text": [
            "frozenset({'b', 'd', 'c', 'a'})\n"
          ]
        }
      ]
    },
    {
      "cell_type": "markdown",
      "source": [
        "getting into methods of frozen set"
      ],
      "metadata": {
        "id": "fMhAShcnI2QA"
      }
    },
    {
      "cell_type": "code",
      "source": [
        "dir (fset)"
      ],
      "metadata": {
        "colab": {
          "base_uri": "https://localhost:8080/"
        },
        "id": "tmZIfX72I7WR",
        "outputId": "3435dfea-6c4b-482c-e78f-aa4ba493438c"
      },
      "execution_count": 130,
      "outputs": [
        {
          "output_type": "execute_result",
          "data": {
            "text/plain": [
              "['__and__',\n",
              " '__class__',\n",
              " '__contains__',\n",
              " '__delattr__',\n",
              " '__dir__',\n",
              " '__doc__',\n",
              " '__eq__',\n",
              " '__format__',\n",
              " '__ge__',\n",
              " '__getattribute__',\n",
              " '__gt__',\n",
              " '__hash__',\n",
              " '__init__',\n",
              " '__init_subclass__',\n",
              " '__iter__',\n",
              " '__le__',\n",
              " '__len__',\n",
              " '__lt__',\n",
              " '__ne__',\n",
              " '__new__',\n",
              " '__or__',\n",
              " '__rand__',\n",
              " '__reduce__',\n",
              " '__reduce_ex__',\n",
              " '__repr__',\n",
              " '__ror__',\n",
              " '__rsub__',\n",
              " '__rxor__',\n",
              " '__setattr__',\n",
              " '__sizeof__',\n",
              " '__str__',\n",
              " '__sub__',\n",
              " '__subclasshook__',\n",
              " '__xor__',\n",
              " 'copy',\n",
              " 'difference',\n",
              " 'intersection',\n",
              " 'isdisjoint',\n",
              " 'issubset',\n",
              " 'issuperset',\n",
              " 'symmetric_difference',\n",
              " 'union']"
            ]
          },
          "metadata": {},
          "execution_count": 130
        }
      ]
    },
    {
      "cell_type": "markdown",
      "source": [
        "['copy',\n",
        " 'difference',\n",
        " 'intersection',\n",
        " 'isdisjoint',\n",
        " 'issubset',\n",
        " 'issuperset',\n",
        " 'symmetric_difference',\n",
        " 'union'] These all methods can be performed in frozenset. We can do these as similar to that of set ."
      ],
      "metadata": {
        "id": "SUyTc3axJRLL"
      }
    }
  ]
}