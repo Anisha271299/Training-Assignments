{
  "nbformat": 4,
  "nbformat_minor": 0,
  "metadata": {
    "colab": {
      "name": "duplicates_remo.ipynb",
      "provenance": [],
      "authorship_tag": "ABX9TyPhcZ4ADQFAZTG+eRcw0QN0",
      "include_colab_link": true
    },
    "kernelspec": {
      "name": "python3",
      "display_name": "Python 3"
    },
    "language_info": {
      "name": "python"
    }
  },
  "cells": [
    {
      "cell_type": "markdown",
      "metadata": {
        "id": "view-in-github",
        "colab_type": "text"
      },
      "source": [
        "<a href=\"https://colab.research.google.com/github/Anisha271299/Training-Assignments/blob/main/duplicates_remo.ipynb\" target=\"_parent\"><img src=\"https://colab.research.google.com/assets/colab-badge.svg\" alt=\"Open In Colab\"/></a>"
      ]
    },
    {
      "cell_type": "code",
      "execution_count": null,
      "metadata": {
        "colab": {
          "base_uri": "https://localhost:8080/"
        },
        "id": "ja7dlY3KmplL",
        "outputId": "7200561c-b3d7-4a5e-c53f-9b9428db6582"
      },
      "outputs": [
        {
          "output_type": "stream",
          "name": "stdout",
          "text": [
            "[1, 2, 3, 4, 5, 6, 7, 12]\n"
          ]
        }
      ],
      "source": [
        "mylist= [1,2,3,2,12,5,6,7,5,4,2,1,1,4,] #method1\n",
        "print (list(set(mylist)))"
      ]
    },
    {
      "cell_type": "code",
      "source": [
        "def duplicates_removal(): #method2\n",
        "  mylist1 = [x for x in input(\"enter the numbers :\").split(\",\")]\n",
        "  mylist2 = set(mylist1)\n",
        "  print([int(i) for i in mylist2])"
      ],
      "metadata": {
        "id": "63MY1MRmwMsd"
      },
      "execution_count": null,
      "outputs": []
    },
    {
      "cell_type": "code",
      "source": [
        "duplicates_removal()"
      ],
      "metadata": {
        "colab": {
          "base_uri": "https://localhost:8080/"
        },
        "id": "Te-QwcGpwdvu",
        "outputId": "314f0e75-47ac-4cbb-ac76-39e50199ded7"
      },
      "execution_count": null,
      "outputs": [
        {
          "output_type": "stream",
          "name": "stdout",
          "text": [
            "enter the numbers :2,4,1,4,2,4,1,2,3,13,2,2,2,1\n",
            "[4, 3, 1, 2, 13]\n"
          ]
        }
      ]
    },
    {
      "cell_type": "code",
      "source": [
        "def list(n): #method 3\n",
        "  list2 = []\n",
        "  for x in range(n):\n",
        "    list1 = input('Enter a number here: ')\n",
        "    list2.append(list1)\n",
        "  list2 = (set(list2))\n",
        "  print(list2)"
      ],
      "metadata": {
        "id": "-GpfkU6frsZE"
      },
      "execution_count": null,
      "outputs": []
    },
    {
      "cell_type": "code",
      "source": [
        "list(8)"
      ],
      "metadata": {
        "colab": {
          "base_uri": "https://localhost:8080/"
        },
        "id": "IkfWa0olrumL",
        "outputId": "b99dc57a-e59e-48a4-fefe-26dac3a018d8"
      },
      "execution_count": null,
      "outputs": [
        {
          "output_type": "stream",
          "name": "stdout",
          "text": [
            "Enter a number here: 2\n",
            "Enter a number here: 3\n",
            "Enter a number here: 5\n",
            "Enter a number here: 4\n",
            "Enter a number here: 2\n",
            "Enter a number here: 1\n",
            "Enter a number here: 1\n",
            "Enter a number here: 1\n",
            "{'4', '3', '5', '2', '1'}\n"
          ]
        }
      ]
    }
  ]
}