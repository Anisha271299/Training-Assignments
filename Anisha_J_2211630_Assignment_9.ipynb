{
  "cells": [
    {
      "cell_type": "markdown",
      "source": [
        "# **FACE DETECTION USING OPENCV**"
      ],
      "metadata": {
        "id": "TosFVmoD9JbD"
      }
    },
    {
      "cell_type": "code",
      "execution_count": null,
      "metadata": {
        "id": "8HdZwCPH9Ikn"
      },
      "outputs": [],
      "source": [
        "import numpy as np\n",
        "import cv2"
      ]
    },
    {
      "cell_type": "code",
      "execution_count": null,
      "metadata": {
        "id": "EPtllLFv9Ikq"
      },
      "outputs": [],
      "source": [
        "image_c=cv2.imread(\"Trudeau.png\")"
      ]
    },
    {
      "cell_type": "code",
      "execution_count": null,
      "metadata": {
        "id": "tL0DBTpo9Ikr"
      },
      "outputs": [],
      "source": [
        "image_g=cv2.cvtColor(image_c,cv2.COLOR_BGR2GRAY)"
      ]
    },
    {
      "cell_type": "code",
      "execution_count": null,
      "metadata": {
        "id": "_xfArCmo9Ikr"
      },
      "outputs": [],
      "source": [
        "cv2.imshow('Trudeau in Color',image_c)\n",
        "cv2.waitKey()\n",
        "cv2.destroyAllWindows()"
      ]
    },
    {
      "cell_type": "code",
      "execution_count": null,
      "metadata": {
        "id": "isgr8bGp9Ikr"
      },
      "outputs": [],
      "source": [
        "cv2.imshow('Trudeau in Grey',image_g)\n",
        "cv2.waitKey()\n",
        "cv2.destroyAllWindows()"
      ]
    },
    {
      "cell_type": "code",
      "execution_count": null,
      "metadata": {
        "id": "SaWBEYvC9Iks"
      },
      "outputs": [],
      "source": [
        "face_detection=cv2.CascadeClassifier(\"haarcascade_frontalface_default.xml\")"
      ]
    },
    {
      "cell_type": "code",
      "execution_count": null,
      "metadata": {
        "id": "dxrWdWCb9Iks"
      },
      "outputs": [],
      "source": [
        "faces=face_detection.detectMultiScale(image_c,1.1,5)"
      ]
    },
    {
      "cell_type": "code",
      "execution_count": null,
      "metadata": {
        "id": "n3HXpL3p9Ikt",
        "outputId": "810b9515-71b7-4dfc-c8ce-24797d2c636e"
      },
      "outputs": [
        {
          "data": {
            "text/plain": [
              "(1, 4)"
            ]
          },
          "execution_count": 15,
          "metadata": {},
          "output_type": "execute_result"
        }
      ],
      "source": [
        "faces.shape"
      ]
    },
    {
      "cell_type": "code",
      "execution_count": null,
      "metadata": {
        "id": "a0adC9Kb9Iku",
        "outputId": "6a613821-dcf7-4f4e-a6d0-a4eb59e7bb94"
      },
      "outputs": [
        {
          "data": {
            "text/plain": [
              "array([[332, 121, 208, 208]], dtype=int32)"
            ]
          },
          "execution_count": 16,
          "metadata": {},
          "output_type": "execute_result"
        }
      ],
      "source": [
        "faces #this is the coordinate for the area where it found the face"
      ]
    },
    {
      "cell_type": "code",
      "execution_count": null,
      "metadata": {
        "id": "iWohPg_L9Iku",
        "outputId": "d69fb502-6b56-4569-fc33-b809f13a4d9a"
      },
      "outputs": [
        {
          "data": {
            "text/plain": [
              "array([121], dtype=int32)"
            ]
          },
          "execution_count": 17,
          "metadata": {},
          "output_type": "execute_result"
        }
      ],
      "source": [
        "faces[:,1]"
      ]
    },
    {
      "cell_type": "code",
      "execution_count": null,
      "metadata": {
        "id": "_zITTU449Ikv"
      },
      "outputs": [],
      "source": [
        "x=int(faces[:,0])\n",
        "y=int(faces[:,1])\n",
        "w=int(faces[:,2])\n",
        "h=int(faces[:,3])\n",
        "\n",
        "cv2.rectangle(image_c,(x,y),(x+w,y+h),(0,255,255),3)\n",
        "cv2.imshow(\"Single  Face Detection\",image_c)\n",
        "cv2.waitKey(0)\n",
        "cv2.destroyAllWindows()"
      ]
    },
    {
      "cell_type": "markdown",
      "metadata": {
        "id": "YslQV1u89Ikv"
      },
      "source": [
        "## Detecting Multiple faces"
      ]
    },
    {
      "cell_type": "code",
      "execution_count": null,
      "metadata": {
        "id": "YITMmcnc9Ikw"
      },
      "outputs": [],
      "source": [
        "image_c=cv2.imread(\"Scientist.png\")"
      ]
    },
    {
      "cell_type": "code",
      "execution_count": null,
      "metadata": {
        "id": "yHjFCVpM9Ikx"
      },
      "outputs": [],
      "source": [
        "image_g=cv2.cvtColor(image_c,cv2.COLOR_BGR2GRAY)"
      ]
    },
    {
      "cell_type": "code",
      "execution_count": null,
      "metadata": {
        "id": "b0GvZG2m9Ikx"
      },
      "outputs": [],
      "source": [
        "cv2.imshow('Scientist in Color',image_c)\n",
        "cv2.waitKey()\n",
        "cv2.destroyAllWindows()"
      ]
    },
    {
      "cell_type": "code",
      "execution_count": null,
      "metadata": {
        "id": "GOO4U0zM9Ikx"
      },
      "outputs": [],
      "source": [
        "cv2.imshow('Scientist in greyscale',image_g)\n",
        "cv2.waitKey()\n",
        "cv2.destroyAllWindows()"
      ]
    },
    {
      "cell_type": "code",
      "execution_count": null,
      "metadata": {
        "id": "MX5Thu7W9Iky"
      },
      "outputs": [],
      "source": [
        "face_detection=cv2.CascadeClassifier(\"haarcascade_frontalface_default.xml\")\n",
        "faces=face_detection.detectMultiScale(image_c,1.1,5)\n",
        "for (x,y,w,h) in faces:\n",
        "    cv2.rectangle(image_c,(x,y),(x+w,y+h),(255,0,255),10)\n",
        "    cv2.imshow('Single face Detection',image_c)\n",
        "    cv2.waitKey(0)\n",
        "    cv2.destroyAllWindows()"
      ]
    },
    {
      "cell_type": "markdown",
      "metadata": {
        "id": "eiDtGGNu9Iky"
      },
      "source": [
        "## Detect eyes and faces"
      ]
    },
    {
      "cell_type": "code",
      "execution_count": null,
      "metadata": {
        "id": "YRUEHYQX9Ikz"
      },
      "outputs": [],
      "source": [
        "image_c=cv2.imread(\"Trudeau.png\")"
      ]
    },
    {
      "cell_type": "code",
      "execution_count": null,
      "metadata": {
        "id": "bg5UgjWs9Ikz"
      },
      "outputs": [],
      "source": [
        "face_classifier=cv2.CascadeClassifier(\"haarcascade_frontalface_default.xml\")\n",
        "eye_classifier=cv2.CascadeClassifier(\"haarcascade_eye.xml\")"
      ]
    },
    {
      "cell_type": "code",
      "execution_count": null,
      "metadata": {
        "id": "SK7FcFnS9Ikz"
      },
      "outputs": [],
      "source": [
        "faces = face_classifier.detectMultiScale(image_c, 1.2, 5)\n",
        " \n",
        "for (x,y,w,h) in faces:\n",
        "    cv2.rectangle(image_c,(x,y),(x+w,y+h),(0,255,255), 3)\n",
        "    cv2.imshow('Trudeau Face and Eyes',image_c)\n",
        "    cv2.waitKey(0)\n",
        "\n",
        "    # Select the face\n",
        "    face_region = image_c[y:y+h, x:x+w]\n",
        "\n",
        "    eyes = eye_classifier.detectMultiScale(face_region)\n",
        "\n",
        "    for (eyes_x, eyes_y, eyes_w,eyes_h) in eyes:\n",
        "        cv2.rectangle(face_region,(eyes_x, eyes_y),(eyes_x + eyes_w, eyes_y + eyes_h), (0,255,0),3)\n",
        "        cv2.imshow('Trudeau Face and Eyes',image_c)\n",
        "        cv2.waitKey(0)\n",
        "\n",
        "cv2.destroyAllWindows()"
      ]
    },
    {
      "cell_type": "code",
      "execution_count": null,
      "metadata": {
        "id": "mRPHymIV9Ik0"
      },
      "outputs": [],
      "source": [
        "cv2.imshow('Face Region',image_c[y:y+h,x:x+w])\n",
        "cv2.waitKey(0)\n",
        "cv2.destroyAllWindows()"
      ]
    }
  ],
  "metadata": {
    "kernelspec": {
      "display_name": "Python 3",
      "language": "python",
      "name": "python3"
    },
    "language_info": {
      "codemirror_mode": {
        "name": "ipython",
        "version": 3
      },
      "file_extension": ".py",
      "mimetype": "text/x-python",
      "name": "python",
      "nbconvert_exporter": "python",
      "pygments_lexer": "ipython3",
      "version": "3.8.8"
    },
    "colab": {
      "provenance": []
    }
  },
  "nbformat": 4,
  "nbformat_minor": 0
}