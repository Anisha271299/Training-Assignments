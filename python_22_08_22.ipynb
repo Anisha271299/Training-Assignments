{
  "nbformat": 4,
  "nbformat_minor": 0,
  "metadata": {
    "colab": {
      "name": "python_22.08.22.ipynb",
      "provenance": [],
      "authorship_tag": "ABX9TyOS/XcUUGZORtqvHNF+EP1b",
      "include_colab_link": true
    },
    "kernelspec": {
      "name": "python3",
      "display_name": "Python 3"
    },
    "language_info": {
      "name": "python"
    }
  },
  "cells": [
    {
      "cell_type": "markdown",
      "metadata": {
        "id": "view-in-github",
        "colab_type": "text"
      },
      "source": [
        "<a href=\"https://colab.research.google.com/github/Anisha271299/Training-Assignments/blob/main/python_22_08_22.ipynb\" target=\"_parent\"><img src=\"https://colab.research.google.com/assets/colab-badge.svg\" alt=\"Open In Colab\"/></a>"
      ]
    },
    {
      "cell_type": "markdown",
      "source": [
        "Script 1: enter a number and print all prime numbers till that number"
      ],
      "metadata": {
        "id": "miwrqTRnFUZX"
      }
    },
    {
      "cell_type": "code",
      "source": [
        "%%writefile prime_no_till_that_no.py\n",
        "n=int(input(\"Enter the number till you want to check: \"))\n",
        "primes = []\n",
        "for i in range (2, n+1):\n",
        "    for j in range(2, i):\n",
        "        if i%j == 0:\n",
        "            break\n",
        "    else:\n",
        "        primes.append(i)\n",
        "print(primes)"
      ],
      "metadata": {
        "colab": {
          "base_uri": "https://localhost:8080/"
        },
        "id": "SP-zBX_7EhBH",
        "outputId": "eafd82a0-136c-441c-b2ab-8a9a32f2f8ca"
      },
      "execution_count": null,
      "outputs": [
        {
          "output_type": "stream",
          "name": "stdout",
          "text": [
            "Writing prime_no_till_that_no.py\n"
          ]
        }
      ]
    },
    {
      "cell_type": "markdown",
      "source": [
        "Script 2: enter 2 numbers and print all prime numbers between them."
      ],
      "metadata": {
        "id": "bpA2lMziFaE_"
      }
    },
    {
      "cell_type": "code",
      "execution_count": null,
      "metadata": {
        "colab": {
          "base_uri": "https://localhost:8080/"
        },
        "id": "oNV6votREJBJ",
        "outputId": "30cfd5dc-6f66-4662-9815-5da6a6078724"
      },
      "outputs": [
        {
          "output_type": "stream",
          "name": "stdout",
          "text": [
            "Writing prime_no_btwn_them.py\n"
          ]
        }
      ],
      "source": [
        "%%writefile prime_no_btwn_them.py\n",
        "# First, we will take the input:  \n",
        "lower_value = int(input (\"Enter the Lowest Range Value: \"))  \n",
        "upper_value = int(input (\"Enter the Upper Range Value: \"))  \n",
        "  \n",
        "print (\"The Prime Numbers in the range are: \")  \n",
        "for number in range (lower_value, upper_value + 1):  \n",
        "    if number > 1:  \n",
        "        for i in range (2, number):  \n",
        "            if (number % i) == 0:  \n",
        "                break  \n",
        "        else:  \n",
        "            print (number)  "
      ]
    },
    {
      "cell_type": "code",
      "source": [
        "n=int(input(\"Enter the number till you want to check: \"))\n",
        "primes = []\n",
        "for i in range (2, n+1):\n",
        "    for j in range(2, i):\n",
        "        if i%j == 0:\n",
        "            break\n",
        "    else:\n",
        "        primes.append(i)\n",
        "print(primes)"
      ],
      "metadata": {
        "colab": {
          "base_uri": "https://localhost:8080/"
        },
        "id": "I4ocdrjdGxBV",
        "outputId": "f3e91733-d70d-42e0-8f90-0fb46ae674c2"
      },
      "execution_count": null,
      "outputs": [
        {
          "output_type": "stream",
          "name": "stdout",
          "text": [
            "Enter the number till you want to check: 10\n",
            "[2, 3, 5, 7]\n"
          ]
        }
      ]
    },
    {
      "cell_type": "code",
      "source": [
        "# First, we will take the input:  \n",
        "lower_value = int(input (\"Enter the Lowest Range Value: \"))  \n",
        "upper_value = int(input (\"Enter the Upper Range Value: \"))  \n",
        "  \n",
        "print (\"The Prime Numbers in the range are: \")  \n",
        "for number in range (lower_value, upper_value + 1):  \n",
        "    if number > 1:  \n",
        "        for i in range (2, number):  \n",
        "            if (number % i) == 0:  \n",
        "                break  \n",
        "        else:  \n",
        "            print (number) "
      ],
      "metadata": {
        "colab": {
          "base_uri": "https://localhost:8080/"
        },
        "id": "wDxaMqh1H3vy",
        "outputId": "c803c500-1059-4adf-f3fb-6bfb3172902d"
      },
      "execution_count": null,
      "outputs": [
        {
          "output_type": "stream",
          "name": "stdout",
          "text": [
            "Enter the Lowest Range Value: 2\n",
            "Enter the Upper Range Value: 30\n",
            "The Prime Numbers in the range are: \n",
            "2\n",
            "3\n",
            "5\n",
            "7\n",
            "11\n",
            "13\n",
            "17\n",
            "19\n",
            "23\n",
            "29\n"
          ]
        }
      ]
    }
  ]
}