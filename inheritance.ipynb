{
  "nbformat": 4,
  "nbformat_minor": 0,
  "metadata": {
    "colab": {
      "provenance": [],
      "collapsed_sections": [],
      "authorship_tag": "ABX9TyMruuo18OgXhgaeKCO3VXqW",
      "include_colab_link": true
    },
    "kernelspec": {
      "name": "python3",
      "display_name": "Python 3"
    },
    "language_info": {
      "name": "python"
    }
  },
  "cells": [
    {
      "cell_type": "markdown",
      "metadata": {
        "id": "view-in-github",
        "colab_type": "text"
      },
      "source": [
        "<a href=\"https://colab.research.google.com/github/Anisha271299/Training-Assignments/blob/main/inheritance.ipynb\" target=\"_parent\"><img src=\"https://colab.research.google.com/assets/colab-badge.svg\" alt=\"Open In Colab\"/></a>"
      ]
    },
    {
      "cell_type": "markdown",
      "source": [
        "# **INHERITANCE**"
      ],
      "metadata": {
        "id": "MPxFfH4ZvG98"
      }
    },
    {
      "cell_type": "code",
      "execution_count": 4,
      "metadata": {
        "id": "zq0fcQvEiyHs"
      },
      "outputs": [],
      "source": [
        "#parent_class\n",
        "class person:\n",
        "    def __init__(self,name,id_num):\n",
        "        self.name = name\n",
        "        self.id= id_num\n",
        "        \n",
        "    def display(self):\n",
        "        print(self.name)\n",
        "        print(self.id)"
      ]
    },
    {
      "cell_type": "code",
      "source": [
        "#child class one\n",
        "class Student( person ):            \n",
        "        def __init__(self, name, id_num, place): \n",
        "                self.place = place \n",
        "    \n",
        "                \n",
        "                person.__init__(self, name, id_num)  \n",
        "          \n",
        "        def show(self):\n",
        "            print(self.place)"
      ],
      "metadata": {
        "id": "_gnNswQErQpM"
      },
      "execution_count": 5,
      "outputs": []
    },
    {
      "cell_type": "code",
      "source": [
        "a = Student('Anisha', 1701711075005, 'Chennai')     \n",
        "    \n",
        "\n",
        "a.display()\n",
        "a.show() "
      ],
      "metadata": {
        "colab": {
          "base_uri": "https://localhost:8080/"
        },
        "id": "MSC4lF0orxzZ",
        "outputId": "bea5c15d-20a7-479f-85de-0a0bf2cee97d"
      },
      "execution_count": 6,
      "outputs": [
        {
          "output_type": "stream",
          "name": "stdout",
          "text": [
            "Anisha\n",
            "1701711075005\n",
            "Chennai\n"
          ]
        }
      ]
    },
    {
      "cell_type": "code",
      "source": [
        "#child class two\n",
        "class Report_card( person ):            \n",
        "        def __init__(self, name, id_num, Algebra, Statistics, Mechanics, Overall_grade): \n",
        "                self.Algebra = Algebra\n",
        "                self.Statistics = Statistics\n",
        "                self.Mechanics = Mechanics\n",
        "                self.Overall_grade = Overall_grade\n",
        "    \n",
        "                \n",
        "                person.__init__(self, name, id_num)  \n",
        "          \n",
        "        def show(self):\n",
        "            print(self.Algebra)\n",
        "            print(self.Statistics)\n",
        "            print(self.Mechanics)\n",
        "            print(self.Overall_grade)"
      ],
      "metadata": {
        "id": "-S9aOdY8sOjx"
      },
      "execution_count": 8,
      "outputs": []
    },
    {
      "cell_type": "code",
      "source": [
        "b = Report_card('Anisha', 1701711075005,88,81,96,'A+')     \n",
        "    \n",
        "\n",
        "b.display()\n",
        "b.show() "
      ],
      "metadata": {
        "colab": {
          "base_uri": "https://localhost:8080/"
        },
        "id": "ohrofXXPtIWA",
        "outputId": "ee314e48-d8e1-46d5-896f-b515f32a01a8"
      },
      "execution_count": 10,
      "outputs": [
        {
          "output_type": "stream",
          "name": "stdout",
          "text": [
            "Anisha\n",
            "1701711075005\n",
            "88\n",
            "81\n",
            "96\n",
            "A+\n"
          ]
        }
      ]
    },
    {
      "cell_type": "code",
      "source": [
        "#child class three\n",
        "\n",
        "class Placement(person):\n",
        "  def __init__(self,name, id_num, Company_name, Designation , Salary):\n",
        "    self.Company_name = Company_name\n",
        "    self.Designation = Designation\n",
        "    self.Salary = Salary\n",
        "    \n",
        "    person.__init__(self, name, id_num)  \n",
        "  \n",
        "  def show(self):\n",
        "    print(self.Company_name)\n",
        "    print(self.Designation)\n",
        "    print(self.Salary)"
      ],
      "metadata": {
        "id": "mGWgT1Iyt6Ur"
      },
      "execution_count": 11,
      "outputs": []
    },
    {
      "cell_type": "code",
      "source": [
        "c = Placement(\"Anisha\", 1701711075005, \"XYZ Analytics\",\"Programmer\",30000)\n",
        "\n",
        "c.display()\n",
        "c.show()"
      ],
      "metadata": {
        "colab": {
          "base_uri": "https://localhost:8080/"
        },
        "id": "ROuAAOWvsEf8",
        "outputId": "e7813de4-decd-4c74-a8de-b97de5ccae8e"
      },
      "execution_count": 12,
      "outputs": [
        {
          "output_type": "stream",
          "name": "stdout",
          "text": [
            "Anisha\n",
            "1701711075005\n",
            "XYZ Analytics\n",
            "Programmer\n",
            "30000\n"
          ]
        }
      ]
    }
  ]
}