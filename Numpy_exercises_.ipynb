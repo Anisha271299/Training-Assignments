{
  "cells": [
    {
      "cell_type": "markdown",
      "metadata": {
        "id": "view-in-github",
        "colab_type": "text"
      },
      "source": [
        "<a href=\"https://colab.research.google.com/github/Anisha271299/Training-Assignments/blob/main/Numpy_exercises_.ipynb\" target=\"_parent\"><img src=\"https://colab.research.google.com/assets/colab-badge.svg\" alt=\"Open In Colab\"/></a>"
      ]
    },
    {
      "cell_type": "markdown",
      "source": [
        "PYTHON EXERCISES USING NUMPY"
      ],
      "metadata": {
        "id": "FyCE6CSsX4Ba"
      }
    },
    {
      "cell_type": "markdown",
      "metadata": {
        "id": "6fW9u7U2f3tw"
      },
      "source": [
        "importing numpy"
      ]
    },
    {
      "cell_type": "code",
      "execution_count": 2,
      "metadata": {
        "id": "nWrV7p86f3t8"
      },
      "outputs": [],
      "source": [
        "import numpy as np"
      ]
    },
    {
      "cell_type": "markdown",
      "metadata": {
        "id": "OUtpmrmjf3t_"
      },
      "source": [
        "Defining a Python list containing the ages of 6 people."
      ]
    },
    {
      "cell_type": "code",
      "execution_count": null,
      "metadata": {
        "colab": {
          "base_uri": "https://localhost:8080/"
        },
        "id": "QyiKV7NEf3uA",
        "outputId": "282112ed-6ef2-4b84-d14d-ad36e9927433"
      },
      "outputs": [
        {
          "output_type": "stream",
          "name": "stdout",
          "text": [
            "[20, 5, 18, 32, 65, 43]\n"
          ]
        }
      ],
      "source": [
        "age_list = [20, 5, 18, 32, 65, 43]\n",
        "print(age_list)"
      ]
    },
    {
      "cell_type": "code",
      "execution_count": null,
      "metadata": {
        "colab": {
          "base_uri": "https://localhost:8080/"
        },
        "id": "ArD3kzlRf3uC",
        "outputId": "b67b0ccc-5807-4549-d606-38a4d86f49fe"
      },
      "outputs": [
        {
          "output_type": "stream",
          "name": "stdout",
          "text": [
            "<class 'numpy.ndarray'>\n",
            "[20  5 18 32 65 43]\n"
          ]
        }
      ],
      "source": [
        "ages = np.array(age_list)\n",
        "print(type(ages))\n",
        "print(ages)"
      ]
    },
    {
      "cell_type": "code",
      "execution_count": null,
      "metadata": {
        "colab": {
          "base_uri": "https://localhost:8080/"
        },
        "id": "nn3XpvQtf3uE",
        "outputId": "0996042d-fca5-44c6-ea9e-f6247229d095"
      },
      "outputs": [
        {
          "output_type": "stream",
          "name": "stdout",
          "text": [
            "[20  5 18 32 65 43]\n",
            "Size:\t 6\n",
            "Shape:\t (6,)\n"
          ]
        }
      ],
      "source": [
        "print(ages)\n",
        "print(\"Size:\\t\" , ages.size)\n",
        "print(\"Shape:\\t\", ages.shape)"
      ]
    },
    {
      "cell_type": "code",
      "execution_count": null,
      "metadata": {
        "scrolled": true,
        "colab": {
          "base_uri": "https://localhost:8080/"
        },
        "id": "HGPTfW5qf3uG",
        "outputId": "0dacdda4-4f31-477d-d915-4ffc35d2096b"
      },
      "outputs": [
        {
          "output_type": "stream",
          "name": "stdout",
          "text": [
            "[0. 0. 0. 0. 0.]\n"
          ]
        }
      ],
      "source": [
        "zeroarr = np.zeros(5)\n",
        "print(zeroarr)"
      ]
    },
    {
      "cell_type": "markdown",
      "metadata": {
        "id": "WXqxb_I3f3uI"
      },
      "source": [
        "### Multi-dim"
      ]
    },
    {
      "cell_type": "markdown",
      "metadata": {
        "id": "iIOqFgVBf3uJ"
      },
      "source": [
        "Defining a new list containing the weights of these 6 people."
      ]
    },
    {
      "cell_type": "code",
      "execution_count": null,
      "metadata": {
        "id": "7AGncgWpf3uK"
      },
      "outputs": [],
      "source": [
        "weight_list = [32, 28, 56, 60, 85, 65]"
      ]
    },
    {
      "cell_type": "markdown",
      "metadata": {
        "id": "TxoB9DXnf3uL"
      },
      "source": [
        "Now, we define an ndarray containing all fo this information, and again print the size and shape of the array."
      ]
    },
    {
      "cell_type": "code",
      "execution_count": null,
      "metadata": {
        "colab": {
          "base_uri": "https://localhost:8080/"
        },
        "id": "-E_edHa7f3uM",
        "outputId": "162daeaa-8797-4ab2-f180-6edb5b6c85b8"
      },
      "outputs": [
        {
          "output_type": "stream",
          "name": "stdout",
          "text": [
            "People:\t [[20  5 18 32 65 43]\n",
            " [32 28 56 60 85 65]]\n",
            "Size:\t 12\n",
            "Shape:\t (2, 6)\n"
          ]
        }
      ],
      "source": [
        "people = np.array([age_list, weight_list])\n",
        "\n",
        "print(\"People:\\t\" , people)\n",
        "print(\"Size:\\t\" , people.size)\n",
        "print(\"Shape:\\t\", people.shape)"
      ]
    },
    {
      "cell_type": "code",
      "execution_count": null,
      "metadata": {
        "colab": {
          "base_uri": "https://localhost:8080/"
        },
        "id": "90m9B-kpf3uN",
        "outputId": "902b91eb-63e5-4987-d161-12b9c9961a89"
      },
      "outputs": [
        {
          "output_type": "stream",
          "name": "stdout",
          "text": [
            "People:\t [[20  5 18 32]\n",
            " [65 43 32 28]\n",
            " [56 60 85 65]]\n",
            "Size:\t 12\n",
            "Shape:\t (3, 4)\n"
          ]
        }
      ],
      "source": [
        "# 2 X 6 = 1 X 12 = 4 X 3 = 3 X 4 = 12 X 1 \n",
        "\n",
        "people = people.reshape(3,4)\n",
        "print(\"People:\\t\" , people)\n",
        "print(\"Size:\\t\" , people.size)\n",
        "print(\"Shape:\\t\", people.shape)"
      ]
    },
    {
      "cell_type": "markdown",
      "metadata": {
        "id": "fc6fNBs2f3uR"
      },
      "source": [
        "### Exercise\n",
        "\n"
      ]
    },
    {
      "cell_type": "markdown",
      "source": [
        "Generate a 1D numpy array with the values [7, 9, 65, 33, 85, 99]"
      ],
      "metadata": {
        "id": "SrHlmrpGcUa-"
      }
    },
    {
      "cell_type": "code",
      "source": [
        "value_list = [7,9,65,33,85,99]\n",
        "print (value_list)"
      ],
      "metadata": {
        "id": "Srg9j3rDcQJ4",
        "outputId": "3a23310a-d4a3-4a35-cd8a-0ec3ca380b44",
        "colab": {
          "base_uri": "https://localhost:8080/"
        }
      },
      "execution_count": null,
      "outputs": [
        {
          "output_type": "stream",
          "name": "stdout",
          "text": [
            "[7, 9, 65, 33, 85, 99]\n"
          ]
        }
      ]
    },
    {
      "cell_type": "code",
      "source": [
        "val_arr = np.array(value_list)\n",
        "print(type(val_arr))\n",
        "print(val_arr)"
      ],
      "metadata": {
        "id": "Rvq209bfdF76",
        "outputId": "00dee534-b580-41a2-d1da-3aa6eb2b8055",
        "colab": {
          "base_uri": "https://localhost:8080/"
        }
      },
      "execution_count": null,
      "outputs": [
        {
          "output_type": "stream",
          "name": "stdout",
          "text": [
            "<class 'numpy.ndarray'>\n",
            "[ 7  9 65 33 85 99]\n"
          ]
        }
      ]
    },
    {
      "cell_type": "markdown",
      "source": [
        "\n",
        "* Generate a matrix (2D numpy array) of the values:\n",
        "\n",
        "\\begin{align}\n",
        "  \\mathbf{A} =\n",
        "  \\begin{pmatrix}\n",
        "    1 & 2 & 4 \\\\\n",
        "    2 & 3 & 0 \\\\\n",
        "    0 & 5 & 1\n",
        "  \\end{pmatrix}\n",
        "\\end{align}"
      ],
      "metadata": {
        "id": "vfUz7CvLd-jF"
      }
    },
    {
      "cell_type": "code",
      "source": [
        "import numpy as np\n",
        "\n",
        "A = np.array([[1, 2, 4], [2, 3, 0],[0,5,1]])\n",
        "print(A)"
      ],
      "metadata": {
        "id": "FBV--KIVeo_G",
        "outputId": "1b7d4049-8ed5-4384-fd54-414aeeec427f",
        "colab": {
          "base_uri": "https://localhost:8080/"
        }
      },
      "execution_count": null,
      "outputs": [
        {
          "output_type": "stream",
          "name": "stdout",
          "text": [
            "[[1 2 4]\n",
            " [2 3 0]\n",
            " [0 5 1]]\n"
          ]
        }
      ]
    },
    {
      "cell_type": "markdown",
      "source": [
        "Change the dimensions of this array to another permitted shape"
      ],
      "metadata": {
        "id": "YoXY7Fwkg8qe"
      }
    },
    {
      "cell_type": "code",
      "source": [
        "A = A.reshape(1,9)\n",
        "print(\"A:\\t\" ,A)\n",
        "print(\"Size:\\t\" , A.size)\n",
        "print(\"Shape:\\t\", A.shape)\n"
      ],
      "metadata": {
        "id": "CXH-FL_phCks",
        "outputId": "e4d9735a-9289-4f26-b0f1-b39ba155feae",
        "colab": {
          "base_uri": "https://localhost:8080/"
        }
      },
      "execution_count": null,
      "outputs": [
        {
          "output_type": "stream",
          "name": "stdout",
          "text": [
            "A:\t [[1 2 4 2 3 0 0 5 1]]\n",
            "Size:\t 9\n",
            "Shape:\t (1, 9)\n"
          ]
        }
      ]
    },
    {
      "cell_type": "markdown",
      "metadata": {
        "id": "H27O3qvEf3uS"
      },
      "source": [
        "## Array Generation"
      ]
    },
    {
      "cell_type": "markdown",
      "metadata": {
        "id": "iBmTn_yCf3uT"
      },
      "source": [
        "Instead of defining an array manually, we can ask numpy to do it for us.\n",
        "\n",
        "The `np.arange()` method creates a range of numbers with user defined steps between each."
      ]
    },
    {
      "cell_type": "code",
      "execution_count": null,
      "metadata": {
        "id": "G8jeRmOmf3uU",
        "outputId": "267db066-6680-4b59-a860-1c606f5eb308",
        "colab": {
          "base_uri": "https://localhost:8080/"
        }
      },
      "outputs": [
        {
          "output_type": "execute_result",
          "data": {
            "text/plain": [
              "array([ 0,  5, 10, 15, 20, 25, 30, 35, 40, 45, 50])"
            ]
          },
          "metadata": {},
          "execution_count": 18
        }
      ],
      "source": [
        "five_times_table = np.arange(0, 55, 5)\n",
        "five_times_table"
      ]
    },
    {
      "cell_type": "markdown",
      "metadata": {
        "id": "G8wbT3qKf3uV"
      },
      "source": [
        "The `np.linspace()` method will produce a range of evenly spaced values, starting, ending, and taking as many steps as you specify."
      ]
    },
    {
      "cell_type": "code",
      "execution_count": null,
      "metadata": {
        "id": "jkTCkOHYf3uV",
        "outputId": "94c7b7e5-7252-4669-f028-72e6e759c057",
        "colab": {
          "base_uri": "https://localhost:8080/"
        }
      },
      "outputs": [
        {
          "output_type": "stream",
          "name": "stdout",
          "text": [
            "[ 0.  5. 10. 15. 20. 25. 30. 35. 40. 45. 50.]\n"
          ]
        }
      ],
      "source": [
        "five_spaced = np.linspace(0,50,11)\n",
        "print(five_spaced)"
      ]
    },
    {
      "cell_type": "markdown",
      "metadata": {
        "id": "ORrsfDI5f3uW"
      },
      "source": [
        "The `.repeat()` method will repeat an object you pas a specified number of times."
      ]
    },
    {
      "cell_type": "code",
      "execution_count": null,
      "metadata": {
        "id": "lghyp6hgf3uW",
        "outputId": "3691bf61-2503-40f2-c5c0-8e8ebe86e89c",
        "colab": {
          "base_uri": "https://localhost:8080/"
        }
      },
      "outputs": [
        {
          "output_type": "stream",
          "name": "stdout",
          "text": [
            "[2 2 2 2 2 2 2 2 2 2]\n"
          ]
        }
      ],
      "source": [
        "twoArr = np.repeat(2, 10)\n",
        "print(twoArr)"
      ]
    },
    {
      "cell_type": "markdown",
      "metadata": {
        "id": "97emCPGNf3uX"
      },
      "source": [
        "The `np.eye()` functions will create an identity matrix/array for us."
      ]
    },
    {
      "cell_type": "code",
      "execution_count": null,
      "metadata": {
        "id": "p6C8QH5Bf3uX",
        "outputId": "309b1e87-c56e-4c5d-e51e-a6783cb53e2c",
        "colab": {
          "base_uri": "https://localhost:8080/"
        }
      },
      "outputs": [
        {
          "output_type": "stream",
          "name": "stdout",
          "text": [
            "[[1. 0. 0. 0. 0. 0.]\n",
            " [0. 1. 0. 0. 0. 0.]\n",
            " [0. 0. 1. 0. 0. 0.]\n",
            " [0. 0. 0. 1. 0. 0.]\n",
            " [0. 0. 0. 0. 1. 0.]\n",
            " [0. 0. 0. 0. 0. 1.]]\n"
          ]
        }
      ],
      "source": [
        "identity_matrix = np.eye(6)\n",
        "print(identity_matrix)"
      ]
    },
    {
      "cell_type": "markdown",
      "metadata": {
        "id": "-_KFyodHf3uY"
      },
      "source": [
        "# Operations"
      ]
    },
    {
      "cell_type": "markdown",
      "metadata": {
        "id": "8oSXTBcSf3uY"
      },
      "source": [
        "There are many, many operations which we can perform on arrays. Below, we demonstrate a few."
      ]
    },
    {
      "cell_type": "markdown",
      "metadata": {
        "id": "txj5KOPIf3uY"
      },
      "source": [
        "What is happening in each line?"
      ]
    },
    {
      "cell_type": "code",
      "execution_count": null,
      "metadata": {
        "id": "83l_BkSVf3uZ",
        "outputId": "ba3ead41-c2e2-4e91-ce6f-683f2ece9214",
        "colab": {
          "base_uri": "https://localhost:8080/"
        }
      },
      "outputs": [
        {
          "output_type": "execute_result",
          "data": {
            "text/plain": [
              "array([ 0,  5, 10, 15, 20, 25, 30, 35, 40, 45, 50])"
            ]
          },
          "metadata": {},
          "execution_count": 22
        }
      ],
      "source": [
        "five_times_table"
      ]
    },
    {
      "cell_type": "code",
      "execution_count": null,
      "metadata": {
        "scrolled": true,
        "id": "wSVr_aruf3uk",
        "outputId": "59ffe439-4813-4028-9b83-cf6f2e3fc580",
        "colab": {
          "base_uri": "https://localhost:8080/"
        }
      },
      "outputs": [
        {
          "output_type": "stream",
          "name": "stdout",
          "text": [
            "1: [  0  10  20  30  40  50  60  70  80  90 100]\n",
            "2: [10 15 20 25 30 35 40 45 50 55 60]\n",
            "3: [-1  4  9 14 19 24 29 34 39 44 49]\n",
            "4: [ 0.  1.  2.  3.  4.  5.  6.  7.  8.  9. 10.]\n",
            "5: [   0   25  100  225  400  625  900 1225 1600 2025 2500]\n",
            "6: [ True  True  True  True False False False False False False False]\n"
          ]
        }
      ],
      "source": [
        "print(\"1:\", 2 * five_times_table)\n",
        "print(\"2:\", 10 + five_times_table)\n",
        "print(\"3:\", five_times_table - 1)\n",
        "print(\"4:\", five_times_table/5)\n",
        "print(\"5:\", five_times_table **2)\n",
        "print(\"6:\", five_times_table < 20)"
      ]
    },
    {
      "cell_type": "markdown",
      "metadata": {
        "id": "bnyjVvfTf3uk"
      },
      "source": [
        "### Speed Test"
      ]
    },
    {
      "cell_type": "markdown",
      "metadata": {
        "id": "p1NDiwD0f3ul"
      },
      "source": [
        "If we compare the speed at which we can do these operations compared to core python, we will notice a substantial difference."
      ]
    },
    {
      "cell_type": "code",
      "execution_count": null,
      "metadata": {
        "scrolled": true,
        "id": "5vVNgPGsf3ul",
        "outputId": "c3bfe284-8eac-4337-a419-6e77c982fce3",
        "colab": {
          "base_uri": "https://localhost:8080/"
        }
      },
      "outputs": [
        {
          "output_type": "execute_result",
          "data": {
            "text/plain": [
              "[0,\n",
              " 5,\n",
              " 10,\n",
              " 15,\n",
              " 20,\n",
              " 25,\n",
              " 30,\n",
              " 35,\n",
              " 40,\n",
              " 45,\n",
              " 50,\n",
              " 55,\n",
              " 60,\n",
              " 65,\n",
              " 70,\n",
              " 75,\n",
              " 80,\n",
              " 85,\n",
              " 90,\n",
              " 95,\n",
              " 100,\n",
              " 105,\n",
              " 110,\n",
              " 115,\n",
              " 120,\n",
              " 125,\n",
              " 130,\n",
              " 135,\n",
              " 140,\n",
              " 145,\n",
              " 150,\n",
              " 155,\n",
              " 160,\n",
              " 165,\n",
              " 170,\n",
              " 175,\n",
              " 180,\n",
              " 185,\n",
              " 190,\n",
              " 195,\n",
              " 200,\n",
              " 205,\n",
              " 210,\n",
              " 215,\n",
              " 220,\n",
              " 225,\n",
              " 230,\n",
              " 235,\n",
              " 240,\n",
              " 245,\n",
              " 250,\n",
              " 255,\n",
              " 260,\n",
              " 265,\n",
              " 270,\n",
              " 275,\n",
              " 280,\n",
              " 285,\n",
              " 290,\n",
              " 295,\n",
              " 300,\n",
              " 305,\n",
              " 310,\n",
              " 315,\n",
              " 320,\n",
              " 325,\n",
              " 330,\n",
              " 335,\n",
              " 340,\n",
              " 345,\n",
              " 350,\n",
              " 355,\n",
              " 360,\n",
              " 365,\n",
              " 370,\n",
              " 375,\n",
              " 380,\n",
              " 385,\n",
              " 390,\n",
              " 395,\n",
              " 400,\n",
              " 405,\n",
              " 410,\n",
              " 415,\n",
              " 420,\n",
              " 425,\n",
              " 430,\n",
              " 435,\n",
              " 440,\n",
              " 445,\n",
              " 450,\n",
              " 455,\n",
              " 460,\n",
              " 465,\n",
              " 470,\n",
              " 475,\n",
              " 480,\n",
              " 485,\n",
              " 490,\n",
              " 495,\n",
              " 500,\n",
              " 505,\n",
              " 510,\n",
              " 515,\n",
              " 520,\n",
              " 525,\n",
              " 530,\n",
              " 535,\n",
              " 540,\n",
              " 545,\n",
              " 550,\n",
              " 555,\n",
              " 560,\n",
              " 565,\n",
              " 570,\n",
              " 575,\n",
              " 580,\n",
              " 585,\n",
              " 590,\n",
              " 595,\n",
              " 600,\n",
              " 605,\n",
              " 610,\n",
              " 615,\n",
              " 620,\n",
              " 625,\n",
              " 630,\n",
              " 635,\n",
              " 640,\n",
              " 645,\n",
              " 650,\n",
              " 655,\n",
              " 660,\n",
              " 665,\n",
              " 670,\n",
              " 675,\n",
              " 680,\n",
              " 685,\n",
              " 690,\n",
              " 695,\n",
              " 700,\n",
              " 705,\n",
              " 710,\n",
              " 715,\n",
              " 720,\n",
              " 725,\n",
              " 730,\n",
              " 735,\n",
              " 740,\n",
              " 745,\n",
              " 750,\n",
              " 755,\n",
              " 760,\n",
              " 765,\n",
              " 770,\n",
              " 775,\n",
              " 780,\n",
              " 785,\n",
              " 790,\n",
              " 795,\n",
              " 800,\n",
              " 805,\n",
              " 810,\n",
              " 815,\n",
              " 820,\n",
              " 825,\n",
              " 830,\n",
              " 835,\n",
              " 840,\n",
              " 845,\n",
              " 850,\n",
              " 855,\n",
              " 860,\n",
              " 865,\n",
              " 870,\n",
              " 875,\n",
              " 880,\n",
              " 885,\n",
              " 890,\n",
              " 895,\n",
              " 900,\n",
              " 905,\n",
              " 910,\n",
              " 915,\n",
              " 920,\n",
              " 925,\n",
              " 930,\n",
              " 935,\n",
              " 940,\n",
              " 945,\n",
              " 950,\n",
              " 955,\n",
              " 960,\n",
              " 965,\n",
              " 970,\n",
              " 975,\n",
              " 980,\n",
              " 985,\n",
              " 990,\n",
              " 995,\n",
              " 1000,\n",
              " 1005,\n",
              " 1010,\n",
              " 1015,\n",
              " 1020,\n",
              " 1025,\n",
              " 1030,\n",
              " 1035,\n",
              " 1040,\n",
              " 1045,\n",
              " 1050,\n",
              " 1055,\n",
              " 1060,\n",
              " 1065,\n",
              " 1070,\n",
              " 1075,\n",
              " 1080,\n",
              " 1085,\n",
              " 1090,\n",
              " 1095,\n",
              " 1100,\n",
              " 1105,\n",
              " 1110,\n",
              " 1115,\n",
              " 1120,\n",
              " 1125,\n",
              " 1130,\n",
              " 1135,\n",
              " 1140,\n",
              " 1145,\n",
              " 1150,\n",
              " 1155,\n",
              " 1160,\n",
              " 1165,\n",
              " 1170,\n",
              " 1175,\n",
              " 1180,\n",
              " 1185,\n",
              " 1190,\n",
              " 1195,\n",
              " 1200,\n",
              " 1205,\n",
              " 1210,\n",
              " 1215,\n",
              " 1220,\n",
              " 1225,\n",
              " 1230,\n",
              " 1235,\n",
              " 1240,\n",
              " 1245,\n",
              " 1250,\n",
              " 1255,\n",
              " 1260,\n",
              " 1265,\n",
              " 1270,\n",
              " 1275,\n",
              " 1280,\n",
              " 1285,\n",
              " 1290,\n",
              " 1295,\n",
              " 1300,\n",
              " 1305,\n",
              " 1310,\n",
              " 1315,\n",
              " 1320,\n",
              " 1325,\n",
              " 1330,\n",
              " 1335,\n",
              " 1340,\n",
              " 1345,\n",
              " 1350,\n",
              " 1355,\n",
              " 1360,\n",
              " 1365,\n",
              " 1370,\n",
              " 1375,\n",
              " 1380,\n",
              " 1385,\n",
              " 1390,\n",
              " 1395,\n",
              " 1400,\n",
              " 1405,\n",
              " 1410,\n",
              " 1415,\n",
              " 1420,\n",
              " 1425,\n",
              " 1430,\n",
              " 1435,\n",
              " 1440,\n",
              " 1445,\n",
              " 1450,\n",
              " 1455,\n",
              " 1460,\n",
              " 1465,\n",
              " 1470,\n",
              " 1475,\n",
              " 1480,\n",
              " 1485,\n",
              " 1490,\n",
              " 1495,\n",
              " 1500,\n",
              " 1505,\n",
              " 1510,\n",
              " 1515,\n",
              " 1520,\n",
              " 1525,\n",
              " 1530,\n",
              " 1535,\n",
              " 1540,\n",
              " 1545,\n",
              " 1550,\n",
              " 1555,\n",
              " 1560,\n",
              " 1565,\n",
              " 1570,\n",
              " 1575,\n",
              " 1580,\n",
              " 1585,\n",
              " 1590,\n",
              " 1595,\n",
              " 1600,\n",
              " 1605,\n",
              " 1610,\n",
              " 1615,\n",
              " 1620,\n",
              " 1625,\n",
              " 1630,\n",
              " 1635,\n",
              " 1640,\n",
              " 1645,\n",
              " 1650,\n",
              " 1655,\n",
              " 1660,\n",
              " 1665,\n",
              " 1670,\n",
              " 1675,\n",
              " 1680,\n",
              " 1685,\n",
              " 1690,\n",
              " 1695,\n",
              " 1700,\n",
              " 1705,\n",
              " 1710,\n",
              " 1715,\n",
              " 1720,\n",
              " 1725,\n",
              " 1730,\n",
              " 1735,\n",
              " 1740,\n",
              " 1745,\n",
              " 1750,\n",
              " 1755,\n",
              " 1760,\n",
              " 1765,\n",
              " 1770,\n",
              " 1775,\n",
              " 1780,\n",
              " 1785,\n",
              " 1790,\n",
              " 1795,\n",
              " 1800,\n",
              " 1805,\n",
              " 1810,\n",
              " 1815,\n",
              " 1820,\n",
              " 1825,\n",
              " 1830,\n",
              " 1835,\n",
              " 1840,\n",
              " 1845,\n",
              " 1850,\n",
              " 1855,\n",
              " 1860,\n",
              " 1865,\n",
              " 1870,\n",
              " 1875,\n",
              " 1880,\n",
              " 1885,\n",
              " 1890,\n",
              " 1895,\n",
              " 1900,\n",
              " 1905,\n",
              " 1910,\n",
              " 1915,\n",
              " 1920,\n",
              " 1925,\n",
              " 1930,\n",
              " 1935,\n",
              " 1940,\n",
              " 1945,\n",
              " 1950,\n",
              " 1955,\n",
              " 1960,\n",
              " 1965,\n",
              " 1970,\n",
              " 1975,\n",
              " 1980,\n",
              " 1985,\n",
              " 1990,\n",
              " 1995,\n",
              " 2000,\n",
              " 2005,\n",
              " 2010,\n",
              " 2015,\n",
              " 2020,\n",
              " 2025,\n",
              " 2030,\n",
              " 2035,\n",
              " 2040,\n",
              " 2045,\n",
              " 2050,\n",
              " 2055,\n",
              " 2060,\n",
              " 2065,\n",
              " 2070,\n",
              " 2075,\n",
              " 2080,\n",
              " 2085,\n",
              " 2090,\n",
              " 2095,\n",
              " 2100,\n",
              " 2105,\n",
              " 2110,\n",
              " 2115,\n",
              " 2120,\n",
              " 2125,\n",
              " 2130,\n",
              " 2135,\n",
              " 2140,\n",
              " 2145,\n",
              " 2150,\n",
              " 2155,\n",
              " 2160,\n",
              " 2165,\n",
              " 2170,\n",
              " 2175,\n",
              " 2180,\n",
              " 2185,\n",
              " 2190,\n",
              " 2195,\n",
              " 2200,\n",
              " 2205,\n",
              " 2210,\n",
              " 2215,\n",
              " 2220,\n",
              " 2225,\n",
              " 2230,\n",
              " 2235,\n",
              " 2240,\n",
              " 2245,\n",
              " 2250,\n",
              " 2255,\n",
              " 2260,\n",
              " 2265,\n",
              " 2270,\n",
              " 2275,\n",
              " 2280,\n",
              " 2285,\n",
              " 2290,\n",
              " 2295,\n",
              " 2300,\n",
              " 2305,\n",
              " 2310,\n",
              " 2315,\n",
              " 2320,\n",
              " 2325,\n",
              " 2330,\n",
              " 2335,\n",
              " 2340,\n",
              " 2345,\n",
              " 2350,\n",
              " 2355,\n",
              " 2360,\n",
              " 2365,\n",
              " 2370,\n",
              " 2375,\n",
              " 2380,\n",
              " 2385,\n",
              " 2390,\n",
              " 2395,\n",
              " 2400,\n",
              " 2405,\n",
              " 2410,\n",
              " 2415,\n",
              " 2420,\n",
              " 2425,\n",
              " 2430,\n",
              " 2435,\n",
              " 2440,\n",
              " 2445,\n",
              " 2450,\n",
              " 2455,\n",
              " 2460,\n",
              " 2465,\n",
              " 2470,\n",
              " 2475,\n",
              " 2480,\n",
              " 2485,\n",
              " 2490,\n",
              " 2495,\n",
              " 2500,\n",
              " 2505,\n",
              " 2510,\n",
              " 2515,\n",
              " 2520,\n",
              " 2525,\n",
              " 2530,\n",
              " 2535,\n",
              " 2540,\n",
              " 2545,\n",
              " 2550,\n",
              " 2555,\n",
              " 2560,\n",
              " 2565,\n",
              " 2570,\n",
              " 2575,\n",
              " 2580,\n",
              " 2585,\n",
              " 2590,\n",
              " 2595,\n",
              " 2600,\n",
              " 2605,\n",
              " 2610,\n",
              " 2615,\n",
              " 2620,\n",
              " 2625,\n",
              " 2630,\n",
              " 2635,\n",
              " 2640,\n",
              " 2645,\n",
              " 2650,\n",
              " 2655,\n",
              " 2660,\n",
              " 2665,\n",
              " 2670,\n",
              " 2675,\n",
              " 2680,\n",
              " 2685,\n",
              " 2690,\n",
              " 2695,\n",
              " 2700,\n",
              " 2705,\n",
              " 2710,\n",
              " 2715,\n",
              " 2720,\n",
              " 2725,\n",
              " 2730,\n",
              " 2735,\n",
              " 2740,\n",
              " 2745,\n",
              " 2750,\n",
              " 2755,\n",
              " 2760,\n",
              " 2765,\n",
              " 2770,\n",
              " 2775,\n",
              " 2780,\n",
              " 2785,\n",
              " 2790,\n",
              " 2795,\n",
              " 2800,\n",
              " 2805,\n",
              " 2810,\n",
              " 2815,\n",
              " 2820,\n",
              " 2825,\n",
              " 2830,\n",
              " 2835,\n",
              " 2840,\n",
              " 2845,\n",
              " 2850,\n",
              " 2855,\n",
              " 2860,\n",
              " 2865,\n",
              " 2870,\n",
              " 2875,\n",
              " 2880,\n",
              " 2885,\n",
              " 2890,\n",
              " 2895,\n",
              " 2900,\n",
              " 2905,\n",
              " 2910,\n",
              " 2915,\n",
              " 2920,\n",
              " 2925,\n",
              " 2930,\n",
              " 2935,\n",
              " 2940,\n",
              " 2945,\n",
              " 2950,\n",
              " 2955,\n",
              " 2960,\n",
              " 2965,\n",
              " 2970,\n",
              " 2975,\n",
              " 2980,\n",
              " 2985,\n",
              " 2990,\n",
              " 2995,\n",
              " 3000,\n",
              " 3005,\n",
              " 3010,\n",
              " 3015,\n",
              " 3020,\n",
              " 3025,\n",
              " 3030,\n",
              " 3035,\n",
              " 3040,\n",
              " 3045,\n",
              " 3050,\n",
              " 3055,\n",
              " 3060,\n",
              " 3065,\n",
              " 3070,\n",
              " 3075,\n",
              " 3080,\n",
              " 3085,\n",
              " 3090,\n",
              " 3095,\n",
              " 3100,\n",
              " 3105,\n",
              " 3110,\n",
              " 3115,\n",
              " 3120,\n",
              " 3125,\n",
              " 3130,\n",
              " 3135,\n",
              " 3140,\n",
              " 3145,\n",
              " 3150,\n",
              " 3155,\n",
              " 3160,\n",
              " 3165,\n",
              " 3170,\n",
              " 3175,\n",
              " 3180,\n",
              " 3185,\n",
              " 3190,\n",
              " 3195,\n",
              " 3200,\n",
              " 3205,\n",
              " 3210,\n",
              " 3215,\n",
              " 3220,\n",
              " 3225,\n",
              " 3230,\n",
              " 3235,\n",
              " 3240,\n",
              " 3245,\n",
              " 3250,\n",
              " 3255,\n",
              " 3260,\n",
              " 3265,\n",
              " 3270,\n",
              " 3275,\n",
              " 3280,\n",
              " 3285,\n",
              " 3290,\n",
              " 3295,\n",
              " 3300,\n",
              " 3305,\n",
              " 3310,\n",
              " 3315,\n",
              " 3320,\n",
              " 3325,\n",
              " 3330,\n",
              " 3335,\n",
              " 3340,\n",
              " 3345,\n",
              " 3350,\n",
              " 3355,\n",
              " 3360,\n",
              " 3365,\n",
              " 3370,\n",
              " 3375,\n",
              " 3380,\n",
              " 3385,\n",
              " 3390,\n",
              " 3395,\n",
              " 3400,\n",
              " 3405,\n",
              " 3410,\n",
              " 3415,\n",
              " 3420,\n",
              " 3425,\n",
              " 3430,\n",
              " 3435,\n",
              " 3440,\n",
              " 3445,\n",
              " 3450,\n",
              " 3455,\n",
              " 3460,\n",
              " 3465,\n",
              " 3470,\n",
              " 3475,\n",
              " 3480,\n",
              " 3485,\n",
              " 3490,\n",
              " 3495,\n",
              " 3500,\n",
              " 3505,\n",
              " 3510,\n",
              " 3515,\n",
              " 3520,\n",
              " 3525,\n",
              " 3530,\n",
              " 3535,\n",
              " 3540,\n",
              " 3545,\n",
              " 3550,\n",
              " 3555,\n",
              " 3560,\n",
              " 3565,\n",
              " 3570,\n",
              " 3575,\n",
              " 3580,\n",
              " 3585,\n",
              " 3590,\n",
              " 3595,\n",
              " 3600,\n",
              " 3605,\n",
              " 3610,\n",
              " 3615,\n",
              " 3620,\n",
              " 3625,\n",
              " 3630,\n",
              " 3635,\n",
              " 3640,\n",
              " 3645,\n",
              " 3650,\n",
              " 3655,\n",
              " 3660,\n",
              " 3665,\n",
              " 3670,\n",
              " 3675,\n",
              " 3680,\n",
              " 3685,\n",
              " 3690,\n",
              " 3695,\n",
              " 3700,\n",
              " 3705,\n",
              " 3710,\n",
              " 3715,\n",
              " 3720,\n",
              " 3725,\n",
              " 3730,\n",
              " 3735,\n",
              " 3740,\n",
              " 3745,\n",
              " 3750,\n",
              " 3755,\n",
              " 3760,\n",
              " 3765,\n",
              " 3770,\n",
              " 3775,\n",
              " 3780,\n",
              " 3785,\n",
              " 3790,\n",
              " 3795,\n",
              " 3800,\n",
              " 3805,\n",
              " 3810,\n",
              " 3815,\n",
              " 3820,\n",
              " 3825,\n",
              " 3830,\n",
              " 3835,\n",
              " 3840,\n",
              " 3845,\n",
              " 3850,\n",
              " 3855,\n",
              " 3860,\n",
              " 3865,\n",
              " 3870,\n",
              " 3875,\n",
              " 3880,\n",
              " 3885,\n",
              " 3890,\n",
              " 3895,\n",
              " 3900,\n",
              " 3905,\n",
              " 3910,\n",
              " 3915,\n",
              " 3920,\n",
              " 3925,\n",
              " 3930,\n",
              " 3935,\n",
              " 3940,\n",
              " 3945,\n",
              " 3950,\n",
              " 3955,\n",
              " 3960,\n",
              " 3965,\n",
              " 3970,\n",
              " 3975,\n",
              " 3980,\n",
              " 3985,\n",
              " 3990,\n",
              " 3995,\n",
              " 4000,\n",
              " 4005,\n",
              " 4010,\n",
              " 4015,\n",
              " 4020,\n",
              " 4025,\n",
              " 4030,\n",
              " 4035,\n",
              " 4040,\n",
              " 4045,\n",
              " 4050,\n",
              " 4055,\n",
              " 4060,\n",
              " 4065,\n",
              " 4070,\n",
              " 4075,\n",
              " 4080,\n",
              " 4085,\n",
              " 4090,\n",
              " 4095,\n",
              " 4100,\n",
              " 4105,\n",
              " 4110,\n",
              " 4115,\n",
              " 4120,\n",
              " 4125,\n",
              " 4130,\n",
              " 4135,\n",
              " 4140,\n",
              " 4145,\n",
              " 4150,\n",
              " 4155,\n",
              " 4160,\n",
              " 4165,\n",
              " 4170,\n",
              " 4175,\n",
              " 4180,\n",
              " 4185,\n",
              " 4190,\n",
              " 4195,\n",
              " 4200,\n",
              " 4205,\n",
              " 4210,\n",
              " 4215,\n",
              " 4220,\n",
              " 4225,\n",
              " 4230,\n",
              " 4235,\n",
              " 4240,\n",
              " 4245,\n",
              " 4250,\n",
              " 4255,\n",
              " 4260,\n",
              " 4265,\n",
              " 4270,\n",
              " 4275,\n",
              " 4280,\n",
              " 4285,\n",
              " 4290,\n",
              " 4295,\n",
              " 4300,\n",
              " 4305,\n",
              " 4310,\n",
              " 4315,\n",
              " 4320,\n",
              " 4325,\n",
              " 4330,\n",
              " 4335,\n",
              " 4340,\n",
              " 4345,\n",
              " 4350,\n",
              " 4355,\n",
              " 4360,\n",
              " 4365,\n",
              " 4370,\n",
              " 4375,\n",
              " 4380,\n",
              " 4385,\n",
              " 4390,\n",
              " 4395,\n",
              " 4400,\n",
              " 4405,\n",
              " 4410,\n",
              " 4415,\n",
              " 4420,\n",
              " 4425,\n",
              " 4430,\n",
              " 4435,\n",
              " 4440,\n",
              " 4445,\n",
              " 4450,\n",
              " 4455,\n",
              " 4460,\n",
              " 4465,\n",
              " 4470,\n",
              " 4475,\n",
              " 4480,\n",
              " 4485,\n",
              " 4490,\n",
              " 4495,\n",
              " 4500,\n",
              " 4505,\n",
              " 4510,\n",
              " 4515,\n",
              " 4520,\n",
              " 4525,\n",
              " 4530,\n",
              " 4535,\n",
              " 4540,\n",
              " 4545,\n",
              " 4550,\n",
              " 4555,\n",
              " 4560,\n",
              " 4565,\n",
              " 4570,\n",
              " 4575,\n",
              " 4580,\n",
              " 4585,\n",
              " 4590,\n",
              " 4595,\n",
              " 4600,\n",
              " 4605,\n",
              " 4610,\n",
              " 4615,\n",
              " 4620,\n",
              " 4625,\n",
              " 4630,\n",
              " 4635,\n",
              " 4640,\n",
              " 4645,\n",
              " 4650,\n",
              " 4655,\n",
              " 4660,\n",
              " 4665,\n",
              " 4670,\n",
              " 4675,\n",
              " 4680,\n",
              " 4685,\n",
              " 4690,\n",
              " 4695,\n",
              " 4700,\n",
              " 4705,\n",
              " 4710,\n",
              " 4715,\n",
              " 4720,\n",
              " 4725,\n",
              " 4730,\n",
              " 4735,\n",
              " 4740,\n",
              " 4745,\n",
              " 4750,\n",
              " 4755,\n",
              " 4760,\n",
              " 4765,\n",
              " 4770,\n",
              " 4775,\n",
              " 4780,\n",
              " 4785,\n",
              " 4790,\n",
              " 4795,\n",
              " 4800,\n",
              " 4805,\n",
              " 4810,\n",
              " 4815,\n",
              " 4820,\n",
              " 4825,\n",
              " 4830,\n",
              " 4835,\n",
              " 4840,\n",
              " 4845,\n",
              " 4850,\n",
              " 4855,\n",
              " 4860,\n",
              " 4865,\n",
              " 4870,\n",
              " 4875,\n",
              " 4880,\n",
              " 4885,\n",
              " 4890,\n",
              " 4895,\n",
              " 4900,\n",
              " 4905,\n",
              " 4910,\n",
              " 4915,\n",
              " 4920,\n",
              " 4925,\n",
              " 4930,\n",
              " 4935,\n",
              " 4940,\n",
              " 4945,\n",
              " 4950,\n",
              " 4955,\n",
              " 4960,\n",
              " 4965,\n",
              " 4970,\n",
              " 4975,\n",
              " 4980,\n",
              " 4985,\n",
              " 4990,\n",
              " 4995,\n",
              " ...]"
            ]
          },
          "metadata": {},
          "execution_count": 24
        }
      ],
      "source": [
        "fives_list = list(range(0,5001,5))\n",
        "fives_list"
      ]
    },
    {
      "cell_type": "code",
      "execution_count": null,
      "metadata": {
        "id": "13---Nbif3um",
        "outputId": "d61b216e-c77d-4204-bd92-7bb86f6ee91c",
        "colab": {
          "base_uri": "https://localhost:8080/"
        }
      },
      "outputs": [
        {
          "output_type": "execute_result",
          "data": {
            "text/plain": [
              "array([   0,    5,   10, ..., 4990, 4995, 5000])"
            ]
          },
          "metadata": {},
          "execution_count": 25
        }
      ],
      "source": [
        "five_times_table_lge = np.arange(0,5001,5)\n",
        "five_times_table_lge"
      ]
    },
    {
      "cell_type": "code",
      "execution_count": null,
      "metadata": {
        "id": "CHCXdIkCf3uo",
        "outputId": "5426604e-27c8-4296-e4c9-202301636da2",
        "colab": {
          "base_uri": "https://localhost:8080/"
        }
      },
      "outputs": [
        {
          "output_type": "stream",
          "name": "stdout",
          "text": [
            "1.27 µs ± 12 ns per loop (mean ± std. dev. of 7 runs, 1000000 loops each)\n"
          ]
        }
      ],
      "source": [
        "%timeit five_times_table_lge + 5"
      ]
    },
    {
      "cell_type": "code",
      "execution_count": null,
      "metadata": {
        "id": "64lRN5Pkf3uo",
        "outputId": "13dc69ae-0b90-4ff9-93a7-a86e1b1634a1",
        "colab": {
          "base_uri": "https://localhost:8080/"
        }
      },
      "outputs": [
        {
          "output_type": "stream",
          "name": "stdout",
          "text": [
            "65.3 µs ± 12.6 µs per loop (mean ± std. dev. of 7 runs, 10000 loops each)\n"
          ]
        }
      ],
      "source": [
        "%timeit [e + 5 for e in fives_list]"
      ]
    },
    {
      "cell_type": "markdown",
      "metadata": {
        "id": "AyUO-heQf3up"
      },
      "source": [
        "Boolean string operations can also be performed on ndarrays."
      ]
    },
    {
      "cell_type": "code",
      "execution_count": null,
      "metadata": {
        "id": "V4b9v5dnf3up",
        "outputId": "473a5151-4225-4235-f612-0fbbd7eba26e",
        "colab": {
          "base_uri": "https://localhost:8080/"
        }
      },
      "outputs": [
        {
          "output_type": "stream",
          "name": "stdout",
          "text": [
            "[False False False False False]\n",
            "False\n"
          ]
        },
        {
          "output_type": "execute_result",
          "data": {
            "text/plain": [
              "[True, True, True, True, False]"
            ]
          },
          "metadata": {},
          "execution_count": 28
        }
      ],
      "source": [
        "words = np.array([\"ten\", \"nine\", \"eight\", \"seven\", \"six\"])\n",
        "\n",
        "print(np.isin(words, 'e'))\n",
        "\n",
        "print(\"e\" in words)\n",
        "[\"e\" in word for word in words]"
      ]
    },
    {
      "cell_type": "markdown",
      "metadata": {
        "id": "KoR2-UOMf3uq"
      },
      "source": [
        "# Transpose"
      ]
    },
    {
      "cell_type": "code",
      "execution_count": null,
      "metadata": {
        "id": "aSSkwP3Vf3uq",
        "outputId": "fafa7a20-2f90-440d-e32d-39ca25158dc9",
        "colab": {
          "base_uri": "https://localhost:8080/"
        }
      },
      "outputs": [
        {
          "output_type": "stream",
          "name": "stdout",
          "text": [
            "[[20  5 18 32 65 43]\n",
            " [32 28 56 60 85 65]] \n",
            "\n",
            "[[20 32]\n",
            " [ 5 28]\n",
            " [18 56]\n",
            " [32 60]\n",
            " [65 85]\n",
            " [43 65]]\n"
          ]
        }
      ],
      "source": [
        "people.shape = (2, 6)\n",
        "print(people, \"\\n\")\n",
        "print(people.T)"
      ]
    },
    {
      "cell_type": "markdown",
      "metadata": {
        "id": "CqIkjQiIf3uq"
      },
      "source": [
        "# Data Types"
      ]
    },
    {
      "cell_type": "markdown",
      "metadata": {
        "id": "BPKvj0-Rf3ur"
      },
      "source": [
        "As previously mentioned, ndarrays can only have one data type. If we want to obtain or change this, we use the `.dtype` attribute."
      ]
    },
    {
      "cell_type": "code",
      "execution_count": null,
      "metadata": {
        "id": "AsE70TWOf3ur",
        "outputId": "66ac4c86-a812-477f-f728-0e05983b51d5",
        "colab": {
          "base_uri": "https://localhost:8080/"
        }
      },
      "outputs": [
        {
          "output_type": "execute_result",
          "data": {
            "text/plain": [
              "dtype('int64')"
            ]
          },
          "metadata": {},
          "execution_count": 35
        }
      ],
      "source": [
        "people.dtype"
      ]
    },
    {
      "cell_type": "markdown",
      "metadata": {
        "id": "MGca2Ugaf3ur"
      },
      "source": [
        "What is the data type of the below ndarray?"
      ]
    },
    {
      "cell_type": "code",
      "execution_count": null,
      "metadata": {
        "id": "kGAMal70f3ur",
        "outputId": "b1ef0c77-a56d-40e8-e413-593d090a9ece",
        "colab": {
          "base_uri": "https://localhost:8080/"
        }
      },
      "outputs": [
        {
          "output_type": "execute_result",
          "data": {
            "text/plain": [
              "array(['10', '5', '8', '32', '65', '43'], dtype='<U21')"
            ]
          },
          "metadata": {},
          "execution_count": 36
        }
      ],
      "source": [
        "ages_with_strings = np.array([10, 5, 8, '32', '65', '43'])\n",
        "ages_with_strings"
      ]
    },
    {
      "cell_type": "markdown",
      "metadata": {
        "id": "2Z58LyVif3us"
      },
      "source": [
        "What is the dtype of this array?"
      ]
    },
    {
      "cell_type": "code",
      "execution_count": null,
      "metadata": {
        "id": "ZrGfLR3ef3us",
        "outputId": "e63a3280-290f-4610-a50b-734042d4c0f5",
        "colab": {
          "base_uri": "https://localhost:8080/"
        }
      },
      "outputs": [
        {
          "output_type": "execute_result",
          "data": {
            "text/plain": [
              "array([10,  5,  8, 32, 65, 43], dtype=int32)"
            ]
          },
          "metadata": {},
          "execution_count": 37
        }
      ],
      "source": [
        "ages_with_strings = np.array([10, 5, 8, '32', '65', '43'], dtype='int32')\n",
        "ages_with_strings"
      ]
    },
    {
      "cell_type": "markdown",
      "metadata": {
        "id": "mgMHfnvUf3us"
      },
      "source": [
        "What do you think has happened here?"
      ]
    },
    {
      "cell_type": "code",
      "execution_count": null,
      "metadata": {
        "id": "Lv7PVSLAf3ut",
        "outputId": "c727efc2-f660-41f0-9cf6-f493d529e49f",
        "colab": {
          "base_uri": "https://localhost:8080/"
        }
      },
      "outputs": [
        {
          "output_type": "stream",
          "name": "stdout",
          "text": [
            "['10' '5' '8' '32' '65' '43']\n"
          ]
        }
      ],
      "source": [
        "ages_with_strings = np.array([10, 5, 8, '32', '65', '43'])\n",
        "print(ages_with_strings)"
      ]
    },
    {
      "cell_type": "code",
      "execution_count": null,
      "metadata": {
        "id": "CpvjCgP9f3ut",
        "outputId": "e591574d-5490-4138-a97b-195de2eb8e36",
        "colab": {
          "base_uri": "https://localhost:8080/"
        }
      },
      "outputs": [
        {
          "output_type": "stream",
          "name": "stdout",
          "text": [
            "[49 48  0  0  0  0  0  0  0  0  0  0  0  0  0  0  0  0  0  0  0 53  0  0\n",
            "  0  0  0  0  0  0  0  0  0  0  0  0  0  0  0  0  0  0 56  0  0  0  0  0\n",
            "  0  0  0  0  0  0  0  0  0  0  0  0  0  0  0 51 50  0  0  0  0  0  0  0\n",
            "  0  0  0  0  0  0  0  0  0  0  0  0 54 53  0  0  0  0  0  0  0  0  0  0\n",
            "  0  0  0  0  0  0  0  0  0 52 51  0  0  0  0  0  0  0  0  0  0  0  0  0\n",
            "  0  0  0  0  0  0]\n"
          ]
        }
      ],
      "source": [
        "ages_with_strings.dtype = 'int32'\n",
        "print(ages_with_strings)"
      ]
    },
    {
      "cell_type": "code",
      "execution_count": null,
      "metadata": {
        "id": "bSWmYnlAf3ut",
        "outputId": "d98048e8-6071-4d16-ca32-f7146216f9f7",
        "colab": {
          "base_uri": "https://localhost:8080/"
        }
      },
      "outputs": [
        {
          "output_type": "execute_result",
          "data": {
            "text/plain": [
              "126"
            ]
          },
          "metadata": {},
          "execution_count": 40
        }
      ],
      "source": [
        "ages_with_strings.size"
      ]
    },
    {
      "cell_type": "code",
      "execution_count": null,
      "metadata": {
        "id": "bwCcDgCrf3uu",
        "outputId": "f4e9c58d-8197-45c5-c05f-12b78eaade5a",
        "colab": {
          "base_uri": "https://localhost:8080/"
        }
      },
      "outputs": [
        {
          "output_type": "execute_result",
          "data": {
            "text/plain": [
              "6.0"
            ]
          },
          "metadata": {},
          "execution_count": 41
        }
      ],
      "source": [
        "ages_with_strings.size/21"
      ]
    },
    {
      "cell_type": "code",
      "execution_count": null,
      "metadata": {
        "id": "-iZX97C_f3uu",
        "outputId": "8ac50a3b-f1b4-470e-9d01-09c206648a7d",
        "colab": {
          "base_uri": "https://localhost:8080/"
        }
      },
      "outputs": [
        {
          "output_type": "execute_result",
          "data": {
            "text/plain": [
              "6"
            ]
          },
          "metadata": {},
          "execution_count": 43
        }
      ],
      "source": [
        "np.array([10, 5, 8, '32', '65', '43']).size"
      ]
    },
    {
      "cell_type": "markdown",
      "metadata": {
        "id": "Y3zu38gaf3uu"
      },
      "source": [
        "The correct way to have changed the data type of the ndarray would have been to use the `.astype()` method, demonstrated below."
      ]
    },
    {
      "cell_type": "code",
      "execution_count": null,
      "metadata": {
        "id": "6E4Y3ydff3uv",
        "outputId": "30353d37-88e6-4465-92c0-25a1443f762b",
        "colab": {
          "base_uri": "https://localhost:8080/"
        }
      },
      "outputs": [
        {
          "output_type": "stream",
          "name": "stdout",
          "text": [
            "['10' '5' '8' '32' '65' '43']\n",
            "[10  5  8 32 65 43]\n"
          ]
        }
      ],
      "source": [
        "ages_with_strings = np.array([10, 5, 8, '32', '65', '43'])\n",
        "print(ages_with_strings)\n",
        "print(ages_with_strings.astype('int32'))"
      ]
    },
    {
      "cell_type": "markdown",
      "metadata": {
        "id": "RTVKRrttf3uv"
      },
      "source": [
        "### Exercise\n",
        "\n",
        "* #### Create an array of string numbers, but use dtype to make it an array of floats.\n",
        "\n"
      ]
    },
    {
      "cell_type": "code",
      "source": [
        "string_num =np.array(('1','2','3','4','5'), dtype='float32')"
      ],
      "metadata": {
        "id": "ng2aN8mpyrBq"
      },
      "execution_count": null,
      "outputs": []
    },
    {
      "cell_type": "code",
      "source": [
        "string_num.dtype"
      ],
      "metadata": {
        "id": "Zjnwf_oIy2ZG",
        "outputId": "4e3a323c-5a10-43bb-ff1f-d4b5991a1249",
        "colab": {
          "base_uri": "https://localhost:8080/"
        }
      },
      "execution_count": null,
      "outputs": [
        {
          "output_type": "execute_result",
          "data": {
            "text/plain": [
              "dtype('float32')"
            ]
          },
          "metadata": {},
          "execution_count": 116
        }
      ]
    },
    {
      "cell_type": "code",
      "source": [
        "string_num"
      ],
      "metadata": {
        "id": "ZaEhMVnqsI26",
        "outputId": "d79565e8-8fe7-4247-b806-09f8312ce736",
        "colab": {
          "base_uri": "https://localhost:8080/"
        }
      },
      "execution_count": null,
      "outputs": [
        {
          "output_type": "execute_result",
          "data": {
            "text/plain": [
              "array([1., 2., 3., 4., 5.], dtype=float32)"
            ]
          },
          "metadata": {},
          "execution_count": 117
        }
      ]
    },
    {
      "cell_type": "markdown",
      "source": [
        "* #### Transpose the matrix, printing the new size and shape."
      ],
      "metadata": {
        "id": "khl49jA_sIH7"
      }
    },
    {
      "cell_type": "code",
      "source": [
        "matrix=np.array([[1,1,4],[2,3,1]])\n",
        "matrix"
      ],
      "metadata": {
        "id": "ADGqsFCkzbiM",
        "outputId": "1b119aa6-7756-4e09-ac6b-4ab01b7c3fa9",
        "colab": {
          "base_uri": "https://localhost:8080/"
        }
      },
      "execution_count": null,
      "outputs": [
        {
          "output_type": "execute_result",
          "data": {
            "text/plain": [
              "array([[1, 1, 4],\n",
              "       [2, 3, 1]])"
            ]
          },
          "metadata": {},
          "execution_count": 119
        }
      ]
    },
    {
      "cell_type": "code",
      "source": [
        "matrix.shape"
      ],
      "metadata": {
        "id": "fOaRDOajzl9T",
        "outputId": "5771a398-b775-4868-80d9-4fa4fb909a26",
        "colab": {
          "base_uri": "https://localhost:8080/"
        }
      },
      "execution_count": null,
      "outputs": [
        {
          "output_type": "execute_result",
          "data": {
            "text/plain": [
              "(2, 3)"
            ]
          },
          "metadata": {},
          "execution_count": 120
        }
      ]
    },
    {
      "cell_type": "code",
      "source": [
        "trans_matrix =matrix.T\n",
        "trans_matrix"
      ],
      "metadata": {
        "id": "t3vEoV0FzoWO",
        "outputId": "518f8bf3-1164-4ac9-f6f7-f2a522d30212",
        "colab": {
          "base_uri": "https://localhost:8080/"
        }
      },
      "execution_count": null,
      "outputs": [
        {
          "output_type": "execute_result",
          "data": {
            "text/plain": [
              "array([[1, 2],\n",
              "       [1, 3],\n",
              "       [4, 1]])"
            ]
          },
          "metadata": {},
          "execution_count": 121
        }
      ]
    },
    {
      "cell_type": "code",
      "source": [
        "trans_matrix.shape"
      ],
      "metadata": {
        "id": "JoTf2k_wzzvB",
        "outputId": "e9f663b1-7b5e-4b87-f1f2-fb129a026986",
        "colab": {
          "base_uri": "https://localhost:8080/"
        }
      },
      "execution_count": null,
      "outputs": [
        {
          "output_type": "execute_result",
          "data": {
            "text/plain": [
              "(3, 2)"
            ]
          },
          "metadata": {},
          "execution_count": 122
        }
      ]
    },
    {
      "cell_type": "markdown",
      "source": [
        "* #### Use the .astype() method to convert the array to boolean."
      ],
      "metadata": {
        "id": "jKWLBBgBx2R4"
      }
    },
    {
      "cell_type": "code",
      "source": [
        "print(string_num.astype(bool))"
      ],
      "metadata": {
        "id": "FnhKFbD1x1bK",
        "outputId": "f1388858-1794-461c-9df1-d7b1d10764c7",
        "colab": {
          "base_uri": "https://localhost:8080/"
        }
      },
      "execution_count": null,
      "outputs": [
        {
          "output_type": "stream",
          "name": "stdout",
          "text": [
            "[ True  True  True  True  True]\n"
          ]
        }
      ]
    },
    {
      "cell_type": "markdown",
      "metadata": {
        "id": "vLGkpBirf3uv"
      },
      "source": [
        "## Array Slicing Operations"
      ]
    },
    {
      "cell_type": "markdown",
      "metadata": {
        "id": "LjG3OJ9Wf3uw"
      },
      "source": [
        "As before, we can use square brackets and indices to access individual values, and the colon operator to slice the array."
      ]
    },
    {
      "cell_type": "code",
      "execution_count": null,
      "metadata": {
        "id": "WPuV4CB4f3uw",
        "outputId": "827e4af5-b192-49c9-ba1b-bc9c19eb33ac",
        "colab": {
          "base_uri": "https://localhost:8080/"
        }
      },
      "outputs": [
        {
          "output_type": "execute_result",
          "data": {
            "text/plain": [
              "array([ 0,  5, 10, 15, 20, 25, 30, 35, 40, 45, 50])"
            ]
          },
          "metadata": {},
          "execution_count": 45
        }
      ],
      "source": [
        "five_times_table"
      ]
    },
    {
      "cell_type": "code",
      "execution_count": null,
      "metadata": {
        "id": "T5fdjxi6f3ux",
        "outputId": "8a5ec297-54ff-4066-c743-462b65f2c5c8",
        "colab": {
          "base_uri": "https://localhost:8080/"
        }
      },
      "outputs": [
        {
          "output_type": "execute_result",
          "data": {
            "text/plain": [
              "0"
            ]
          },
          "metadata": {},
          "execution_count": 46
        }
      ],
      "source": [
        "five_times_table[0]"
      ]
    },
    {
      "cell_type": "code",
      "execution_count": null,
      "metadata": {
        "scrolled": true,
        "id": "k97stSEJf3ux",
        "outputId": "8b5fdc3a-8e4a-47ca-c14a-1475d747f139",
        "colab": {
          "base_uri": "https://localhost:8080/"
        }
      },
      "outputs": [
        {
          "output_type": "execute_result",
          "data": {
            "text/plain": [
              "50"
            ]
          },
          "metadata": {},
          "execution_count": 47
        }
      ],
      "source": [
        "five_times_table[-1]"
      ]
    },
    {
      "cell_type": "code",
      "execution_count": null,
      "metadata": {
        "id": "mYxvyxMif3ux",
        "outputId": "6d84e4ba-6e1d-446e-d75d-169511bc83b1",
        "colab": {
          "base_uri": "https://localhost:8080/"
        }
      },
      "outputs": [
        {
          "output_type": "execute_result",
          "data": {
            "text/plain": [
              "array([ 0,  5, 10, 15])"
            ]
          },
          "metadata": {},
          "execution_count": 48
        }
      ],
      "source": [
        "five_times_table[:4]"
      ]
    },
    {
      "cell_type": "code",
      "execution_count": null,
      "metadata": {
        "id": "W7cXp5L9f3uy",
        "outputId": "992548b5-5a4f-48c1-92ba-ea3fcea66774",
        "colab": {
          "base_uri": "https://localhost:8080/"
        }
      },
      "outputs": [
        {
          "output_type": "execute_result",
          "data": {
            "text/plain": [
              "array([20, 25, 30, 35, 40, 45, 50])"
            ]
          },
          "metadata": {},
          "execution_count": 49
        }
      ],
      "source": [
        "five_times_table[4:]"
      ]
    },
    {
      "cell_type": "markdown",
      "metadata": {
        "id": "-QHfQhXff3uy"
      },
      "source": [
        "We can also slice an n-dim ndarray., specifying the slice operation accross each axis."
      ]
    },
    {
      "cell_type": "code",
      "execution_count": null,
      "metadata": {
        "id": "SFk0RoW2f3uz",
        "outputId": "61986d2b-2cca-418a-d650-c38bdc26869a",
        "colab": {
          "base_uri": "https://localhost:8080/"
        }
      },
      "outputs": [
        {
          "output_type": "stream",
          "name": "stdout",
          "text": [
            "[[20  5 18 32 65 43]\n",
            " [32 28 56 60 85 65]]\n"
          ]
        },
        {
          "output_type": "execute_result",
          "data": {
            "text/plain": [
              "array([[20,  5, 18],\n",
              "       [32, 28, 56]])"
            ]
          },
          "metadata": {},
          "execution_count": 50
        }
      ],
      "source": [
        "print(people)\n",
        "people[:3, :3]"
      ]
    },
    {
      "cell_type": "markdown",
      "metadata": {
        "id": "BLsdDPqff3uz"
      },
      "source": [
        "### Exercise\n",
        "\n",
        "\n",
        "\n",
        "\n",
        "\n",
        "\n"
      ]
    },
    {
      "cell_type": "markdown",
      "source": [
        "* Create a numpy array with 50 zeros"
      ],
      "metadata": {
        "id": "KI1cBXicxZFA"
      }
    },
    {
      "cell_type": "code",
      "source": [
        "arr0= np.zeros(50)\n",
        "arr0"
      ],
      "metadata": {
        "id": "nYTfi57Zs0L7",
        "outputId": "c3f64454-76c9-4253-fe17-d6da7de6e411",
        "colab": {
          "base_uri": "https://localhost:8080/"
        }
      },
      "execution_count": null,
      "outputs": [
        {
          "output_type": "execute_result",
          "data": {
            "text/plain": [
              "array([0., 0., 0., 0., 0., 0., 0., 0., 0., 0., 0., 0., 0., 0., 0., 0., 0.,\n",
              "       0., 0., 0., 0., 0., 0., 0., 0., 0., 0., 0., 0., 0., 0., 0., 0., 0.,\n",
              "       0., 0., 0., 0., 0., 0., 0., 0., 0., 0., 0., 0., 0., 0., 0., 0.])"
            ]
          },
          "metadata": {},
          "execution_count": 79
        }
      ]
    },
    {
      "cell_type": "markdown",
      "source": [
        "* Create a np array of 2 repeated 20 times"
      ],
      "metadata": {
        "id": "Aso9Yzmyxcrf"
      }
    },
    {
      "cell_type": "code",
      "source": [
        "arr_rep2 =np.full(20,2)\n",
        "arr_rep2"
      ],
      "metadata": {
        "id": "5tbeaS0Zs1tQ",
        "outputId": "d052cbd6-1b15-494d-a32b-92c22b1a69f3",
        "colab": {
          "base_uri": "https://localhost:8080/"
        }
      },
      "execution_count": null,
      "outputs": [
        {
          "output_type": "execute_result",
          "data": {
            "text/plain": [
              "array([2, 2, 2, 2, 2, 2, 2, 2, 2, 2, 2, 2, 2, 2, 2, 2, 2, 2, 2, 2])"
            ]
          },
          "metadata": {},
          "execution_count": 81
        }
      ]
    },
    {
      "cell_type": "markdown",
      "source": [
        "* Create a numpy array from 0 to 2 $\\pi$ in steps of 0.1"
      ],
      "metadata": {
        "id": "4Io16aXrxgm8"
      }
    },
    {
      "cell_type": "code",
      "source": [
        "import math \n",
        "arr_pi=np.arange(0,2*(math.pi),0.1)"
      ],
      "metadata": {
        "id": "bipP-pz1tFmm"
      },
      "execution_count": null,
      "outputs": []
    },
    {
      "cell_type": "code",
      "source": [
        "arr_pi"
      ],
      "metadata": {
        "id": "ffQ934wdtiE6",
        "outputId": "3388925a-3780-4011-8303-4eb155d64fd4",
        "colab": {
          "base_uri": "https://localhost:8080/"
        }
      },
      "execution_count": null,
      "outputs": [
        {
          "output_type": "execute_result",
          "data": {
            "text/plain": [
              "array([0. , 0.1, 0.2, 0.3, 0.4, 0.5, 0.6, 0.7, 0.8, 0.9, 1. , 1.1, 1.2,\n",
              "       1.3, 1.4, 1.5, 1.6, 1.7, 1.8, 1.9, 2. , 2.1, 2.2, 2.3, 2.4, 2.5,\n",
              "       2.6, 2.7, 2.8, 2.9, 3. , 3.1, 3.2, 3.3, 3.4, 3.5, 3.6, 3.7, 3.8,\n",
              "       3.9, 4. , 4.1, 4.2, 4.3, 4.4, 4.5, 4.6, 4.7, 4.8, 4.9, 5. , 5.1,\n",
              "       5.2, 5.3, 5.4, 5.5, 5.6, 5.7, 5.8, 5.9, 6. , 6.1, 6.2])"
            ]
          },
          "metadata": {},
          "execution_count": 87
        }
      ]
    },
    {
      "cell_type": "markdown",
      "source": [
        "For one of the arrays generated:\n",
        "* Get the first five values"
      ],
      "metadata": {
        "id": "ajepOSz5xk1r"
      }
    },
    {
      "cell_type": "code",
      "source": [
        "arr_pi[:5]"
      ],
      "metadata": {
        "id": "xNYWtkH8uUbo",
        "outputId": "68b71df9-16b1-4665-feca-2dc6e3cef1ab",
        "colab": {
          "base_uri": "https://localhost:8080/"
        }
      },
      "execution_count": null,
      "outputs": [
        {
          "output_type": "execute_result",
          "data": {
            "text/plain": [
              "array([0. , 0.1, 0.2, 0.3, 0.4])"
            ]
          },
          "metadata": {},
          "execution_count": 88
        }
      ]
    },
    {
      "cell_type": "markdown",
      "source": [
        "* Get the last 3 values\n"
      ],
      "metadata": {
        "id": "B0XU8DUjxq7T"
      }
    },
    {
      "cell_type": "code",
      "source": [
        ""
      ],
      "metadata": {
        "id": "6WBwFJlextnf"
      },
      "execution_count": null,
      "outputs": []
    },
    {
      "cell_type": "code",
      "source": [
        "arr_pi[-3:]"
      ],
      "metadata": {
        "id": "RWF5Aq4ouYtx",
        "outputId": "f9907ea0-d4fc-4217-f72e-c0ee1dba83ef",
        "colab": {
          "base_uri": "https://localhost:8080/"
        }
      },
      "execution_count": null,
      "outputs": [
        {
          "output_type": "execute_result",
          "data": {
            "text/plain": [
              "array([6. , 6.1, 6.2])"
            ]
          },
          "metadata": {},
          "execution_count": 89
        }
      ]
    },
    {
      "cell_type": "markdown",
      "source": [
        "* Get the 4th value to the 7th value"
      ],
      "metadata": {
        "id": "DqEnDdn1xtB-"
      }
    },
    {
      "cell_type": "code",
      "source": [
        "arr_pi [4:8]"
      ],
      "metadata": {
        "id": "YDbl48D8ucrS",
        "outputId": "cc2974c6-a6be-4a4a-b71c-3a02ec1c4703",
        "colab": {
          "base_uri": "https://localhost:8080/"
        }
      },
      "execution_count": null,
      "outputs": [
        {
          "output_type": "execute_result",
          "data": {
            "text/plain": [
              "array([0.4, 0.5, 0.6, 0.7])"
            ]
          },
          "metadata": {},
          "execution_count": 90
        }
      ]
    },
    {
      "cell_type": "markdown",
      "source": [
        ""
      ],
      "metadata": {
        "id": "P9cLoxlhvW0R"
      }
    },
    {
      "cell_type": "markdown",
      "metadata": {
        "id": "EmHEeElBf3u0"
      },
      "source": [
        "We can reverse an array by using `.flip()` or by using the `::` operator."
      ]
    },
    {
      "cell_type": "code",
      "execution_count": null,
      "metadata": {
        "id": "JIgZ-Q70f3u1",
        "outputId": "8fc72080-e32c-4fa5-e0af-9e7405d4567b",
        "colab": {
          "base_uri": "https://localhost:8080/"
        }
      },
      "outputs": [
        {
          "output_type": "execute_result",
          "data": {
            "text/plain": [
              "array([50, 45, 40, 35, 30, 25, 20, 15, 10,  5,  0])"
            ]
          },
          "metadata": {},
          "execution_count": 51
        }
      ],
      "source": [
        "reverse_five_times_table = np.flip(five_times_table)\n",
        "reverse_five_times_table"
      ]
    },
    {
      "cell_type": "code",
      "execution_count": null,
      "metadata": {
        "id": "Tpbh3aBwf3u1",
        "outputId": "bed029e8-0419-49e4-9304-bf43fb6acb70",
        "colab": {
          "base_uri": "https://localhost:8080/"
        }
      },
      "outputs": [
        {
          "output_type": "stream",
          "name": "stdout",
          "text": [
            "[50 45 40 35 30 25 20 15 10  5  0]\n"
          ]
        },
        {
          "output_type": "execute_result",
          "data": {
            "text/plain": [
              "array([ 0,  5, 10, 15, 20, 25, 30, 35, 40, 45, 50])"
            ]
          },
          "metadata": {},
          "execution_count": 52
        }
      ],
      "source": [
        "reverse_five_times_table = five_times_table[-1::-1]\n",
        "print(reverse_five_times_table)\n",
        "five_times_table"
      ]
    },
    {
      "cell_type": "markdown",
      "metadata": {
        "id": "Uv-5I5nUf3u2"
      },
      "source": [
        "We can also use the `::` operator to select steps of the original array."
      ]
    },
    {
      "cell_type": "code",
      "execution_count": null,
      "metadata": {
        "id": "6_0dSK9Gf3u2",
        "outputId": "36adfd27-f058-445d-9086-7f0657dc58cd",
        "colab": {
          "base_uri": "https://localhost:8080/"
        }
      },
      "outputs": [
        {
          "output_type": "execute_result",
          "data": {
            "text/plain": [
              "array([ 0, 15, 30, 45])"
            ]
          },
          "metadata": {},
          "execution_count": 53
        }
      ],
      "source": [
        "five_times_table[0::3] #Every 3rd element starting from 0"
      ]
    },
    {
      "cell_type": "markdown",
      "metadata": {
        "id": "BDBsCMWqf3u2"
      },
      "source": [
        "### Exercise\n",
        "Take one of the arrays you defined and\n",
        "\n",
        "\n"
      ]
    },
    {
      "cell_type": "markdown",
      "source": [
        "* #### Reverse it"
      ],
      "metadata": {
        "id": "Pt9TPcsmxKPW"
      }
    },
    {
      "cell_type": "code",
      "source": [
        "rev_arr_pi =np.flip(arr_pi)\n",
        "rev_arr_pi"
      ],
      "metadata": {
        "id": "nT0pfheZuiEN",
        "outputId": "44342818-170d-4f2f-864b-3f74d766ad40",
        "colab": {
          "base_uri": "https://localhost:8080/"
        }
      },
      "execution_count": null,
      "outputs": [
        {
          "output_type": "execute_result",
          "data": {
            "text/plain": [
              "array([6.2, 6.1, 6. , 5.9, 5.8, 5.7, 5.6, 5.5, 5.4, 5.3, 5.2, 5.1, 5. ,\n",
              "       4.9, 4.8, 4.7, 4.6, 4.5, 4.4, 4.3, 4.2, 4.1, 4. , 3.9, 3.8, 3.7,\n",
              "       3.6, 3.5, 3.4, 3.3, 3.2, 3.1, 3. , 2.9, 2.8, 2.7, 2.6, 2.5, 2.4,\n",
              "       2.3, 2.2, 2.1, 2. , 1.9, 1.8, 1.7, 1.6, 1.5, 1.4, 1.3, 1.2, 1.1,\n",
              "       1. , 0.9, 0.8, 0.7, 0.6, 0.5, 0.4, 0.3, 0.2, 0.1, 0. ])"
            ]
          },
          "metadata": {},
          "execution_count": 92
        }
      ]
    },
    {
      "cell_type": "markdown",
      "source": [
        "* #### Only keep every 4th element."
      ],
      "metadata": {
        "id": "HcfhQHmVxPQW"
      }
    },
    {
      "cell_type": "code",
      "source": [
        "arr_four=rev_arr_pi[0::4] \n",
        "arr_four"
      ],
      "metadata": {
        "id": "N3Dtet9KutNR",
        "outputId": "ea424be2-88c4-4dd5-bb07-1cdde50bd691",
        "colab": {
          "base_uri": "https://localhost:8080/"
        }
      },
      "execution_count": null,
      "outputs": [
        {
          "output_type": "execute_result",
          "data": {
            "text/plain": [
              "array([6.2, 5.8, 5.4, 5. , 4.6, 4.2, 3.8, 3.4, 3. , 2.6, 2.2, 1.8, 1.4,\n",
              "       1. , 0.6, 0.2])"
            ]
          },
          "metadata": {},
          "execution_count": 94
        }
      ]
    },
    {
      "cell_type": "markdown",
      "source": [
        "* #### Get every 2nd element, starting from the last and moving backwards."
      ],
      "metadata": {
        "id": "Y8vPM_8OxTY5"
      }
    },
    {
      "cell_type": "code",
      "source": [
        "rev_arr_pi [-1::-2]"
      ],
      "metadata": {
        "id": "CxHq9GLYvi3v",
        "outputId": "85fe4c7a-8b19-47cb-e437-cb8aec290fd3",
        "colab": {
          "base_uri": "https://localhost:8080/"
        }
      },
      "execution_count": null,
      "outputs": [
        {
          "output_type": "execute_result",
          "data": {
            "text/plain": [
              "array([0. , 0.2, 0.4, 0.6, 0.8, 1. , 1.2, 1.4, 1.6, 1.8, 2. , 2.2, 2.4,\n",
              "       2.6, 2.8, 3. , 3.2, 3.4, 3.6, 3.8, 4. , 4.2, 4.4, 4.6, 4.8, 5. ,\n",
              "       5.2, 5.4, 5.6, 5.8, 6. , 6.2])"
            ]
          },
          "metadata": {},
          "execution_count": 95
        }
      ]
    },
    {
      "cell_type": "markdown",
      "metadata": {
        "id": "BxtmKeXff3u3"
      },
      "source": [
        "# Stats"
      ]
    },
    {
      "cell_type": "code",
      "execution_count": null,
      "metadata": {
        "id": "tfo0t9f9f3u3",
        "outputId": "d10702b0-47cb-4835-c4c4-f3160cfcafa8",
        "colab": {
          "base_uri": "https://localhost:8080/"
        }
      },
      "outputs": [
        {
          "output_type": "execute_result",
          "data": {
            "text/plain": [
              "array([1.65, 5.99])"
            ]
          },
          "metadata": {},
          "execution_count": 98
        }
      ],
      "source": [
        "np.array([1.65432, 5.98765]).round(2)"
      ]
    },
    {
      "cell_type": "code",
      "execution_count": null,
      "metadata": {
        "id": "9Sz__aMFf3u4"
      },
      "outputs": [],
      "source": [
        "nums = np.arange(0, 4, 0.2555)"
      ]
    },
    {
      "cell_type": "markdown",
      "metadata": {
        "id": "3kV0k9axf3u7"
      },
      "source": [
        "### Exercise\n",
        "\n",
        "* Compute min, max, sum, mean, median, variance, and standard deviation of the above array, all to to 2 decimal places."
      ]
    },
    {
      "cell_type": "code",
      "execution_count": null,
      "metadata": {
        "id": "oyYkdGucf3vF",
        "outputId": "883e11be-a36e-458a-b1de-59b25dd81e13",
        "colab": {
          "base_uri": "https://localhost:8080/"
        }
      },
      "outputs": [
        {
          "output_type": "stream",
          "name": "stdout",
          "text": [
            "min =  0.0\n",
            "max =  3.83\n",
            "sum =  30.66\n",
            "mean =  1.92\n",
            "median =  1.92\n",
            "var =  1.39\n",
            "std =  1.18\n"
          ]
        }
      ],
      "source": [
        "print(\"min = \", np.min(nums).round(2))\n",
        "print(\"max = \", np.max(nums).round(2))\n",
        "print(\"sum = \", np.sum(nums).round(2))\n",
        "print(\"mean = \", np.mean(nums).round(2))\n",
        "print(\"median = \", np.median(nums).round(2))\n",
        "print(\"var = \", np.var(nums).round(2))\n",
        "print(\"std = \", np.std(nums).round(2))"
      ]
    },
    {
      "cell_type": "markdown",
      "metadata": {
        "id": "dlvWo9jaf3vX"
      },
      "source": [
        "## Random"
      ]
    },
    {
      "cell_type": "markdown",
      "metadata": {
        "id": "6YZdTD9Af3vc"
      },
      "source": [
        "With `np.random`, we can generate a number of types of dataset, and create training data.\n",
        "\n",
        "The below code simulates a fair coin toss."
      ]
    },
    {
      "cell_type": "code",
      "execution_count": null,
      "metadata": {
        "id": "zp9e2bvJf3vt",
        "outputId": "be1cfd83-a2e3-4f3f-f241-cef1c3589eb7",
        "colab": {
          "base_uri": "https://localhost:8080/"
        }
      },
      "outputs": [
        {
          "output_type": "execute_result",
          "data": {
            "text/plain": [
              "array([0, 0, 1, 1, 1, 0, 1, 1, 1, 0])"
            ]
          },
          "metadata": {},
          "execution_count": 101
        }
      ],
      "source": [
        "flip = np.random.choice([0,1], 10)\n",
        "flip"
      ]
    },
    {
      "cell_type": "code",
      "execution_count": null,
      "metadata": {
        "id": "M30nhJSFf3vu",
        "outputId": "8aa9430d-0b9f-4069-e83b-8c680da631ce",
        "colab": {
          "base_uri": "https://localhost:8080/"
        }
      },
      "outputs": [
        {
          "output_type": "execute_result",
          "data": {
            "text/plain": [
              "array([[[1.70706345e-01, 3.25361453e-01, 3.57005439e-01, ...,\n",
              "         9.01691327e-01, 4.21257381e-01, 4.85966428e-01],\n",
              "        [2.46343241e-01, 7.11213075e-01, 3.34506368e-01, ...,\n",
              "         9.66475368e-01, 5.92490111e-01, 9.16308479e-01],\n",
              "        [2.33696611e-01, 6.86069606e-01, 4.01375797e-01, ...,\n",
              "         6.89824175e-01, 6.11735186e-01, 2.22511776e-01],\n",
              "        ...,\n",
              "        [7.59030179e-01, 1.86427009e-01, 1.31445956e-01, ...,\n",
              "         7.51971255e-02, 6.03259595e-01, 2.69976826e-01],\n",
              "        [7.26744099e-01, 3.03419023e-01, 4.33889771e-01, ...,\n",
              "         6.59367433e-02, 6.41521297e-01, 4.27499607e-01],\n",
              "        [9.38427689e-01, 7.72416807e-01, 6.74862526e-01, ...,\n",
              "         6.70328749e-02, 6.05007569e-01, 3.68693639e-05]],\n",
              "\n",
              "       [[9.10369918e-01, 6.65302873e-02, 8.20170356e-01, ...,\n",
              "         1.61620022e-01, 7.08755154e-01, 8.85175606e-01],\n",
              "        [6.79512594e-01, 5.96894751e-01, 5.76817592e-01, ...,\n",
              "         9.58222234e-01, 4.03750102e-01, 3.38240908e-01],\n",
              "        [4.45414085e-01, 2.27844867e-01, 4.15617735e-01, ...,\n",
              "         9.92798999e-01, 4.40465265e-01, 3.93377412e-01],\n",
              "        ...,\n",
              "        [3.17085931e-01, 6.86316755e-01, 9.25351535e-02, ...,\n",
              "         6.44292827e-01, 6.85708012e-01, 5.65370213e-02],\n",
              "        [7.57695872e-01, 1.98486602e-01, 4.54885578e-01, ...,\n",
              "         2.96720418e-01, 5.51035087e-01, 1.30108478e-01],\n",
              "        [2.58644451e-01, 1.23084296e-02, 4.42147548e-01, ...,\n",
              "         1.69737315e-01, 5.54873265e-01, 2.89920207e-01]],\n",
              "\n",
              "       [[3.63150717e-01, 4.60530111e-01, 6.51077328e-02, ...,\n",
              "         5.16662609e-01, 1.95797619e-01, 8.99309531e-01],\n",
              "        [2.44038822e-01, 5.04815034e-01, 3.83553593e-01, ...,\n",
              "         6.82781008e-01, 7.88754948e-01, 7.84985113e-02],\n",
              "        [5.99405484e-01, 2.53266989e-01, 5.05632535e-01, ...,\n",
              "         7.57011040e-01, 7.00870607e-01, 8.59096863e-01],\n",
              "        ...,\n",
              "        [8.63596896e-01, 6.38984248e-01, 8.91197719e-01, ...,\n",
              "         4.00976440e-01, 9.09109878e-01, 8.82216117e-01],\n",
              "        [2.48797977e-01, 1.94630184e-01, 8.41669042e-01, ...,\n",
              "         6.06785099e-01, 8.56333583e-01, 2.46905001e-01],\n",
              "        [8.84514021e-01, 5.30808238e-01, 6.87575284e-01, ...,\n",
              "         1.01635212e-01, 5.68320063e-01, 8.38600635e-01]],\n",
              "\n",
              "       ...,\n",
              "\n",
              "       [[9.39975637e-01, 3.38303235e-01, 5.44997169e-01, ...,\n",
              "         6.91450149e-01, 8.57893998e-01, 9.94273966e-01],\n",
              "        [6.32589766e-01, 3.81994478e-01, 7.92978108e-01, ...,\n",
              "         2.07141996e-01, 4.86546614e-01, 5.70137044e-01],\n",
              "        [4.16181743e-01, 8.81873253e-01, 1.59351816e-01, ...,\n",
              "         5.26528189e-01, 1.17486081e-02, 4.54487535e-01],\n",
              "        ...,\n",
              "        [4.40526313e-01, 3.01054413e-01, 9.17914034e-02, ...,\n",
              "         6.52526050e-01, 7.93031826e-01, 8.04623146e-01],\n",
              "        [9.29424494e-01, 5.18301866e-01, 1.22936708e-01, ...,\n",
              "         8.61064290e-01, 8.53424613e-01, 5.70673973e-01],\n",
              "        [4.94350805e-01, 9.24359896e-01, 2.09821169e-01, ...,\n",
              "         7.50945708e-01, 9.95768591e-01, 3.08236034e-01]],\n",
              "\n",
              "       [[4.07291454e-01, 2.59751038e-01, 2.44028863e-01, ...,\n",
              "         6.85694633e-01, 7.24273482e-01, 1.24189170e-01],\n",
              "        [5.79815338e-01, 4.87539128e-01, 1.91294861e-01, ...,\n",
              "         4.47290115e-02, 6.06863429e-01, 4.85170704e-02],\n",
              "        [8.76298550e-01, 8.20693744e-01, 5.42257195e-02, ...,\n",
              "         3.24786047e-01, 5.73078602e-01, 6.46484961e-01],\n",
              "        ...,\n",
              "        [4.75870366e-02, 1.11331178e-01, 8.39387121e-01, ...,\n",
              "         6.77148511e-01, 1.41059754e-02, 7.06684438e-01],\n",
              "        [8.91857247e-01, 2.49866907e-03, 9.87929775e-01, ...,\n",
              "         5.86150512e-01, 7.54176573e-01, 3.03493163e-01],\n",
              "        [3.62346601e-01, 6.03733914e-01, 2.97901063e-01, ...,\n",
              "         4.75003075e-01, 4.89284947e-01, 8.19293524e-01]],\n",
              "\n",
              "       [[3.43014301e-01, 7.15429452e-01, 9.90116673e-01, ...,\n",
              "         4.98006935e-01, 9.60318557e-01, 7.18977904e-01],\n",
              "        [3.01421528e-01, 6.16147667e-01, 2.20175003e-01, ...,\n",
              "         3.76375788e-01, 3.81010550e-01, 1.72313665e-01],\n",
              "        [2.09776513e-01, 9.06070388e-01, 3.84856615e-01, ...,\n",
              "         1.95118899e-01, 7.16803970e-01, 6.56751726e-01],\n",
              "        ...,\n",
              "        [7.38572034e-01, 3.71134998e-01, 9.67784015e-01, ...,\n",
              "         1.50240487e-01, 9.07956603e-01, 7.02753718e-01],\n",
              "        [6.64547084e-01, 5.83200464e-01, 8.56566218e-01, ...,\n",
              "         9.86814659e-01, 9.99516203e-01, 3.78362363e-01],\n",
              "        [7.27924126e-01, 8.16740383e-01, 5.90957364e-01, ...,\n",
              "         2.90191158e-01, 8.96648242e-01, 3.93514929e-01]]])"
            ]
          },
          "metadata": {},
          "execution_count": 102
        }
      ],
      "source": [
        "np.random.rand(10,20,9)"
      ]
    },
    {
      "cell_type": "markdown",
      "metadata": {
        "id": "R3aOgO_of3vu"
      },
      "source": [
        "We can produce 1000 datapoints of a normally distributed data set by using `np.random.normal()`"
      ]
    },
    {
      "cell_type": "code",
      "execution_count": 3,
      "metadata": {
        "id": "QvcXsQgvf3vv"
      },
      "outputs": [],
      "source": [
        "mu, sigma = 0, 0.1 # mean and standard deviation\n",
        "s = np.random.normal(mu, sigma, 1000)"
      ]
    },
    {
      "cell_type": "markdown",
      "metadata": {
        "id": "BQQ5QKBpf3vv"
      },
      "source": [
        "### Exercise\n",
        "\n",
        "\n"
      ]
    },
    {
      "cell_type": "markdown",
      "source": [
        "* Simulate a six-sided dice using numpy.random.choice(), generate a list of values you would obtain from 10 throws."
      ],
      "metadata": {
        "id": "hOHBfvI7w_vz"
      }
    },
    {
      "cell_type": "code",
      "execution_count": null,
      "metadata": {
        "id": "OSbPqKtLf3vv",
        "outputId": "70258a5a-a061-4319-ad93-5e7127f185ac",
        "colab": {
          "base_uri": "https://localhost:8080/"
        }
      },
      "outputs": [
        {
          "output_type": "execute_result",
          "data": {
            "text/plain": [
              "array([2, 2, 6, 1, 5, 2, 4, 6, 6, 1])"
            ]
          },
          "metadata": {},
          "execution_count": 106
        }
      ],
      "source": [
        "dice = np.random.choice([0,1,2,3,4,5,6], 10)\n",
        "dice"
      ]
    },
    {
      "cell_type": "markdown",
      "source": [
        "* Simulate a two-sided coin toss that is NOT fair: it is twice as likely to have head than tails."
      ],
      "metadata": {
        "id": "bK5XKUTLxCtK"
      }
    },
    {
      "cell_type": "code",
      "source": [
        "Notfair = np.random.choice([0,1,1], 10)\n",
        "Notfair"
      ],
      "metadata": {
        "id": "rJDx62TVw1MT",
        "outputId": "54692dec-952f-4770-9ff8-7d99ad7076ad",
        "colab": {
          "base_uri": "https://localhost:8080/"
        }
      },
      "execution_count": null,
      "outputs": [
        {
          "output_type": "execute_result",
          "data": {
            "text/plain": [
              "array([1, 1, 1, 1, 1, 1, 1, 1, 1, 1])"
            ]
          },
          "metadata": {},
          "execution_count": 107
        }
      ]
    }
  ],
  "metadata": {
    "kernelspec": {
      "display_name": "Python 3",
      "language": "python",
      "name": "python3"
    },
    "language_info": {
      "codemirror_mode": {
        "name": "ipython",
        "version": 3
      },
      "file_extension": ".py",
      "mimetype": "text/x-python",
      "name": "python",
      "nbconvert_exporter": "python",
      "pygments_lexer": "ipython3",
      "version": "3.7.4"
    },
    "colab": {
      "name": "Numpy_exercises .ipynb",
      "provenance": [],
      "include_colab_link": true
    }
  },
  "nbformat": 4,
  "nbformat_minor": 0
}