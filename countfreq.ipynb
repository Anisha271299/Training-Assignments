{
  "nbformat": 4,
  "nbformat_minor": 0,
  "metadata": {
    "colab": {
      "name": "countfreq.ipynb",
      "provenance": [],
      "authorship_tag": "ABX9TyO+nsKtErqN2Y3W1HTIm/5D",
      "include_colab_link": true
    },
    "kernelspec": {
      "name": "python3",
      "display_name": "Python 3"
    },
    "language_info": {
      "name": "python"
    }
  },
  "cells": [
    {
      "cell_type": "markdown",
      "metadata": {
        "id": "view-in-github",
        "colab_type": "text"
      },
      "source": [
        "<a href=\"https://colab.research.google.com/github/Anisha271299/Training-Assignments/blob/main/countfreq.ipynb\" target=\"_parent\"><img src=\"https://colab.research.google.com/assets/colab-badge.svg\" alt=\"Open In Colab\"/></a>"
      ]
    },
    {
      "cell_type": "markdown",
      "source": [
        "Input a list of words and convert it into a count dictionary. "
      ],
      "metadata": {
        "id": "SlVSGNeU4FF3"
      }
    },
    {
      "cell_type": "code",
      "execution_count": 10,
      "metadata": {
        "colab": {
          "base_uri": "https://localhost:8080/"
        },
        "id": "Sgh0CKyS4A-l",
        "outputId": "f868ca4c-5e11-40f1-ad53-3ffc4bc9d133"
      },
      "outputs": [
        {
          "output_type": "stream",
          "name": "stdout",
          "text": [
            "enter a string I saw a black coloured crow sitting in a black chair yesterday\n",
            "Dictionary Items  :   {'I': 1, 'saw': 1, 'a': 2, 'black': 2, 'coloured': 1, 'crow': 1, 'sitting': 1, 'in': 1, 'chair': 1, 'yesterday': 1}\n"
          ]
        }
      ],
      "source": [
        "string = input(\"enter a string \")\n",
        "words = []\n",
        "\n",
        "words = string.split() \n",
        "myDict = {}\n",
        "for key in words:\n",
        "    myDict[key] = words.count(key)\n",
        "\n",
        "print(\"Dictionary Items  :  \",  myDict)"
      ]
    }
  ]
}