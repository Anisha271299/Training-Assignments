{
  "nbformat": 4,
  "nbformat_minor": 0,
  "metadata": {
    "colab": {
      "provenance": [],
      "collapsed_sections": []
    },
    "kernelspec": {
      "name": "python3",
      "display_name": "Python 3"
    },
    "language_info": {
      "name": "python"
    }
  },
  "cells": [
    {
      "cell_type": "markdown",
      "source": [
        "# **DEEP LEARNING**"
      ],
      "metadata": {
        "id": "mMVSewoJ9i3l"
      }
    },
    {
      "cell_type": "markdown",
      "source": [
        "The problem is to convert from Celsius to Fahrenheit, where the approximate formula is:\n",
        "\n",
        "Here, will give TensorFlow some sample Celsius values and their corresponding Fahrenheit values. Then, we will train a model that figures out the above formula through the training process."
      ],
      "metadata": {
        "id": "Wp0onEx69mCC"
      }
    },
    {
      "cell_type": "markdown",
      "source": [
        "# **Importing the libraries.**"
      ],
      "metadata": {
        "id": "MrCk6UKF1Szl"
      }
    },
    {
      "cell_type": "code",
      "execution_count": 91,
      "metadata": {
        "id": "Z48wK87psCkv"
      },
      "outputs": [],
      "source": [
        "#for building the model\n",
        "import tensorflow as tf"
      ]
    },
    {
      "cell_type": "code",
      "source": [
        "#for creating array in python and doing computation\n",
        "import numpy as np\n",
        "\n",
        "# import logging\n",
        "# logger = tf.get_logger()\n",
        "# logger.setLevel(logging.ERROR)"
      ],
      "metadata": {
        "id": "SWRc5YLAsDwb"
      },
      "execution_count": 92,
      "outputs": []
    },
    {
      "cell_type": "markdown",
      "source": [
        "# **Set up training data**"
      ],
      "metadata": {
        "id": "ybhgG1IO1wfR"
      }
    },
    {
      "cell_type": "markdown",
      "source": [
        "For simplification, we will be using numpy to create a simple training data, later, we will be importing data directly from tensorflow. we create two arrays celsius_q and fahrenheit_a that we can use to train our model."
      ],
      "metadata": {
        "id": "ucAaWFPQ10Yy"
      }
    },
    {
      "cell_type": "code",
      "source": [
        "celsius_q    = np.array([-40, -10,  0,  8, 15, 22, 38, 45,55],  dtype=float)\n",
        "fahrenheit_a = np.array([-40,  14, 32, 46, 59, 72, 100, 113,131],  dtype=float)\n",
        "\n",
        "for i,c in enumerate(celsius_q):\n",
        "  print(\"{} degrees Celsius = {} degrees Fahrenheit\".format(c, fahrenheit_a[i]))"
      ],
      "metadata": {
        "colab": {
          "base_uri": "https://localhost:8080/"
        },
        "id": "b-3v7cf-sLeJ",
        "outputId": "7895ab4e-ec25-434e-8233-4ece5a7ba210"
      },
      "execution_count": 93,
      "outputs": [
        {
          "output_type": "stream",
          "name": "stdout",
          "text": [
            "-40.0 degrees Celsius = -40.0 degrees Fahrenheit\n",
            "-10.0 degrees Celsius = 14.0 degrees Fahrenheit\n",
            "0.0 degrees Celsius = 32.0 degrees Fahrenheit\n",
            "8.0 degrees Celsius = 46.0 degrees Fahrenheit\n",
            "15.0 degrees Celsius = 59.0 degrees Fahrenheit\n",
            "22.0 degrees Celsius = 72.0 degrees Fahrenheit\n",
            "38.0 degrees Celsius = 100.0 degrees Fahrenheit\n",
            "45.0 degrees Celsius = 113.0 degrees Fahrenheit\n",
            "55.0 degrees Celsius = 131.0 degrees Fahrenheit\n"
          ]
        }
      ]
    },
    {
      "cell_type": "markdown",
      "source": [
        "**Some Machine Learning terminology**\n",
        "\n",
        "**Feature** — The input(s) to our model. In this case, a single value — the degrees in Celsius.\n",
        "\n",
        "**Labels** — The output our model predicts. In this case, a single value — the degrees in Fahrenheit.\n",
        "\n",
        "**Example** — A pair of inputs/outputs used during training. In our case a pair of values from celsius_q and fahrenheit_a at a specific index, such as (22,72)."
      ],
      "metadata": {
        "id": "Cu05CGQh1_fN"
      }
    },
    {
      "cell_type": "markdown",
      "source": [
        "# **Creating The Model**"
      ],
      "metadata": {
        "id": "qqh54E-r2Gv4"
      }
    },
    {
      "cell_type": "markdown",
      "source": [
        "We will be using the simplest possible model called Dense Network, since the problem is very straightforward. This network requires only single layer, with single neuron.\n",
        "\n",
        "We’ll call the layer l0 and create it by instantiating tf.keras.layers.Dense with the following configuration:\n",
        "\n",
        "\n",
        "**input_shape=[1]** — This specifies that the input to this layer is a single value. That is, the shape is a one-dimensional array with one member. Since this is the first (and only) layer, that input shape is the input shape of the entire model. The single value is a floating point number, representing degrees Celsius.\n",
        "\n",
        "**units=1** — This specifies the number of neurons in the layer. The number of neurons defines how many internal variables the layer has to try to learn how to solve the problem (more later). Since this is the final layer, it is also the size of the model's output — a single float value representing degrees Fahrenheit. (In a multi-layered network, the size and shape of the layer would need to match the input_shape of the next layer.) Once layers are defined, they need to be assembled into a model. The Sequential model definition takes a list of layers as an argument, specifying the calculation order from the input to the output."
      ],
      "metadata": {
        "id": "zJK6V_Yo2Ox_"
      }
    },
    {
      "cell_type": "code",
      "source": [
        "#creating a model\n",
        "l0 = tf.keras.layers.Dense(units=1, input_shape=[1])"
      ],
      "metadata": {
        "id": "OhOr_fO-sQI0"
      },
      "execution_count": 94,
      "outputs": []
    },
    {
      "cell_type": "markdown",
      "source": [
        "# **Assembling layers into the model:**"
      ],
      "metadata": {
        "id": "UangxNxi-s_x"
      }
    },
    {
      "cell_type": "markdown",
      "source": [
        "Once layers are defined, they need to be assembled into a model. The Sequential model definition takes a list of layers as an argument, specifying the calculation order from the input to the output.\n",
        "\n",
        "This model has just a single layer, l0"
      ],
      "metadata": {
        "id": "hXbbv6Jh-nEq"
      }
    },
    {
      "cell_type": "code",
      "source": [
        "#assembling layers into the model\n",
        "model = tf.keras.Sequential([l0])"
      ],
      "metadata": {
        "id": "pfrr6NQtsUGC"
      },
      "execution_count": 95,
      "outputs": []
    },
    {
      "cell_type": "markdown",
      "source": [
        "# **Compiling and Training the model**"
      ],
      "metadata": {
        "id": "7EoMl9Cg2gEb"
      }
    },
    {
      "cell_type": "markdown",
      "source": [
        "Before training, the model has to be compiled. When compiled for training, the model is given:\n",
        "\n",
        "**Loss function** — A way of measuring how far off predictions are from the desired outcome. \n",
        "\n",
        "**Optimizer function** — A way of adjusting internal values in order to reduce the loss."
      ],
      "metadata": {
        "id": "goHyMc2x2moa"
      }
    },
    {
      "cell_type": "markdown",
      "source": [
        "The optimizer and the loss function can be change pending on the need. This will be explain very well in the next article. One part of the Optimizer you may need to think about when building your own models is the learning rate . This is the step size taken when adjusting values in the model. If the value is too small, it will take too many iterations to train the model. Too large, and accuracy goes down. Finding a good value often involves some trial and error, but the range is usually within 0.001 (default), and 0.1. The epochs argument specifies how many times this cycle should be run, and the verbose argument controls how much output the method produces. We call the fit method to train a model in machine learning\n"
      ],
      "metadata": {
        "id": "H8QpzcEO2ofB"
      }
    },
    {
      "cell_type": "code",
      "source": [
        "model.compile(loss='mean_squared_error',\n",
        "              optimizer=tf.keras.optimizers.Adam(0.1))"
      ],
      "metadata": {
        "id": "P4Gef_YssXcB"
      },
      "execution_count": 96,
      "outputs": []
    },
    {
      "cell_type": "code",
      "source": [
        "history = model.fit(celsius_q, fahrenheit_a, epochs=800, verbose=False)\n",
        "print(\"Finished training the model\")"
      ],
      "metadata": {
        "colab": {
          "base_uri": "https://localhost:8080/"
        },
        "id": "F-fOIXQEsbcP",
        "outputId": "c4f88c11-6e3b-4756-f48b-5da2b081f9fb"
      },
      "execution_count": 97,
      "outputs": [
        {
          "output_type": "stream",
          "name": "stdout",
          "text": [
            "Finished training the model\n"
          ]
        }
      ]
    },
    {
      "cell_type": "markdown",
      "source": [
        "# **Display training statistics**"
      ],
      "metadata": {
        "id": "NNJpBUbn3-Pn"
      }
    },
    {
      "cell_type": "markdown",
      "source": [
        "Visualizing loss magnitude\n",
        "\n",
        "We visualize the loss magnitude so we can see how the loss of our model goes down after each training epoch. A high loss means that the Fahrenheit degrees the model predicts is far from the corresponding value in fahrenheit_a. "
      ],
      "metadata": {
        "id": "Hw-auB7c2_pG"
      }
    },
    {
      "cell_type": "code",
      "source": [
        "import matplotlib.pyplot as plt\n",
        "#displaying train statistics\n",
        "plt.xlabel('Epoch Number')\n",
        "plt.ylabel(\"Loss Magnitude\")\n",
        "plt.plot(history.history['loss'])"
      ],
      "metadata": {
        "colab": {
          "base_uri": "https://localhost:8080/",
          "height": 296
        },
        "id": "HqT5mad3sk56",
        "outputId": "5faf01ed-f132-4ab7-b622-cf475d1054e9"
      },
      "execution_count": 98,
      "outputs": [
        {
          "output_type": "execute_result",
          "data": {
            "text/plain": [
              "[<matplotlib.lines.Line2D at 0x7f033620b1d0>]"
            ]
          },
          "metadata": {},
          "execution_count": 98
        },
        {
          "output_type": "display_data",
          "data": {
            "text/plain": [
              "<Figure size 432x288 with 1 Axes>"
            ],
            "image/png": "[encoded data removed]"
          },
          "metadata": {
            "needs_background": "light"
          }
        }
      ]
    },
    {
      "cell_type": "markdown",
      "source": [
        "# **Making Prediction**"
      ],
      "metadata": {
        "id": "zH3J6vqQ3YLd"
      }
    },
    {
      "cell_type": "markdown",
      "source": [
        "Now we have a model that has been trained to learn the relationship between celsius_q and fahrenheit_a.We can use the predict method to have it calculate the Fahrenheit degrees for a previously unknown Celsius degrees. Now let’s find the value of Fahrenheit degree if Celsius degree is 100. Using the equation we derived at the beginning of this lesson Fahrenheit(F) = 100 *1.8 +32 = 212. Now let see what our model predicts."
      ],
      "metadata": {
        "id": "bLjXI1993eL4"
      }
    },
    {
      "cell_type": "code",
      "source": [
        "print(model.predict([100.0]))"
      ],
      "metadata": {
        "colab": {
          "base_uri": "https://localhost:8080/"
        },
        "id": "sJE_r8rSsqDf",
        "outputId": "85ae0abd-f63c-45a9-91d8-8e61a166b2b1"
      },
      "execution_count": 99,
      "outputs": [
        {
          "output_type": "stream",
          "name": "stdout",
          "text": [
            "1/1 [==============================] - 0s 44ms/step\n",
            "[[212.02216]]\n"
          ]
        }
      ]
    },
    {
      "cell_type": "markdown",
      "source": [
        "Now we build a machine learning model that can convert Celsius degree to Fahrenheit degree.\n",
        "\n",
        "The correct answer is 100 * 1.8 + 32 = 212. We got exactly the same while predicting,so our model is doing really well."
      ],
      "metadata": {
        "id": "yUMf1SEP3ot0"
      }
    },
    {
      "cell_type": "markdown",
      "source": [
        "# **Finding the weight and bias**"
      ],
      "metadata": {
        "id": "HTWWIhC-3pwB"
      }
    },
    {
      "cell_type": "code",
      "source": [
        "print(\"layer variables:{}\".format(l0.get_weights()))"
      ],
      "metadata": {
        "colab": {
          "base_uri": "https://localhost:8080/"
        },
        "id": "YPBLe89nzLoZ",
        "outputId": "5df73f2d-b848-4ac9-9ee7-e2288a49d09b"
      },
      "execution_count": 100,
      "outputs": [
        {
          "output_type": "stream",
          "name": "stdout",
          "text": [
            "layer variables:[array([[1.8028668]], dtype=float32), array([31.73548], dtype=float32)]\n"
          ]
        }
      ]
    },
    {
      "cell_type": "markdown",
      "source": [
        "Here, the first variable is equal to 1.8 and the second is equal to 32 if we round off them.\n",
        "Theses valuse are really close to the values in the conversion formula. \n"
      ],
      "metadata": {
        "id": "omkTJdV9A67_"
      }
    },
    {
      "cell_type": "markdown",
      "source": [
        "Thus,We created a good model with a Dense layer\n",
        "\n",
        "\n",
        "We trained it with 7200 examples (9 pairs, over 800 epochs).(Here, Initially I started with 7 pairs of data and used 500 epochs.But I found that the predicted value is not very close to correct value. So, I improved the model accuracy by adding datas and also increasing the epochs)\n",
        "\n",
        "\n",
        "Then predicted it with good accuracy"
      ],
      "metadata": {
        "id": "NesNcf_1AhRF"
      }
    }
  ]
}