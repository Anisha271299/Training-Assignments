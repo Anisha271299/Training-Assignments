{
  "nbformat": 4,
  "nbformat_minor": 0,
  "metadata": {
    "colab": {
      "provenance": [],
      "authorship_tag": "ABX9TyM4Ew2LgfhLRpRp2GEUyK/K",
      "include_colab_link": true
    },
    "kernelspec": {
      "name": "python3",
      "display_name": "Python 3"
    },
    "language_info": {
      "name": "python"
    }
  },
  "cells": [
    {
      "cell_type": "markdown",
      "metadata": {
        "id": "view-in-github",
        "colab_type": "text"
      },
      "source": [
        "<a href=\"https://colab.research.google.com/github/Anisha271299/Training-Assignments/blob/main/Simple%20Python%20Practice%20Exercises.ipynb\" target=\"_parent\"><img src=\"https://colab.research.google.com/assets/colab-badge.svg\" alt=\"Open In Colab\"/></a>"
      ]
    },
    {
      "cell_type": "code",
      "execution_count": null,
      "metadata": {
        "id": "jo3VWP7xcrh3"
      },
      "outputs": [],
      "source": [
        "lst1 = [\"john\",\"jack\",\"john\",\"john\"]\n"
      ]
    },
    {
      "cell_type": "code",
      "source": [
        "lst1.count(\"john\")\n"
      ],
      "metadata": {
        "colab": {
          "base_uri": "https://localhost:8080/"
        },
        "id": "OE0vvb6MdNIB",
        "outputId": "7c2023f1-6df4-4091-e735-3f111e53f4a3"
      },
      "execution_count": null,
      "outputs": [
        {
          "output_type": "execute_result",
          "data": {
            "text/plain": [
              "3"
            ]
          },
          "metadata": {},
          "execution_count": 3
        }
      ]
    },
    {
      "cell_type": "code",
      "source": [
        "lst1.index(\"john\")"
      ],
      "metadata": {
        "colab": {
          "base_uri": "https://localhost:8080/"
        },
        "id": "ZLLIL8H-OmVT",
        "outputId": "8a376b5e-02b2-4dec-b6f4-c54668da79cd"
      },
      "execution_count": null,
      "outputs": [
        {
          "output_type": "execute_result",
          "data": {
            "text/plain": [
              "0"
            ]
          },
          "metadata": {},
          "execution_count": 4
        }
      ]
    },
    {
      "cell_type": "code",
      "source": [
        "lst1 = [\"john\",\"jack\",\"john\",\"john\"]\n",
        "\n",
        "for i in range(len(lst1)):\n",
        "  if lst1[i] == \"john\":\n",
        "    print(i)"
      ],
      "metadata": {
        "colab": {
          "base_uri": "https://localhost:8080/"
        },
        "id": "xe44o-d2ea0q",
        "outputId": "5f473d17-1da7-406f-f8f2-4af5f0adbc5a"
      },
      "execution_count": null,
      "outputs": [
        {
          "output_type": "stream",
          "name": "stdout",
          "text": [
            "0\n",
            "2\n",
            "3\n"
          ]
        }
      ]
    },
    {
      "cell_type": "code",
      "source": [
        "from collections import Counter\n"
      ],
      "metadata": {
        "id": "bpyxUB4Veqqx"
      },
      "execution_count": null,
      "outputs": []
    },
    {
      "cell_type": "code",
      "source": [
        "from collections import Counter\n",
        "d1 = {'key1': 50, 'key2': 100, 'key3':200}\n",
        "d2 = {'key1': 200, 'key2': 100, 'key4':300}\n",
        "\n",
        "merged_dict = dict(Counter(d1)+Counter(d2))\n"
      ],
      "metadata": {
        "id": "pEiTJ_WqhB4h"
      },
      "execution_count": null,
      "outputs": []
    },
    {
      "cell_type": "code",
      "source": [
        "merged_dict"
      ],
      "metadata": {
        "colab": {
          "base_uri": "https://localhost:8080/"
        },
        "id": "H9FSzokyh339",
        "outputId": "d8999c16-4d7c-45b6-ad5d-23e312dfcc39"
      },
      "execution_count": null,
      "outputs": [
        {
          "output_type": "execute_result",
          "data": {
            "text/plain": [
              "{'key1': 250, 'key2': 200, 'key3': 200, 'key4': 300}"
            ]
          },
          "metadata": {},
          "execution_count": 14
        }
      ]
    },
    {
      "cell_type": "code",
      "source": [
        "add = lambda a,b : a+b\n",
        "c = add (4,6)\n",
        "print(c)"
      ],
      "metadata": {
        "colab": {
          "base_uri": "https://localhost:8080/"
        },
        "id": "u28g6ImciCc6",
        "outputId": "9c66525b-ef4e-4640-c5d1-6f63559686f0"
      },
      "execution_count": null,
      "outputs": [
        {
          "output_type": "stream",
          "name": "stdout",
          "text": [
            "10\n"
          ]
        }
      ]
    },
    {
      "cell_type": "code",
      "source": [
        "import pandas as pd\n",
        "\n",
        "emp_data = {'emp_name':[\"Ashwin\",\"Alex\",\"Ashok\",\"David\"],'salary':[30000,90000,50000,70000],'dep':[\"HR\",\"IT\",\"HR\",\"IT\"]}\n",
        "\n",
        "df = pd.DataFrame(emp_data)\n",
        "df"
      ],
      "metadata": {
        "colab": {
          "base_uri": "https://localhost:8080/",
          "height": 174
        },
        "id": "8Kwz5sRAitPE",
        "outputId": "f16c4ed7-e03f-440b-c314-8772ee14069e"
      },
      "execution_count": null,
      "outputs": [
        {
          "output_type": "execute_result",
          "data": {
            "text/plain": [
              "  emp_name  salary dep\n",
              "0   Ashwin   30000  HR\n",
              "1     Alex   90000  IT\n",
              "2    Ashok   50000  HR\n",
              "3    David   70000  IT"
            ],
            "text/html": [
              "\n",
              "\n",
              "  <div id=\"df-16c51024-f946-4f79-be0a-fd9832f068fd\">\n",
              "    <div class=\"colab-df-container\">\n",
              "      <div>\n",
              "<style scoped>\n",
              "    .dataframe tbody tr th:only-of-type {\n",
              "        vertical-align: middle;\n",
              "    }\n",
              "\n",
              "    .dataframe tbody tr th {\n",
              "        vertical-align: top;\n",
              "    }\n",
              "\n",
              "    .dataframe thead th {\n",
              "        text-align: right;\n",
              "    }\n",
              "</style>\n",
              "<table border=\"1\" class=\"dataframe\">\n",
              "  <thead>\n",
              "    <tr style=\"text-align: right;\">\n",
              "      <th></th>\n",
              "      <th>emp_name</th>\n",
              "      <th>salary</th>\n",
              "      <th>dep</th>\n",
              "    </tr>\n",
              "  </thead>\n",
              "  <tbody>\n",
              "    <tr>\n",
              "      <th>0</th>\n",
              "      <td>Ashwin</td>\n",
              "      <td>30000</td>\n",
              "      <td>HR</td>\n",
              "    </tr>\n",
              "    <tr>\n",
              "      <th>1</th>\n",
              "      <td>Alex</td>\n",
              "      <td>90000</td>\n",
              "      <td>IT</td>\n",
              "    </tr>\n",
              "    <tr>\n",
              "      <th>2</th>\n",
              "      <td>Ashok</td>\n",
              "      <td>50000</td>\n",
              "      <td>HR</td>\n",
              "    </tr>\n",
              "    <tr>\n",
              "      <th>3</th>\n",
              "      <td>David</td>\n",
              "      <td>70000</td>\n",
              "      <td>IT</td>\n",
              "    </tr>\n",
              "  </tbody>\n",
              "</table>\n",
              "</div>\n",
              "      <button class=\"colab-df-convert\" onclick=\"convertToInteractive('df-16c51024-f946-4f79-be0a-fd9832f068fd')\"\n",
              "              title=\"Convert this dataframe to an interactive table.\"\n",
              "              style=\"display:none;\">\n",
              "\n",
              "  <svg xmlns=\"http://www.w3.org/2000/svg\" height=\"24px\"viewBox=\"0 0 24 24\"\n",
              "       width=\"24px\">\n",
              "    <path d=\"M0 0h24v24H0V0z\" fill=\"none\"/>\n",
              "    <path d=\"M18.56 5.44l.94 2.06.94-2.06 2.06-.94-2.06-.94-.94-2.06-.94 2.06-2.06.94zm-11 1L8.5 8.5l.94-2.06 2.06-.94-2.06-.94L8.5 2.5l-.94 2.06-2.06.94zm10 10l.94 2.06.94-2.06 2.06-.94-2.06-.94-.94-2.06-.94 2.06-2.06.94z\"/><path d=\"M17.41 7.96l-1.37-1.37c-.4-.4-.92-.59-1.43-.59-.52 0-1.04.2-1.43.59L10.3 9.45l-7.72 7.72c-.78.78-.78 2.05 0 2.83L4 21.41c.39.39.9.59 1.41.59.51 0 1.02-.2 1.41-.59l7.78-7.78 2.81-2.81c.8-.78.8-2.07 0-2.86zM5.41 20L4 18.59l7.72-7.72 1.47 1.35L5.41 20z\"/>\n",
              "  </svg>\n",
              "      </button>\n",
              "\n",
              "\n",
              "\n",
              "    <div id=\"df-7dc74d4d-5f44-4a95-8218-aac9e7c5b4e8\">\n",
              "      <button class=\"colab-df-quickchart\" onclick=\"quickchart('df-7dc74d4d-5f44-4a95-8218-aac9e7c5b4e8')\"\n",
              "              title=\"Suggest charts.\"\n",
              "              style=\"display:none;\">\n",
              "\n",
              "<svg xmlns=\"http://www.w3.org/2000/svg\" height=\"24px\"viewBox=\"0 0 24 24\"\n",
              "     width=\"24px\">\n",
              "    <g>\n",
              "        <path d=\"M19 3H5c-1.1 0-2 .9-2 2v14c0 1.1.9 2 2 2h14c1.1 0 2-.9 2-2V5c0-1.1-.9-2-2-2zM9 17H7v-7h2v7zm4 0h-2V7h2v10zm4 0h-2v-4h2v4z\"/>\n",
              "    </g>\n",
              "</svg>\n",
              "      </button>\n",
              "    </div>\n",
              "\n",
              "<style>\n",
              "  .colab-df-quickchart {\n",
              "    background-color: #E8F0FE;\n",
              "    border: none;\n",
              "    border-radius: 50%;\n",
              "    cursor: pointer;\n",
              "    display: none;\n",
              "    fill: #1967D2;\n",
              "    height: 32px;\n",
              "    padding: 0 0 0 0;\n",
              "    width: 32px;\n",
              "  }\n",
              "\n",
              "  .colab-df-quickchart:hover {\n",
              "    background-color: #E2EBFA;\n",
              "    box-shadow: 0px 1px 2px rgba(60, 64, 67, 0.3), 0px 1px 3px 1px rgba(60, 64, 67, 0.15);\n",
              "    fill: #174EA6;\n",
              "  }\n",
              "\n",
              "  [theme=dark] .colab-df-quickchart {\n",
              "    background-color: #3B4455;\n",
              "    fill: #D2E3FC;\n",
              "  }\n",
              "\n",
              "  [theme=dark] .colab-df-quickchart:hover {\n",
              "    background-color: #434B5C;\n",
              "    box-shadow: 0px 1px 3px 1px rgba(0, 0, 0, 0.15);\n",
              "    filter: drop-shadow(0px 1px 2px rgba(0, 0, 0, 0.3));\n",
              "    fill: #FFFFFF;\n",
              "  }\n",
              "</style>\n",
              "\n",
              "    <script>\n",
              "      async function quickchart(key) {\n",
              "        const containerElement = document.querySelector('#' + key);\n",
              "        const charts = await google.colab.kernel.invokeFunction(\n",
              "            'suggestCharts', [key], {});\n",
              "      }\n",
              "    </script>\n",
              "\n",
              "      <script>\n",
              "\n",
              "function displayQuickchartButton(domScope) {\n",
              "  let quickchartButtonEl =\n",
              "    domScope.querySelector('#df-7dc74d4d-5f44-4a95-8218-aac9e7c5b4e8 button.colab-df-quickchart');\n",
              "  quickchartButtonEl.style.display =\n",
              "    google.colab.kernel.accessAllowed ? 'block' : 'none';\n",
              "}\n",
              "\n",
              "        displayQuickchartButton(document);\n",
              "      </script>\n",
              "      <style>\n",
              "    .colab-df-container {\n",
              "      display:flex;\n",
              "      flex-wrap:wrap;\n",
              "      gap: 12px;\n",
              "    }\n",
              "\n",
              "    .colab-df-convert {\n",
              "      background-color: #E8F0FE;\n",
              "      border: none;\n",
              "      border-radius: 50%;\n",
              "      cursor: pointer;\n",
              "      display: none;\n",
              "      fill: #1967D2;\n",
              "      height: 32px;\n",
              "      padding: 0 0 0 0;\n",
              "      width: 32px;\n",
              "    }\n",
              "\n",
              "    .colab-df-convert:hover {\n",
              "      background-color: #E2EBFA;\n",
              "      box-shadow: 0px 1px 2px rgba(60, 64, 67, 0.3), 0px 1px 3px 1px rgba(60, 64, 67, 0.15);\n",
              "      fill: #174EA6;\n",
              "    }\n",
              "\n",
              "    [theme=dark] .colab-df-convert {\n",
              "      background-color: #3B4455;\n",
              "      fill: #D2E3FC;\n",
              "    }\n",
              "\n",
              "    [theme=dark] .colab-df-convert:hover {\n",
              "      background-color: #434B5C;\n",
              "      box-shadow: 0px 1px 3px 1px rgba(0, 0, 0, 0.15);\n",
              "      filter: drop-shadow(0px 1px 2px rgba(0, 0, 0, 0.3));\n",
              "      fill: #FFFFFF;\n",
              "    }\n",
              "  </style>\n",
              "\n",
              "      <script>\n",
              "        const buttonEl =\n",
              "          document.querySelector('#df-16c51024-f946-4f79-be0a-fd9832f068fd button.colab-df-convert');\n",
              "        buttonEl.style.display =\n",
              "          google.colab.kernel.accessAllowed ? 'block' : 'none';\n",
              "\n",
              "        async function convertToInteractive(key) {\n",
              "          const element = document.querySelector('#df-16c51024-f946-4f79-be0a-fd9832f068fd');\n",
              "          const dataTable =\n",
              "            await google.colab.kernel.invokeFunction('convertToInteractive',\n",
              "                                                     [key], {});\n",
              "          if (!dataTable) return;\n",
              "\n",
              "          const docLinkHtml = 'Like what you see? Visit the ' +\n",
              "            '<a target=\"_blank\" href=https://colab.research.google.com/notebooks/data_table.ipynb>data table notebook</a>'\n",
              "            + ' to learn more about interactive tables.';\n",
              "          element.innerHTML = '';\n",
              "          dataTable['output_type'] = 'display_data';\n",
              "          await google.colab.output.renderOutput(dataTable, element);\n",
              "          const docLink = document.createElement('div');\n",
              "          docLink.innerHTML = docLinkHtml;\n",
              "          element.appendChild(docLink);\n",
              "        }\n",
              "      </script>\n",
              "    </div>\n",
              "  </div>\n"
            ]
          },
          "metadata": {},
          "execution_count": 8
        }
      ]
    },
    {
      "cell_type": "code",
      "source": [
        "ad = pd.DataFrame\n",
        "ad"
      ],
      "metadata": {
        "colab": {
          "base_uri": "https://localhost:8080/"
        },
        "id": "ij96BsOmdl0H",
        "outputId": "473c9c78-ea76-4738-edd6-f9307f50548b"
      },
      "execution_count": null,
      "outputs": [
        {
          "output_type": "execute_result",
          "data": {
            "text/plain": [
              "pandas.core.frame.DataFrame"
            ]
          },
          "metadata": {},
          "execution_count": 11
        }
      ]
    },
    {
      "cell_type": "code",
      "source": [
        "df['city'] = \"chennai\"\n",
        "print(df)"
      ],
      "metadata": {
        "colab": {
          "base_uri": "https://localhost:8080/"
        },
        "id": "mIBDvonljkjj",
        "outputId": "f940742c-79e6-483e-8fd2-6befbf880682"
      },
      "execution_count": null,
      "outputs": [
        {
          "output_type": "stream",
          "name": "stdout",
          "text": [
            "  emp_name  salary dep     city\n",
            "0   Ashwin   30000  HR  chennai\n",
            "1     Alex   90000  IT  chennai\n",
            "2    Ashok   50000  HR  chennai\n",
            "3    David   70000  IT  chennai\n"
          ]
        }
      ]
    },
    {
      "cell_type": "code",
      "source": [
        "sal_above = df[df['salary']>40000]\n",
        "sal_above"
      ],
      "metadata": {
        "colab": {
          "base_uri": "https://localhost:8080/",
          "height": 143
        },
        "id": "hhs2BEGckHtJ",
        "outputId": "c5e8954a-56c1-47d9-97d2-38668625b279"
      },
      "execution_count": null,
      "outputs": [
        {
          "output_type": "execute_result",
          "data": {
            "text/plain": [
              "  emp_name  salary dep     city\n",
              "1     Alex   90000  IT  chennai\n",
              "2    Ashok   50000  HR  chennai\n",
              "3    David   70000  IT  chennai"
            ],
            "text/html": [
              "\n",
              "\n",
              "  <div id=\"df-e5893b17-d7cf-4fcc-89e0-e88f859219e9\">\n",
              "    <div class=\"colab-df-container\">\n",
              "      <div>\n",
              "<style scoped>\n",
              "    .dataframe tbody tr th:only-of-type {\n",
              "        vertical-align: middle;\n",
              "    }\n",
              "\n",
              "    .dataframe tbody tr th {\n",
              "        vertical-align: top;\n",
              "    }\n",
              "\n",
              "    .dataframe thead th {\n",
              "        text-align: right;\n",
              "    }\n",
              "</style>\n",
              "<table border=\"1\" class=\"dataframe\">\n",
              "  <thead>\n",
              "    <tr style=\"text-align: right;\">\n",
              "      <th></th>\n",
              "      <th>emp_name</th>\n",
              "      <th>salary</th>\n",
              "      <th>dep</th>\n",
              "      <th>city</th>\n",
              "    </tr>\n",
              "  </thead>\n",
              "  <tbody>\n",
              "    <tr>\n",
              "      <th>1</th>\n",
              "      <td>Alex</td>\n",
              "      <td>90000</td>\n",
              "      <td>IT</td>\n",
              "      <td>chennai</td>\n",
              "    </tr>\n",
              "    <tr>\n",
              "      <th>2</th>\n",
              "      <td>Ashok</td>\n",
              "      <td>50000</td>\n",
              "      <td>HR</td>\n",
              "      <td>chennai</td>\n",
              "    </tr>\n",
              "    <tr>\n",
              "      <th>3</th>\n",
              "      <td>David</td>\n",
              "      <td>70000</td>\n",
              "      <td>IT</td>\n",
              "      <td>chennai</td>\n",
              "    </tr>\n",
              "  </tbody>\n",
              "</table>\n",
              "</div>\n",
              "      <button class=\"colab-df-convert\" onclick=\"convertToInteractive('df-e5893b17-d7cf-4fcc-89e0-e88f859219e9')\"\n",
              "              title=\"Convert this dataframe to an interactive table.\"\n",
              "              style=\"display:none;\">\n",
              "\n",
              "  <svg xmlns=\"http://www.w3.org/2000/svg\" height=\"24px\"viewBox=\"0 0 24 24\"\n",
              "       width=\"24px\">\n",
              "    <path d=\"M0 0h24v24H0V0z\" fill=\"none\"/>\n",
              "    <path d=\"M18.56 5.44l.94 2.06.94-2.06 2.06-.94-2.06-.94-.94-2.06-.94 2.06-2.06.94zm-11 1L8.5 8.5l.94-2.06 2.06-.94-2.06-.94L8.5 2.5l-.94 2.06-2.06.94zm10 10l.94 2.06.94-2.06 2.06-.94-2.06-.94-.94-2.06-.94 2.06-2.06.94z\"/><path d=\"M17.41 7.96l-1.37-1.37c-.4-.4-.92-.59-1.43-.59-.52 0-1.04.2-1.43.59L10.3 9.45l-7.72 7.72c-.78.78-.78 2.05 0 2.83L4 21.41c.39.39.9.59 1.41.59.51 0 1.02-.2 1.41-.59l7.78-7.78 2.81-2.81c.8-.78.8-2.07 0-2.86zM5.41 20L4 18.59l7.72-7.72 1.47 1.35L5.41 20z\"/>\n",
              "  </svg>\n",
              "      </button>\n",
              "\n",
              "\n",
              "\n",
              "    <div id=\"df-e9180029-947a-4886-a2f3-fd3e36d1ac08\">\n",
              "      <button class=\"colab-df-quickchart\" onclick=\"quickchart('df-e9180029-947a-4886-a2f3-fd3e36d1ac08')\"\n",
              "              title=\"Suggest charts.\"\n",
              "              style=\"display:none;\">\n",
              "\n",
              "<svg xmlns=\"http://www.w3.org/2000/svg\" height=\"24px\"viewBox=\"0 0 24 24\"\n",
              "     width=\"24px\">\n",
              "    <g>\n",
              "        <path d=\"M19 3H5c-1.1 0-2 .9-2 2v14c0 1.1.9 2 2 2h14c1.1 0 2-.9 2-2V5c0-1.1-.9-2-2-2zM9 17H7v-7h2v7zm4 0h-2V7h2v10zm4 0h-2v-4h2v4z\"/>\n",
              "    </g>\n",
              "</svg>\n",
              "      </button>\n",
              "    </div>\n",
              "\n",
              "<style>\n",
              "  .colab-df-quickchart {\n",
              "    background-color: #E8F0FE;\n",
              "    border: none;\n",
              "    border-radius: 50%;\n",
              "    cursor: pointer;\n",
              "    display: none;\n",
              "    fill: #1967D2;\n",
              "    height: 32px;\n",
              "    padding: 0 0 0 0;\n",
              "    width: 32px;\n",
              "  }\n",
              "\n",
              "  .colab-df-quickchart:hover {\n",
              "    background-color: #E2EBFA;\n",
              "    box-shadow: 0px 1px 2px rgba(60, 64, 67, 0.3), 0px 1px 3px 1px rgba(60, 64, 67, 0.15);\n",
              "    fill: #174EA6;\n",
              "  }\n",
              "\n",
              "  [theme=dark] .colab-df-quickchart {\n",
              "    background-color: #3B4455;\n",
              "    fill: #D2E3FC;\n",
              "  }\n",
              "\n",
              "  [theme=dark] .colab-df-quickchart:hover {\n",
              "    background-color: #434B5C;\n",
              "    box-shadow: 0px 1px 3px 1px rgba(0, 0, 0, 0.15);\n",
              "    filter: drop-shadow(0px 1px 2px rgba(0, 0, 0, 0.3));\n",
              "    fill: #FFFFFF;\n",
              "  }\n",
              "</style>\n",
              "\n",
              "    <script>\n",
              "      async function quickchart(key) {\n",
              "        const containerElement = document.querySelector('#' + key);\n",
              "        const charts = await google.colab.kernel.invokeFunction(\n",
              "            'suggestCharts', [key], {});\n",
              "      }\n",
              "    </script>\n",
              "\n",
              "      <script>\n",
              "\n",
              "function displayQuickchartButton(domScope) {\n",
              "  let quickchartButtonEl =\n",
              "    domScope.querySelector('#df-e9180029-947a-4886-a2f3-fd3e36d1ac08 button.colab-df-quickchart');\n",
              "  quickchartButtonEl.style.display =\n",
              "    google.colab.kernel.accessAllowed ? 'block' : 'none';\n",
              "}\n",
              "\n",
              "        displayQuickchartButton(document);\n",
              "      </script>\n",
              "      <style>\n",
              "    .colab-df-container {\n",
              "      display:flex;\n",
              "      flex-wrap:wrap;\n",
              "      gap: 12px;\n",
              "    }\n",
              "\n",
              "    .colab-df-convert {\n",
              "      background-color: #E8F0FE;\n",
              "      border: none;\n",
              "      border-radius: 50%;\n",
              "      cursor: pointer;\n",
              "      display: none;\n",
              "      fill: #1967D2;\n",
              "      height: 32px;\n",
              "      padding: 0 0 0 0;\n",
              "      width: 32px;\n",
              "    }\n",
              "\n",
              "    .colab-df-convert:hover {\n",
              "      background-color: #E2EBFA;\n",
              "      box-shadow: 0px 1px 2px rgba(60, 64, 67, 0.3), 0px 1px 3px 1px rgba(60, 64, 67, 0.15);\n",
              "      fill: #174EA6;\n",
              "    }\n",
              "\n",
              "    [theme=dark] .colab-df-convert {\n",
              "      background-color: #3B4455;\n",
              "      fill: #D2E3FC;\n",
              "    }\n",
              "\n",
              "    [theme=dark] .colab-df-convert:hover {\n",
              "      background-color: #434B5C;\n",
              "      box-shadow: 0px 1px 3px 1px rgba(0, 0, 0, 0.15);\n",
              "      filter: drop-shadow(0px 1px 2px rgba(0, 0, 0, 0.3));\n",
              "      fill: #FFFFFF;\n",
              "    }\n",
              "  </style>\n",
              "\n",
              "      <script>\n",
              "        const buttonEl =\n",
              "          document.querySelector('#df-e5893b17-d7cf-4fcc-89e0-e88f859219e9 button.colab-df-convert');\n",
              "        buttonEl.style.display =\n",
              "          google.colab.kernel.accessAllowed ? 'block' : 'none';\n",
              "\n",
              "        async function convertToInteractive(key) {\n",
              "          const element = document.querySelector('#df-e5893b17-d7cf-4fcc-89e0-e88f859219e9');\n",
              "          const dataTable =\n",
              "            await google.colab.kernel.invokeFunction('convertToInteractive',\n",
              "                                                     [key], {});\n",
              "          if (!dataTable) return;\n",
              "\n",
              "          const docLinkHtml = 'Like what you see? Visit the ' +\n",
              "            '<a target=\"_blank\" href=https://colab.research.google.com/notebooks/data_table.ipynb>data table notebook</a>'\n",
              "            + ' to learn more about interactive tables.';\n",
              "          element.innerHTML = '';\n",
              "          dataTable['output_type'] = 'display_data';\n",
              "          await google.colab.output.renderOutput(dataTable, element);\n",
              "          const docLink = document.createElement('div');\n",
              "          docLink.innerHTML = docLinkHtml;\n",
              "          element.appendChild(docLink);\n",
              "        }\n",
              "      </script>\n",
              "    </div>\n",
              "  </div>\n"
            ]
          },
          "metadata": {},
          "execution_count": 22
        }
      ]
    },
    {
      "cell_type": "code",
      "source": [
        "group_sal = df.groupby('dep')['salary'].sum()\n",
        "print(group_sal)"
      ],
      "metadata": {
        "colab": {
          "base_uri": "https://localhost:8080/"
        },
        "id": "3S1U9akxkhv8",
        "outputId": "13c11078-7ca8-408f-9355-49d6eb0fc4c0"
      },
      "execution_count": null,
      "outputs": [
        {
          "output_type": "stream",
          "name": "stdout",
          "text": [
            "dep\n",
            "HR     80000\n",
            "IT    160000\n",
            "Name: salary, dtype: int64\n"
          ]
        }
      ]
    },
    {
      "cell_type": "code",
      "source": [
        "group_df = df.groupby('dep').agg({'salary':'sum','emp_name':list})\n",
        "print(group_df)"
      ],
      "metadata": {
        "colab": {
          "base_uri": "https://localhost:8080/"
        },
        "id": "0Px9BrvBk_wJ",
        "outputId": "56064c2c-f884-4404-db6d-4a55ea5fee8c"
      },
      "execution_count": null,
      "outputs": [
        {
          "output_type": "stream",
          "name": "stdout",
          "text": [
            "     salary         emp_name\n",
            "dep                         \n",
            "HR    80000  [Ashwin, Ashok]\n",
            "IT   160000    [Alex, David]\n"
          ]
        }
      ]
    },
    {
      "cell_type": "code",
      "source": [
        "sal_high = df.groupby('dep')['salary'].nlargest(1)\n",
        "sal_high"
      ],
      "metadata": {
        "colab": {
          "base_uri": "https://localhost:8080/"
        },
        "id": "T3CmwYq2mWnf",
        "outputId": "4db89e34-cc07-43dd-fec3-c9fc37b0b66d"
      },
      "execution_count": null,
      "outputs": [
        {
          "output_type": "execute_result",
          "data": {
            "text/plain": [
              "dep   \n",
              "HR   2    50000\n",
              "IT   1    90000\n",
              "Name: salary, dtype: int64"
            ]
          },
          "metadata": {},
          "execution_count": 34
        }
      ]
    },
    {
      "cell_type": "code",
      "source": [
        "import pandas as pd\n",
        "\n",
        "data = {\n",
        "    'employee_name': ['John', 'Jane', 'Mike'],\n",
        "    'salary': [4000, 3500, 5000],\n",
        "    'department': ['HR', 'Finance', 'IT']\n",
        "}\n",
        "\n",
        "df = pd.DataFrame(data)\n",
        "print(df)"
      ],
      "metadata": {
        "colab": {
          "base_uri": "https://localhost:8080/"
        },
        "id": "4yIlzGQSQDuT",
        "outputId": "6a9a0ae4-74ed-4e36-af6c-2eb6314be7d4"
      },
      "execution_count": 1,
      "outputs": [
        {
          "output_type": "stream",
          "name": "stdout",
          "text": [
            "  employee_name  salary department\n",
            "0          John    4000         HR\n",
            "1          Jane    3500    Finance\n",
            "2          Mike    5000         IT\n"
          ]
        }
      ]
    },
    {
      "cell_type": "code",
      "source": [
        "filtered_df = df[df['salary'] > 3000]\n",
        "print(filtered_df)"
      ],
      "metadata": {
        "colab": {
          "base_uri": "https://localhost:8080/"
        },
        "id": "Q_HRgYiVRTX3",
        "outputId": "c5e66206-bb80-42c2-a981-8f69fc5903c5"
      },
      "execution_count": 2,
      "outputs": [
        {
          "output_type": "stream",
          "name": "stdout",
          "text": [
            "  employee_name  salary department\n",
            "0          John    4000         HR\n",
            "1          Jane    3500    Finance\n",
            "2          Mike    5000         IT\n"
          ]
        }
      ]
    },
    {
      "cell_type": "code",
      "source": [
        "df['new_column'] = [True, False, True]\n",
        "print(df)"
      ],
      "metadata": {
        "colab": {
          "base_uri": "https://localhost:8080/"
        },
        "id": "xtpZtoGLRbbT",
        "outputId": "4c0667c0-a470-42f4-efd2-bcff68f93fa6"
      },
      "execution_count": 3,
      "outputs": [
        {
          "output_type": "stream",
          "name": "stdout",
          "text": [
            "  employee_name  salary department  new_column\n",
            "0          John    4000         HR        True\n",
            "1          Jane    3500    Finance       False\n",
            "2          Mike    5000         IT        True\n"
          ]
        }
      ]
    },
    {
      "cell_type": "code",
      "source": [
        "def compare_dates(date1, date2):\n",
        "    if date1 == date2:\n",
        "        return True\n",
        "    else:\n",
        "        return False\n",
        "\n",
        "date1 = \"2023-08-08\"\n",
        "date2 = \"2023-08-09\"\n",
        "result = compare_dates(date1, date2)\n",
        "print(result)\n"
      ],
      "metadata": {
        "colab": {
          "base_uri": "https://localhost:8080/"
        },
        "id": "phzMAvN-RhYZ",
        "outputId": "cfeaafb5-b7cc-4023-b089-c2abe01516b1"
      },
      "execution_count": 4,
      "outputs": [
        {
          "output_type": "stream",
          "name": "stdout",
          "text": [
            "False\n"
          ]
        }
      ]
    },
    {
      "cell_type": "code",
      "source": [
        "from datetime import datetime\n",
        "\n",
        "def validate_dates(date1, date2):\n",
        "    try:\n",
        "        datetime.strptime(date1, \"%Y-%m-%d\")\n",
        "        datetime.strptime(date2, \"%Y-%m-%d\")\n",
        "        return True\n",
        "    except ValueError:\n",
        "        return False\n",
        "\n",
        "date1 = \"2023-08-08\"\n",
        "date2 = \"2023-08-09\"\n",
        "result = validate_dates(date1, date2)\n",
        "print(result)\n"
      ],
      "metadata": {
        "colab": {
          "base_uri": "https://localhost:8080/"
        },
        "id": "iQYMcUSlRmA0",
        "outputId": "8a9fc2fc-0b10-4d71-e45f-eb7a316c887b"
      },
      "execution_count": 5,
      "outputs": [
        {
          "output_type": "stream",
          "name": "stdout",
          "text": [
            "True\n"
          ]
        }
      ]
    },
    {
      "cell_type": "code",
      "source": [
        "import pyodbc\n",
        "\n",
        "conn = pyodbc.connect('DRIVER={DriverName};SERVER=ServerName;DATABASE=DatabaseName;UID=Username;PWD=Password')\n",
        "cursor = conn.cursor()\n",
        "\n",
        "# Execute SQL queries here\n",
        "\n",
        "conn.close()\n"
      ],
      "metadata": {
        "id": "6Dzeb34pRrZQ"
      },
      "execution_count": null,
      "outputs": []
    },
    {
      "cell_type": "code",
      "source": [
        "import pandas as pd\n",
        "import pyodbc\n",
        "\n",
        "# Read Excel file into a dataframe\n",
        "df = pd.read_excel('path/to/excel/file.xlsx')\n",
        "\n",
        "# Connect to the database\n",
        "conn = pyodbc.connect('DRIVER={DriverName};SERVER=ServerName;DATABASE=DatabaseName;UID=Username;PWD=Password')\n",
        "cursor = conn.cursor()\n",
        "\n",
        "# Insert dataframe into the database table\n",
        "for row in df.itertuples(index=False):\n",
        "    cursor.execute(\"INSERT INTO TableName (column1, column2, column3) VALUES (?, ?, ?)\", row)\n",
        "\n",
        "# Commit the changes and close the connection\n",
        "conn.commit()\n",
        "conn.close()\n"
      ],
      "metadata": {
        "id": "gOAA8JXZRydb"
      },
      "execution_count": null,
      "outputs": []
    },
    {
      "cell_type": "code",
      "source": [
        "def find_longest_chain(lst):\n",
        "    longest_chain = []\n",
        "    current_chain = []\n",
        "\n",
        "    for item in lst:\n",
        "        if current_chain and item == current_chain[-1] + 1:\n",
        "            current_chain.append(item)\n",
        "        else:\n",
        "            if len(current_chain) > len(longest_chain):\n",
        "                longest_chain = current_chain\n",
        "            current_chain = [item]\n",
        "\n",
        "    if len(current_chain) > len(longest_chain):\n",
        "        longest_chain = current_chain\n",
        "\n",
        "    return longest_chain\n",
        "\n",
        "# Example usage\n",
        "my_list = [1, 2, 3, 5, 6, 7, 9, 10, 11]\n",
        "result = find_longest_chain(my_list)\n",
        "print(result)\n"
      ],
      "metadata": {
        "colab": {
          "base_uri": "https://localhost:8080/"
        },
        "id": "r0ECGh41R2g9",
        "outputId": "31342736-cda6-43b0-d93a-7802c706e442"
      },
      "execution_count": 6,
      "outputs": [
        {
          "output_type": "stream",
          "name": "stdout",
          "text": [
            "[1, 2, 3]\n"
          ]
        }
      ]
    },
    {
      "cell_type": "code",
      "source": [
        "def filter_ages(ages):\n",
        "    filtered_ages = []\n",
        "\n",
        "    for age in ages:\n",
        "        if isinstance(age, int) and age < 18:\n",
        "            filtered_ages.append(age)\n",
        "        elif isinstance(age, str):\n",
        "            try:\n",
        "                age_int = int(age)\n",
        "                if age_int < 18:\n",
        "                    filtered_ages.append(age_int)\n",
        "            except ValueError:\n",
        "                pass\n",
        "\n",
        "    return filtered_ages\n",
        "\n",
        "# Example usage\n",
        "ages = [15, 18, '17', '20', 16, '18']\n",
        "result = filter_ages(ages)\n",
        "print(result)\n"
      ],
      "metadata": {
        "colab": {
          "base_uri": "https://localhost:8080/"
        },
        "id": "roqDJ1eESPHc",
        "outputId": "c9c70f3d-1f4c-40c1-af7d-f2bb7fd34958"
      },
      "execution_count": 7,
      "outputs": [
        {
          "output_type": "stream",
          "name": "stdout",
          "text": [
            "[15, 17, 16]\n"
          ]
        }
      ]
    },
    {
      "cell_type": "code",
      "source": [
        "from datetime import datetime\n",
        "\n",
        "def compare_dates(date1, date2, format1, format2):\n",
        "    try:\n",
        "        parsed_date1 = datetime.strptime(date1, format1)\n",
        "        parsed_date2 = datetime.strptime(date2, format2)\n",
        "\n",
        "        if parsed_date1 == parsed_date2:\n",
        "            return \"Dates are equal\"\n",
        "        else:\n",
        "            return \"Dates are not equal\"\n",
        "    except ValueError:\n",
        "        return \"Invalid date format\"\n",
        "\n",
        "# Example usage\n",
        "date1 = \"01/12/23\"\n",
        "date2 = \"12/01/23\"\n",
        "format1 = \"%d/%m/%y\"\n",
        "format2 = \"%m/%d/%y\"\n",
        "result = compare_dates(date1, date2, format1, format2)\n",
        "print(result)\n"
      ],
      "metadata": {
        "colab": {
          "base_uri": "https://localhost:8080/"
        },
        "id": "5lv0jgMLSk5y",
        "outputId": "d12f63d9-81ac-48f7-bb4f-80b9a7af6ea0"
      },
      "execution_count": 8,
      "outputs": [
        {
          "output_type": "stream",
          "name": "stdout",
          "text": [
            "Dates are equal\n"
          ]
        }
      ]
    }
  ]
}