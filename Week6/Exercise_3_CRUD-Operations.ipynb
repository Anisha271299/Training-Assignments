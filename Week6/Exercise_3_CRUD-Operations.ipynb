{
 "cells": [
  {
   "cell_type": "code",
   "execution_count": 1,
   "id": "714c09b5",
   "metadata": {},
   "outputs": [
    {
     "name": "stdout",
     "output_type": "stream",
     "text": [
      "Requirement already satisfied: mysql-connector-python in c:\\users\\2211630\\anaconda3\\lib\\site-packages (8.0.30)\n",
      "Requirement already satisfied: protobuf<=3.20.1,>=3.11.0 in c:\\users\\2211630\\anaconda3\\lib\\site-packages (from mysql-connector-python) (3.20.1)\n",
      "Note: you may need to restart the kernel to use updated packages.\n"
     ]
    }
   ],
   "source": [
    "pip install mysql-connector-python"
   ]
  },
  {
   "cell_type": "code",
   "execution_count": 3,
   "id": "d10ff9f7",
   "metadata": {},
   "outputs": [],
   "source": [
    "import mysql.connector #Importing Connector package   \n",
    "mysqldb=mysql.connector.connect(host=\"localhost\",user=\"root\",password=\"Password-1\")#established connection   \n",
    "mycursor=mysqldb.cursor()#cursor() method create a cursor object  \n",
    "mycursor.execute(\"create database dbpython\")#Execute SQL Query to create a database    \n",
    "mysqldb.close()#Connection Close  "
   ]
  },
  {
   "cell_type": "markdown",
   "id": "3bf083a5",
   "metadata": {},
   "source": [
    "Create table"
   ]
  },
  {
   "cell_type": "code",
   "execution_count": 14,
   "id": "49e93c07",
   "metadata": {},
   "outputs": [],
   "source": [
    "#Create a table into dbpython database  \n",
    "import mysql.connector  \n",
    "mysqldb=mysql.connector.connect(host=\"localhost\",user=\"root\",password=\"Password-1\",database=\"dbpython\")#established connection between your database   \n",
    "mycursor=mysqldb.cursor()#cursor() method create a cursor object  \n",
    "mycursor.execute(\"create table student(roll INT,name VARCHAR(255), marks INT)\")#Execute SQL Query to create a table into your database  \n",
    "mysqldb.close()#Connection Close  "
   ]
  },
  {
   "cell_type": "markdown",
   "id": "38399b41",
   "metadata": {},
   "source": [
    "Import table"
   ]
  },
  {
   "cell_type": "code",
   "execution_count": 15,
   "id": "7a152962",
   "metadata": {},
   "outputs": [
    {
     "name": "stdout",
     "output_type": "stream",
     "text": [
      "Record inserted successfully...\n"
     ]
    }
   ],
   "source": [
    "import mysql.connector  \n",
    "mysqldb=mysql.connector.connect(host=\"localhost\",user=\"root\",password=\"Password-1\",database=\"dbpython\")#established connection between your database  \n",
    "mycursor=mysqldb.cursor()#cursor() method create a cursor object    \n",
    "try:  \n",
    "   #Execute SQL Query to insert record  \n",
    "   mycursor.execute(\"insert into student values(1,'Anisha',89),(2,'Rufina',99),(3,'Swetha',90)\")  \n",
    "   mysqldb.commit() # Commit is used for your changes in the database  \n",
    "   print('Record inserted successfully...')   \n",
    "except:  \n",
    "   # rollback used for if any error   \n",
    "   mysqldb.rollback()  \n",
    "mysqldb.close()#Connection Close"
   ]
  },
  {
   "cell_type": "markdown",
   "id": "0f80d3b4",
   "metadata": {},
   "source": [
    "Read Record"
   ]
  },
  {
   "cell_type": "code",
   "execution_count": 16,
   "id": "dcce803b",
   "metadata": {},
   "outputs": [
    {
     "name": "stdout",
     "output_type": "stream",
     "text": [
      "1 Anisha 89\n",
      "2 Rufina 99\n",
      "3 Swetha 90\n"
     ]
    }
   ],
   "source": [
    "import mysql.connector  \n",
    "mysqldb=mysql.connector.connect(host=\"localhost\",user=\"root\",password=\"Password-1\",database=\"dbpython\")#established connection between your database  \n",
    "mycursor=mysqldb.cursor()#cursor() method create a cursor object  \n",
    "try:  \n",
    "   mycursor.execute(\"select * from student\")#Execute SQL Query to select all record   \n",
    "   result=mycursor.fetchall() #fetches all the rows in a result set   \n",
    "   for i in result:    \n",
    "      roll=i[0]  \n",
    "      name=i[1]  \n",
    "      marks=i[2]  \n",
    "      print(roll,name,marks)  \n",
    "except:   \n",
    "   print('Error:Unable to fetch data.')  \n",
    "mysqldb.close()#Connection Close  "
   ]
  },
  {
   "cell_type": "markdown",
   "id": "b5f52608",
   "metadata": {},
   "source": [
    "Update record"
   ]
  },
  {
   "cell_type": "code",
   "execution_count": 18,
   "id": "852385f9",
   "metadata": {},
   "outputs": [
    {
     "name": "stdout",
     "output_type": "stream",
     "text": [
      "Record updated successfully...\n"
     ]
    }
   ],
   "source": [
    "import mysql.connector  \n",
    "mysqldb=mysql.connector.connect(host=\"localhost\",user=\"root\",password=\"Password-1\",database=\"dbpython\")#established connection between your database  \n",
    "mycursor=mysqldb.cursor()#cursor() method create a cursor object  \n",
    "try:  \n",
    "   mycursor.execute(\"UPDATE student SET name='Ramu', marks=100 WHERE roll=1\")#Execute SQL Query to update record\n",
    "   mysqldb.commit() # Commit is used for your changes in the database  \n",
    "   print('Record updated successfully...')   \n",
    "except:   \n",
    "   # rollback used for if any error  \n",
    "   mysqldb.rollback()  \n",
    "mysqldb.close()#Connection Close  "
   ]
  },
  {
   "cell_type": "markdown",
   "id": "550e9ffb",
   "metadata": {},
   "source": [
    "Delete record"
   ]
  },
  {
   "cell_type": "code",
   "execution_count": 20,
   "id": "88db943d",
   "metadata": {},
   "outputs": [
    {
     "name": "stdout",
     "output_type": "stream",
     "text": [
      "Record deteted successfully...\n"
     ]
    }
   ],
   "source": [
    "import mysql.connector   \n",
    "mysqldb=mysql.connector.connect(host=\"localhost\",user=\"root\",password=\"Password-1\",database=\"dbpython\")#established connection between your database  \n",
    "mycursor=mysqldb.cursor()#cursor() method create a cursor object   \n",
    "try:   \n",
    "   mycursor.execute(\"DELETE FROM student WHERE roll=3\")#Execute SQL Query to detete a record   \n",
    "   mysqldb.commit() # Commit is used for your changes in the database  \n",
    "   print('Record deteted successfully...')  \n",
    "except:  \n",
    "   # rollback used for if any error  \n",
    "   mysqldb.rollback()  \n",
    "mysqldb.close()#Connection Close \n"
   ]
  },
  {
   "cell_type": "code",
   "execution_count": null,
   "id": "5bf80021",
   "metadata": {},
   "outputs": [],
   "source": []
  }
 ],
 "metadata": {
  "kernelspec": {
   "display_name": "Python 3",
   "language": "python",
   "name": "python3"
  },
  "language_info": {
   "codemirror_mode": {
    "name": "ipython",
    "version": 3
   },
   "file_extension": ".py",
   "mimetype": "text/x-python",
   "name": "python",
   "nbconvert_exporter": "python",
   "pygments_lexer": "ipython3",
   "version": "3.8.8"
  }
 },
 "nbformat": 4,
 "nbformat_minor": 5
}
